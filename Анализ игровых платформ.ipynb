{
 "cells": [
  {
   "cell_type": "markdown",
   "metadata": {},
   "source": [
    "Цель работы - выявить закономерности для определения потенциально успешного продукта.\n",
    "План работы :\n",
    "1. Проверить данные\n",
    "2. Провести анализ данных, определить потенциально прибыльные платформы\n",
    "3. Посмотреть на различия по регионам\n",
    "4. Проверить гипотизы\n",
    "5. Подготовить обший вывод\n"
   ]
  },
  {
   "cell_type": "code",
   "execution_count": 1,
   "metadata": {},
   "outputs": [],
   "source": [
    "import pandas as pd\n",
    "import seaborn as sns\n",
    "import matplotlib as plt\n",
    "import matplotlib.pyplot as plt\n",
    "import warnings\n",
    "warnings.simplefilter(\"ignore\")"
   ]
  },
  {
   "cell_type": "markdown",
   "metadata": {},
   "source": [
    "### Импорт данных"
   ]
  },
  {
   "cell_type": "code",
   "execution_count": 2,
   "metadata": {},
   "outputs": [],
   "source": [
    "data = pd.read_csv('/datasets/games.csv')"
   ]
  },
  {
   "cell_type": "code",
   "execution_count": 3,
   "metadata": {},
   "outputs": [
    {
     "data": {
      "text/html": [
       "<div>\n",
       "<style scoped>\n",
       "    .dataframe tbody tr th:only-of-type {\n",
       "        vertical-align: middle;\n",
       "    }\n",
       "\n",
       "    .dataframe tbody tr th {\n",
       "        vertical-align: top;\n",
       "    }\n",
       "\n",
       "    .dataframe thead th {\n",
       "        text-align: right;\n",
       "    }\n",
       "</style>\n",
       "<table border=\"1\" class=\"dataframe\">\n",
       "  <thead>\n",
       "    <tr style=\"text-align: right;\">\n",
       "      <th></th>\n",
       "      <th>Name</th>\n",
       "      <th>Platform</th>\n",
       "      <th>Year_of_Release</th>\n",
       "      <th>Genre</th>\n",
       "      <th>NA_sales</th>\n",
       "      <th>EU_sales</th>\n",
       "      <th>JP_sales</th>\n",
       "      <th>Other_sales</th>\n",
       "      <th>Critic_Score</th>\n",
       "      <th>User_Score</th>\n",
       "      <th>Rating</th>\n",
       "    </tr>\n",
       "  </thead>\n",
       "  <tbody>\n",
       "    <tr>\n",
       "      <th>0</th>\n",
       "      <td>Wii Sports</td>\n",
       "      <td>Wii</td>\n",
       "      <td>2006.0</td>\n",
       "      <td>Sports</td>\n",
       "      <td>41.36</td>\n",
       "      <td>28.96</td>\n",
       "      <td>3.77</td>\n",
       "      <td>8.45</td>\n",
       "      <td>76.0</td>\n",
       "      <td>8</td>\n",
       "      <td>E</td>\n",
       "    </tr>\n",
       "    <tr>\n",
       "      <th>1</th>\n",
       "      <td>Super Mario Bros.</td>\n",
       "      <td>NES</td>\n",
       "      <td>1985.0</td>\n",
       "      <td>Platform</td>\n",
       "      <td>29.08</td>\n",
       "      <td>3.58</td>\n",
       "      <td>6.81</td>\n",
       "      <td>0.77</td>\n",
       "      <td>NaN</td>\n",
       "      <td>NaN</td>\n",
       "      <td>NaN</td>\n",
       "    </tr>\n",
       "    <tr>\n",
       "      <th>2</th>\n",
       "      <td>Mario Kart Wii</td>\n",
       "      <td>Wii</td>\n",
       "      <td>2008.0</td>\n",
       "      <td>Racing</td>\n",
       "      <td>15.68</td>\n",
       "      <td>12.76</td>\n",
       "      <td>3.79</td>\n",
       "      <td>3.29</td>\n",
       "      <td>82.0</td>\n",
       "      <td>8.3</td>\n",
       "      <td>E</td>\n",
       "    </tr>\n",
       "    <tr>\n",
       "      <th>3</th>\n",
       "      <td>Wii Sports Resort</td>\n",
       "      <td>Wii</td>\n",
       "      <td>2009.0</td>\n",
       "      <td>Sports</td>\n",
       "      <td>15.61</td>\n",
       "      <td>10.93</td>\n",
       "      <td>3.28</td>\n",
       "      <td>2.95</td>\n",
       "      <td>80.0</td>\n",
       "      <td>8</td>\n",
       "      <td>E</td>\n",
       "    </tr>\n",
       "    <tr>\n",
       "      <th>4</th>\n",
       "      <td>Pokemon Red/Pokemon Blue</td>\n",
       "      <td>GB</td>\n",
       "      <td>1996.0</td>\n",
       "      <td>Role-Playing</td>\n",
       "      <td>11.27</td>\n",
       "      <td>8.89</td>\n",
       "      <td>10.22</td>\n",
       "      <td>1.00</td>\n",
       "      <td>NaN</td>\n",
       "      <td>NaN</td>\n",
       "      <td>NaN</td>\n",
       "    </tr>\n",
       "    <tr>\n",
       "      <th>...</th>\n",
       "      <td>...</td>\n",
       "      <td>...</td>\n",
       "      <td>...</td>\n",
       "      <td>...</td>\n",
       "      <td>...</td>\n",
       "      <td>...</td>\n",
       "      <td>...</td>\n",
       "      <td>...</td>\n",
       "      <td>...</td>\n",
       "      <td>...</td>\n",
       "      <td>...</td>\n",
       "    </tr>\n",
       "    <tr>\n",
       "      <th>16710</th>\n",
       "      <td>Samurai Warriors: Sanada Maru</td>\n",
       "      <td>PS3</td>\n",
       "      <td>2016.0</td>\n",
       "      <td>Action</td>\n",
       "      <td>0.00</td>\n",
       "      <td>0.00</td>\n",
       "      <td>0.01</td>\n",
       "      <td>0.00</td>\n",
       "      <td>NaN</td>\n",
       "      <td>NaN</td>\n",
       "      <td>NaN</td>\n",
       "    </tr>\n",
       "    <tr>\n",
       "      <th>16711</th>\n",
       "      <td>LMA Manager 2007</td>\n",
       "      <td>X360</td>\n",
       "      <td>2006.0</td>\n",
       "      <td>Sports</td>\n",
       "      <td>0.00</td>\n",
       "      <td>0.01</td>\n",
       "      <td>0.00</td>\n",
       "      <td>0.00</td>\n",
       "      <td>NaN</td>\n",
       "      <td>NaN</td>\n",
       "      <td>NaN</td>\n",
       "    </tr>\n",
       "    <tr>\n",
       "      <th>16712</th>\n",
       "      <td>Haitaka no Psychedelica</td>\n",
       "      <td>PSV</td>\n",
       "      <td>2016.0</td>\n",
       "      <td>Adventure</td>\n",
       "      <td>0.00</td>\n",
       "      <td>0.00</td>\n",
       "      <td>0.01</td>\n",
       "      <td>0.00</td>\n",
       "      <td>NaN</td>\n",
       "      <td>NaN</td>\n",
       "      <td>NaN</td>\n",
       "    </tr>\n",
       "    <tr>\n",
       "      <th>16713</th>\n",
       "      <td>Spirits &amp; Spells</td>\n",
       "      <td>GBA</td>\n",
       "      <td>2003.0</td>\n",
       "      <td>Platform</td>\n",
       "      <td>0.01</td>\n",
       "      <td>0.00</td>\n",
       "      <td>0.00</td>\n",
       "      <td>0.00</td>\n",
       "      <td>NaN</td>\n",
       "      <td>NaN</td>\n",
       "      <td>NaN</td>\n",
       "    </tr>\n",
       "    <tr>\n",
       "      <th>16714</th>\n",
       "      <td>Winning Post 8 2016</td>\n",
       "      <td>PSV</td>\n",
       "      <td>2016.0</td>\n",
       "      <td>Simulation</td>\n",
       "      <td>0.00</td>\n",
       "      <td>0.00</td>\n",
       "      <td>0.01</td>\n",
       "      <td>0.00</td>\n",
       "      <td>NaN</td>\n",
       "      <td>NaN</td>\n",
       "      <td>NaN</td>\n",
       "    </tr>\n",
       "  </tbody>\n",
       "</table>\n",
       "<p>16715 rows × 11 columns</p>\n",
       "</div>"
      ],
      "text/plain": [
       "                                Name Platform  Year_of_Release         Genre  \\\n",
       "0                         Wii Sports      Wii           2006.0        Sports   \n",
       "1                  Super Mario Bros.      NES           1985.0      Platform   \n",
       "2                     Mario Kart Wii      Wii           2008.0        Racing   \n",
       "3                  Wii Sports Resort      Wii           2009.0        Sports   \n",
       "4           Pokemon Red/Pokemon Blue       GB           1996.0  Role-Playing   \n",
       "...                              ...      ...              ...           ...   \n",
       "16710  Samurai Warriors: Sanada Maru      PS3           2016.0        Action   \n",
       "16711               LMA Manager 2007     X360           2006.0        Sports   \n",
       "16712        Haitaka no Psychedelica      PSV           2016.0     Adventure   \n",
       "16713               Spirits & Spells      GBA           2003.0      Platform   \n",
       "16714            Winning Post 8 2016      PSV           2016.0    Simulation   \n",
       "\n",
       "       NA_sales  EU_sales  JP_sales  Other_sales  Critic_Score User_Score  \\\n",
       "0         41.36     28.96      3.77         8.45          76.0          8   \n",
       "1         29.08      3.58      6.81         0.77           NaN        NaN   \n",
       "2         15.68     12.76      3.79         3.29          82.0        8.3   \n",
       "3         15.61     10.93      3.28         2.95          80.0          8   \n",
       "4         11.27      8.89     10.22         1.00           NaN        NaN   \n",
       "...         ...       ...       ...          ...           ...        ...   \n",
       "16710      0.00      0.00      0.01         0.00           NaN        NaN   \n",
       "16711      0.00      0.01      0.00         0.00           NaN        NaN   \n",
       "16712      0.00      0.00      0.01         0.00           NaN        NaN   \n",
       "16713      0.01      0.00      0.00         0.00           NaN        NaN   \n",
       "16714      0.00      0.00      0.01         0.00           NaN        NaN   \n",
       "\n",
       "      Rating  \n",
       "0          E  \n",
       "1        NaN  \n",
       "2          E  \n",
       "3          E  \n",
       "4        NaN  \n",
       "...      ...  \n",
       "16710    NaN  \n",
       "16711    NaN  \n",
       "16712    NaN  \n",
       "16713    NaN  \n",
       "16714    NaN  \n",
       "\n",
       "[16715 rows x 11 columns]"
      ]
     },
     "execution_count": 3,
     "metadata": {},
     "output_type": "execute_result"
    }
   ],
   "source": [
    "data # смотрим как выглядит датафрейм"
   ]
  },
  {
   "cell_type": "code",
   "execution_count": 4,
   "metadata": {},
   "outputs": [
    {
     "data": {
      "text/html": [
       "<div>\n",
       "<style scoped>\n",
       "    .dataframe tbody tr th:only-of-type {\n",
       "        vertical-align: middle;\n",
       "    }\n",
       "\n",
       "    .dataframe tbody tr th {\n",
       "        vertical-align: top;\n",
       "    }\n",
       "\n",
       "    .dataframe thead th {\n",
       "        text-align: right;\n",
       "    }\n",
       "</style>\n",
       "<table border=\"1\" class=\"dataframe\">\n",
       "  <thead>\n",
       "    <tr style=\"text-align: right;\">\n",
       "      <th></th>\n",
       "      <th>Year_of_Release</th>\n",
       "      <th>NA_sales</th>\n",
       "      <th>EU_sales</th>\n",
       "      <th>JP_sales</th>\n",
       "      <th>Other_sales</th>\n",
       "      <th>Critic_Score</th>\n",
       "    </tr>\n",
       "  </thead>\n",
       "  <tbody>\n",
       "    <tr>\n",
       "      <th>count</th>\n",
       "      <td>16446.000000</td>\n",
       "      <td>16715.000000</td>\n",
       "      <td>16715.000000</td>\n",
       "      <td>16715.000000</td>\n",
       "      <td>16715.000000</td>\n",
       "      <td>8137.000000</td>\n",
       "    </tr>\n",
       "    <tr>\n",
       "      <th>mean</th>\n",
       "      <td>2006.484616</td>\n",
       "      <td>0.263377</td>\n",
       "      <td>0.145060</td>\n",
       "      <td>0.077617</td>\n",
       "      <td>0.047342</td>\n",
       "      <td>68.967679</td>\n",
       "    </tr>\n",
       "    <tr>\n",
       "      <th>std</th>\n",
       "      <td>5.877050</td>\n",
       "      <td>0.813604</td>\n",
       "      <td>0.503339</td>\n",
       "      <td>0.308853</td>\n",
       "      <td>0.186731</td>\n",
       "      <td>13.938165</td>\n",
       "    </tr>\n",
       "    <tr>\n",
       "      <th>min</th>\n",
       "      <td>1980.000000</td>\n",
       "      <td>0.000000</td>\n",
       "      <td>0.000000</td>\n",
       "      <td>0.000000</td>\n",
       "      <td>0.000000</td>\n",
       "      <td>13.000000</td>\n",
       "    </tr>\n",
       "    <tr>\n",
       "      <th>25%</th>\n",
       "      <td>2003.000000</td>\n",
       "      <td>0.000000</td>\n",
       "      <td>0.000000</td>\n",
       "      <td>0.000000</td>\n",
       "      <td>0.000000</td>\n",
       "      <td>60.000000</td>\n",
       "    </tr>\n",
       "    <tr>\n",
       "      <th>50%</th>\n",
       "      <td>2007.000000</td>\n",
       "      <td>0.080000</td>\n",
       "      <td>0.020000</td>\n",
       "      <td>0.000000</td>\n",
       "      <td>0.010000</td>\n",
       "      <td>71.000000</td>\n",
       "    </tr>\n",
       "    <tr>\n",
       "      <th>75%</th>\n",
       "      <td>2010.000000</td>\n",
       "      <td>0.240000</td>\n",
       "      <td>0.110000</td>\n",
       "      <td>0.040000</td>\n",
       "      <td>0.030000</td>\n",
       "      <td>79.000000</td>\n",
       "    </tr>\n",
       "    <tr>\n",
       "      <th>max</th>\n",
       "      <td>2016.000000</td>\n",
       "      <td>41.360000</td>\n",
       "      <td>28.960000</td>\n",
       "      <td>10.220000</td>\n",
       "      <td>10.570000</td>\n",
       "      <td>98.000000</td>\n",
       "    </tr>\n",
       "  </tbody>\n",
       "</table>\n",
       "</div>"
      ],
      "text/plain": [
       "       Year_of_Release      NA_sales      EU_sales      JP_sales  \\\n",
       "count     16446.000000  16715.000000  16715.000000  16715.000000   \n",
       "mean       2006.484616      0.263377      0.145060      0.077617   \n",
       "std           5.877050      0.813604      0.503339      0.308853   \n",
       "min        1980.000000      0.000000      0.000000      0.000000   \n",
       "25%        2003.000000      0.000000      0.000000      0.000000   \n",
       "50%        2007.000000      0.080000      0.020000      0.000000   \n",
       "75%        2010.000000      0.240000      0.110000      0.040000   \n",
       "max        2016.000000     41.360000     28.960000     10.220000   \n",
       "\n",
       "        Other_sales  Critic_Score  \n",
       "count  16715.000000   8137.000000  \n",
       "mean       0.047342     68.967679  \n",
       "std        0.186731     13.938165  \n",
       "min        0.000000     13.000000  \n",
       "25%        0.000000     60.000000  \n",
       "50%        0.010000     71.000000  \n",
       "75%        0.030000     79.000000  \n",
       "max       10.570000     98.000000  "
      ]
     },
     "execution_count": 4,
     "metadata": {},
     "output_type": "execute_result"
    }
   ],
   "source": [
    "data.describe()"
   ]
  },
  {
   "cell_type": "code",
   "execution_count": 5,
   "metadata": {},
   "outputs": [
    {
     "data": {
      "text/plain": [
       "0"
      ]
     },
     "execution_count": 5,
     "metadata": {},
     "output_type": "execute_result"
    }
   ],
   "source": [
    "data.duplicated().sum() # явные дубликаты не найдены"
   ]
  },
  {
   "cell_type": "code",
   "execution_count": 6,
   "metadata": {},
   "outputs": [
    {
     "data": {
      "text/html": [
       "<div>\n",
       "<style scoped>\n",
       "    .dataframe tbody tr th:only-of-type {\n",
       "        vertical-align: middle;\n",
       "    }\n",
       "\n",
       "    .dataframe tbody tr th {\n",
       "        vertical-align: top;\n",
       "    }\n",
       "\n",
       "    .dataframe thead th {\n",
       "        text-align: right;\n",
       "    }\n",
       "</style>\n",
       "<table border=\"1\" class=\"dataframe\">\n",
       "  <thead>\n",
       "    <tr style=\"text-align: right;\">\n",
       "      <th></th>\n",
       "      <th>Name</th>\n",
       "      <th>Platform</th>\n",
       "      <th>Year_of_Release</th>\n",
       "      <th>Genre</th>\n",
       "      <th>NA_sales</th>\n",
       "      <th>EU_sales</th>\n",
       "      <th>JP_sales</th>\n",
       "      <th>Other_sales</th>\n",
       "      <th>Critic_Score</th>\n",
       "      <th>User_Score</th>\n",
       "      <th>Rating</th>\n",
       "    </tr>\n",
       "  </thead>\n",
       "  <tbody>\n",
       "    <tr>\n",
       "      <th>253</th>\n",
       "      <td>Need for Speed: Most Wanted</td>\n",
       "      <td>PS2</td>\n",
       "      <td>2005.0</td>\n",
       "      <td>Racing</td>\n",
       "      <td>2.03</td>\n",
       "      <td>1.79</td>\n",
       "      <td>0.08</td>\n",
       "      <td>0.47</td>\n",
       "      <td>82.0</td>\n",
       "      <td>9.1</td>\n",
       "      <td>T</td>\n",
       "    </tr>\n",
       "    <tr>\n",
       "      <th>523</th>\n",
       "      <td>Need for Speed: Most Wanted</td>\n",
       "      <td>PS3</td>\n",
       "      <td>2012.0</td>\n",
       "      <td>Racing</td>\n",
       "      <td>0.71</td>\n",
       "      <td>1.46</td>\n",
       "      <td>0.06</td>\n",
       "      <td>0.58</td>\n",
       "      <td>NaN</td>\n",
       "      <td>NaN</td>\n",
       "      <td>NaN</td>\n",
       "    </tr>\n",
       "    <tr>\n",
       "      <th>1190</th>\n",
       "      <td>Need for Speed: Most Wanted</td>\n",
       "      <td>X360</td>\n",
       "      <td>2012.0</td>\n",
       "      <td>Racing</td>\n",
       "      <td>0.62</td>\n",
       "      <td>0.78</td>\n",
       "      <td>0.01</td>\n",
       "      <td>0.15</td>\n",
       "      <td>83.0</td>\n",
       "      <td>8.5</td>\n",
       "      <td>T</td>\n",
       "    </tr>\n",
       "    <tr>\n",
       "      <th>1591</th>\n",
       "      <td>Need for Speed: Most Wanted</td>\n",
       "      <td>X360</td>\n",
       "      <td>2005.0</td>\n",
       "      <td>Racing</td>\n",
       "      <td>1.00</td>\n",
       "      <td>0.13</td>\n",
       "      <td>0.02</td>\n",
       "      <td>0.10</td>\n",
       "      <td>83.0</td>\n",
       "      <td>8.5</td>\n",
       "      <td>T</td>\n",
       "    </tr>\n",
       "    <tr>\n",
       "      <th>1998</th>\n",
       "      <td>Need for Speed: Most Wanted</td>\n",
       "      <td>XB</td>\n",
       "      <td>2005.0</td>\n",
       "      <td>Racing</td>\n",
       "      <td>0.53</td>\n",
       "      <td>0.46</td>\n",
       "      <td>0.00</td>\n",
       "      <td>0.05</td>\n",
       "      <td>83.0</td>\n",
       "      <td>8.8</td>\n",
       "      <td>T</td>\n",
       "    </tr>\n",
       "    <tr>\n",
       "      <th>2048</th>\n",
       "      <td>Need for Speed: Most Wanted</td>\n",
       "      <td>PSV</td>\n",
       "      <td>2012.0</td>\n",
       "      <td>Racing</td>\n",
       "      <td>0.33</td>\n",
       "      <td>0.45</td>\n",
       "      <td>0.01</td>\n",
       "      <td>0.22</td>\n",
       "      <td>NaN</td>\n",
       "      <td>NaN</td>\n",
       "      <td>NaN</td>\n",
       "    </tr>\n",
       "    <tr>\n",
       "      <th>3581</th>\n",
       "      <td>Need for Speed: Most Wanted</td>\n",
       "      <td>GC</td>\n",
       "      <td>2005.0</td>\n",
       "      <td>Racing</td>\n",
       "      <td>0.43</td>\n",
       "      <td>0.11</td>\n",
       "      <td>0.00</td>\n",
       "      <td>0.02</td>\n",
       "      <td>80.0</td>\n",
       "      <td>9.1</td>\n",
       "      <td>T</td>\n",
       "    </tr>\n",
       "    <tr>\n",
       "      <th>5972</th>\n",
       "      <td>Need for Speed: Most Wanted</td>\n",
       "      <td>PC</td>\n",
       "      <td>2005.0</td>\n",
       "      <td>Racing</td>\n",
       "      <td>0.02</td>\n",
       "      <td>0.23</td>\n",
       "      <td>0.00</td>\n",
       "      <td>0.04</td>\n",
       "      <td>82.0</td>\n",
       "      <td>8.5</td>\n",
       "      <td>T</td>\n",
       "    </tr>\n",
       "    <tr>\n",
       "      <th>6273</th>\n",
       "      <td>Need for Speed: Most Wanted</td>\n",
       "      <td>WiiU</td>\n",
       "      <td>2013.0</td>\n",
       "      <td>Racing</td>\n",
       "      <td>0.13</td>\n",
       "      <td>0.12</td>\n",
       "      <td>0.00</td>\n",
       "      <td>0.02</td>\n",
       "      <td>NaN</td>\n",
       "      <td>NaN</td>\n",
       "      <td>NaN</td>\n",
       "    </tr>\n",
       "    <tr>\n",
       "      <th>6410</th>\n",
       "      <td>Need for Speed: Most Wanted</td>\n",
       "      <td>DS</td>\n",
       "      <td>2005.0</td>\n",
       "      <td>Racing</td>\n",
       "      <td>0.24</td>\n",
       "      <td>0.01</td>\n",
       "      <td>0.00</td>\n",
       "      <td>0.02</td>\n",
       "      <td>45.0</td>\n",
       "      <td>6.1</td>\n",
       "      <td>E</td>\n",
       "    </tr>\n",
       "    <tr>\n",
       "      <th>6473</th>\n",
       "      <td>Need for Speed: Most Wanted</td>\n",
       "      <td>GBA</td>\n",
       "      <td>2005.0</td>\n",
       "      <td>Racing</td>\n",
       "      <td>0.19</td>\n",
       "      <td>0.07</td>\n",
       "      <td>0.00</td>\n",
       "      <td>0.00</td>\n",
       "      <td>NaN</td>\n",
       "      <td>8.3</td>\n",
       "      <td>E</td>\n",
       "    </tr>\n",
       "    <tr>\n",
       "      <th>11715</th>\n",
       "      <td>Need for Speed: Most Wanted</td>\n",
       "      <td>PC</td>\n",
       "      <td>2012.0</td>\n",
       "      <td>Racing</td>\n",
       "      <td>0.00</td>\n",
       "      <td>0.06</td>\n",
       "      <td>0.00</td>\n",
       "      <td>0.02</td>\n",
       "      <td>82.0</td>\n",
       "      <td>8.5</td>\n",
       "      <td>T</td>\n",
       "    </tr>\n",
       "  </tbody>\n",
       "</table>\n",
       "</div>"
      ],
      "text/plain": [
       "                              Name Platform  Year_of_Release   Genre  \\\n",
       "253    Need for Speed: Most Wanted      PS2           2005.0  Racing   \n",
       "523    Need for Speed: Most Wanted      PS3           2012.0  Racing   \n",
       "1190   Need for Speed: Most Wanted     X360           2012.0  Racing   \n",
       "1591   Need for Speed: Most Wanted     X360           2005.0  Racing   \n",
       "1998   Need for Speed: Most Wanted       XB           2005.0  Racing   \n",
       "2048   Need for Speed: Most Wanted      PSV           2012.0  Racing   \n",
       "3581   Need for Speed: Most Wanted       GC           2005.0  Racing   \n",
       "5972   Need for Speed: Most Wanted       PC           2005.0  Racing   \n",
       "6273   Need for Speed: Most Wanted     WiiU           2013.0  Racing   \n",
       "6410   Need for Speed: Most Wanted       DS           2005.0  Racing   \n",
       "6473   Need for Speed: Most Wanted      GBA           2005.0  Racing   \n",
       "11715  Need for Speed: Most Wanted       PC           2012.0  Racing   \n",
       "\n",
       "       NA_sales  EU_sales  JP_sales  Other_sales  Critic_Score User_Score  \\\n",
       "253        2.03      1.79      0.08         0.47          82.0        9.1   \n",
       "523        0.71      1.46      0.06         0.58           NaN        NaN   \n",
       "1190       0.62      0.78      0.01         0.15          83.0        8.5   \n",
       "1591       1.00      0.13      0.02         0.10          83.0        8.5   \n",
       "1998       0.53      0.46      0.00         0.05          83.0        8.8   \n",
       "2048       0.33      0.45      0.01         0.22           NaN        NaN   \n",
       "3581       0.43      0.11      0.00         0.02          80.0        9.1   \n",
       "5972       0.02      0.23      0.00         0.04          82.0        8.5   \n",
       "6273       0.13      0.12      0.00         0.02           NaN        NaN   \n",
       "6410       0.24      0.01      0.00         0.02          45.0        6.1   \n",
       "6473       0.19      0.07      0.00         0.00           NaN        8.3   \n",
       "11715      0.00      0.06      0.00         0.02          82.0        8.5   \n",
       "\n",
       "      Rating  \n",
       "253        T  \n",
       "523      NaN  \n",
       "1190       T  \n",
       "1591       T  \n",
       "1998       T  \n",
       "2048     NaN  \n",
       "3581       T  \n",
       "5972       T  \n",
       "6273     NaN  \n",
       "6410       E  \n",
       "6473       E  \n",
       "11715      T  "
      ]
     },
     "execution_count": 6,
     "metadata": {},
     "output_type": "execute_result"
    }
   ],
   "source": [
    "data['Name'].value_counts() \n",
    "data.loc[data['Name'] == 'Need for Speed: Most Wanted'] # проверяем повторяющиеся значения Name, при примере NFS"
   ]
  },
  {
   "cell_type": "markdown",
   "metadata": {},
   "source": [
    "### Подготовка данных"
   ]
  },
  {
   "cell_type": "code",
   "execution_count": 7,
   "metadata": {},
   "outputs": [
    {
     "name": "stdout",
     "output_type": "stream",
     "text": [
      "<class 'pandas.core.frame.DataFrame'>\n",
      "RangeIndex: 16715 entries, 0 to 16714\n",
      "Data columns (total 11 columns):\n",
      " #   Column           Non-Null Count  Dtype  \n",
      "---  ------           --------------  -----  \n",
      " 0   Name             16713 non-null  object \n",
      " 1   Platform         16715 non-null  object \n",
      " 2   Year_of_Release  16446 non-null  float64\n",
      " 3   Genre            16713 non-null  object \n",
      " 4   NA_sales         16715 non-null  float64\n",
      " 5   EU_sales         16715 non-null  float64\n",
      " 6   JP_sales         16715 non-null  float64\n",
      " 7   Other_sales      16715 non-null  float64\n",
      " 8   Critic_Score     8137 non-null   float64\n",
      " 9   User_Score       10014 non-null  object \n",
      " 10  Rating           9949 non-null   object \n",
      "dtypes: float64(6), object(5)\n",
      "memory usage: 1.4+ MB\n"
     ]
    }
   ],
   "source": [
    "data.info() # смотрим информацию по типам данных"
   ]
  },
  {
   "cell_type": "code",
   "execution_count": 8,
   "metadata": {},
   "outputs": [],
   "source": [
    "data.columns = data.columns.str.lower() # приводим название столбцов к нижнему регистру"
   ]
  },
  {
   "cell_type": "code",
   "execution_count": 9,
   "metadata": {},
   "outputs": [
    {
     "data": {
      "text/plain": [
       "name                  2\n",
       "platform              0\n",
       "year_of_release     269\n",
       "genre                 2\n",
       "na_sales              0\n",
       "eu_sales              0\n",
       "jp_sales              0\n",
       "other_sales           0\n",
       "critic_score       8578\n",
       "user_score         6701\n",
       "rating             6766\n",
       "dtype: int64"
      ]
     },
     "execution_count": 9,
     "metadata": {},
     "output_type": "execute_result"
    }
   ],
   "source": [
    "data.isna().sum() # проверяем пропуски"
   ]
  },
  {
   "cell_type": "code",
   "execution_count": 10,
   "metadata": {},
   "outputs": [
    {
     "data": {
      "text/html": [
       "<div>\n",
       "<style scoped>\n",
       "    .dataframe tbody tr th:only-of-type {\n",
       "        vertical-align: middle;\n",
       "    }\n",
       "\n",
       "    .dataframe tbody tr th {\n",
       "        vertical-align: top;\n",
       "    }\n",
       "\n",
       "    .dataframe thead th {\n",
       "        text-align: right;\n",
       "    }\n",
       "</style>\n",
       "<table border=\"1\" class=\"dataframe\">\n",
       "  <thead>\n",
       "    <tr style=\"text-align: right;\">\n",
       "      <th></th>\n",
       "      <th>name</th>\n",
       "      <th>platform</th>\n",
       "      <th>year_of_release</th>\n",
       "      <th>genre</th>\n",
       "      <th>na_sales</th>\n",
       "      <th>eu_sales</th>\n",
       "      <th>jp_sales</th>\n",
       "      <th>other_sales</th>\n",
       "      <th>critic_score</th>\n",
       "      <th>user_score</th>\n",
       "      <th>rating</th>\n",
       "    </tr>\n",
       "  </thead>\n",
       "  <tbody>\n",
       "    <tr>\n",
       "      <th>659</th>\n",
       "      <td>NaN</td>\n",
       "      <td>GEN</td>\n",
       "      <td>1993.0</td>\n",
       "      <td>NaN</td>\n",
       "      <td>1.78</td>\n",
       "      <td>0.53</td>\n",
       "      <td>0.00</td>\n",
       "      <td>0.08</td>\n",
       "      <td>NaN</td>\n",
       "      <td>NaN</td>\n",
       "      <td>NaN</td>\n",
       "    </tr>\n",
       "    <tr>\n",
       "      <th>14244</th>\n",
       "      <td>NaN</td>\n",
       "      <td>GEN</td>\n",
       "      <td>1993.0</td>\n",
       "      <td>NaN</td>\n",
       "      <td>0.00</td>\n",
       "      <td>0.00</td>\n",
       "      <td>0.03</td>\n",
       "      <td>0.00</td>\n",
       "      <td>NaN</td>\n",
       "      <td>NaN</td>\n",
       "      <td>NaN</td>\n",
       "    </tr>\n",
       "  </tbody>\n",
       "</table>\n",
       "</div>"
      ],
      "text/plain": [
       "      name platform  year_of_release genre  na_sales  eu_sales  jp_sales  \\\n",
       "659    NaN      GEN           1993.0   NaN      1.78      0.53      0.00   \n",
       "14244  NaN      GEN           1993.0   NaN      0.00      0.00      0.03   \n",
       "\n",
       "       other_sales  critic_score user_score rating  \n",
       "659           0.08           NaN        NaN    NaN  \n",
       "14244         0.00           NaN        NaN    NaN  "
      ]
     },
     "execution_count": 10,
     "metadata": {},
     "output_type": "execute_result"
    }
   ],
   "source": [
    "data.loc[data['name'].isnull()] # без названия игры эти данные нам ничем не помогут, так же в этих строках есть 2 пропуска жанра"
   ]
  },
  {
   "cell_type": "code",
   "execution_count": 11,
   "metadata": {},
   "outputs": [],
   "source": [
    "data = data.dropna(subset = ['name']) # убираем отсутсвующие значения с названием игры"
   ]
  },
  {
   "cell_type": "code",
   "execution_count": 12,
   "metadata": {},
   "outputs": [],
   "source": [
    "data['year_of_release'].isnull().value_counts() # Проверяем кол-во пропушенных значений\n",
    "data = data.dropna(subset = ['year_of_release'])\n",
    "data['year_of_release'].isnull().value_counts()\n",
    "data['year_of_release'] = data['year_of_release'].astype('int') # меняем тип данных на целые, так как год выпуска не может быть не целым числом"
   ]
  },
  {
   "cell_type": "code",
   "execution_count": 13,
   "metadata": {},
   "outputs": [
    {
     "data": {
      "text/html": [
       "<div>\n",
       "<style scoped>\n",
       "    .dataframe tbody tr th:only-of-type {\n",
       "        vertical-align: middle;\n",
       "    }\n",
       "\n",
       "    .dataframe tbody tr th {\n",
       "        vertical-align: top;\n",
       "    }\n",
       "\n",
       "    .dataframe thead th {\n",
       "        text-align: right;\n",
       "    }\n",
       "</style>\n",
       "<table border=\"1\" class=\"dataframe\">\n",
       "  <thead>\n",
       "    <tr style=\"text-align: right;\">\n",
       "      <th></th>\n",
       "      <th>name</th>\n",
       "      <th>platform</th>\n",
       "      <th>year_of_release</th>\n",
       "      <th>genre</th>\n",
       "      <th>na_sales</th>\n",
       "      <th>eu_sales</th>\n",
       "      <th>jp_sales</th>\n",
       "      <th>other_sales</th>\n",
       "      <th>critic_score</th>\n",
       "      <th>user_score</th>\n",
       "      <th>rating</th>\n",
       "    </tr>\n",
       "  </thead>\n",
       "  <tbody>\n",
       "    <tr>\n",
       "      <th>119</th>\n",
       "      <td>Zumba Fitness</td>\n",
       "      <td>Wii</td>\n",
       "      <td>2010</td>\n",
       "      <td>Sports</td>\n",
       "      <td>3.45</td>\n",
       "      <td>2.59</td>\n",
       "      <td>0.0</td>\n",
       "      <td>0.66</td>\n",
       "      <td>NaN</td>\n",
       "      <td>tbd</td>\n",
       "      <td>E</td>\n",
       "    </tr>\n",
       "    <tr>\n",
       "      <th>301</th>\n",
       "      <td>Namco Museum: 50th Anniversary</td>\n",
       "      <td>PS2</td>\n",
       "      <td>2005</td>\n",
       "      <td>Misc</td>\n",
       "      <td>2.08</td>\n",
       "      <td>1.35</td>\n",
       "      <td>0.0</td>\n",
       "      <td>0.54</td>\n",
       "      <td>61.0</td>\n",
       "      <td>tbd</td>\n",
       "      <td>E10+</td>\n",
       "    </tr>\n",
       "    <tr>\n",
       "      <th>520</th>\n",
       "      <td>Zumba Fitness 2</td>\n",
       "      <td>Wii</td>\n",
       "      <td>2011</td>\n",
       "      <td>Sports</td>\n",
       "      <td>1.51</td>\n",
       "      <td>1.03</td>\n",
       "      <td>0.0</td>\n",
       "      <td>0.27</td>\n",
       "      <td>NaN</td>\n",
       "      <td>tbd</td>\n",
       "      <td>T</td>\n",
       "    </tr>\n",
       "    <tr>\n",
       "      <th>645</th>\n",
       "      <td>uDraw Studio</td>\n",
       "      <td>Wii</td>\n",
       "      <td>2010</td>\n",
       "      <td>Misc</td>\n",
       "      <td>1.65</td>\n",
       "      <td>0.57</td>\n",
       "      <td>0.0</td>\n",
       "      <td>0.20</td>\n",
       "      <td>71.0</td>\n",
       "      <td>tbd</td>\n",
       "      <td>E</td>\n",
       "    </tr>\n",
       "    <tr>\n",
       "      <th>718</th>\n",
       "      <td>Just Dance Kids</td>\n",
       "      <td>Wii</td>\n",
       "      <td>2010</td>\n",
       "      <td>Misc</td>\n",
       "      <td>1.52</td>\n",
       "      <td>0.54</td>\n",
       "      <td>0.0</td>\n",
       "      <td>0.18</td>\n",
       "      <td>NaN</td>\n",
       "      <td>tbd</td>\n",
       "      <td>E</td>\n",
       "    </tr>\n",
       "    <tr>\n",
       "      <th>...</th>\n",
       "      <td>...</td>\n",
       "      <td>...</td>\n",
       "      <td>...</td>\n",
       "      <td>...</td>\n",
       "      <td>...</td>\n",
       "      <td>...</td>\n",
       "      <td>...</td>\n",
       "      <td>...</td>\n",
       "      <td>...</td>\n",
       "      <td>...</td>\n",
       "      <td>...</td>\n",
       "    </tr>\n",
       "    <tr>\n",
       "      <th>16695</th>\n",
       "      <td>Planet Monsters</td>\n",
       "      <td>GBA</td>\n",
       "      <td>2001</td>\n",
       "      <td>Action</td>\n",
       "      <td>0.01</td>\n",
       "      <td>0.00</td>\n",
       "      <td>0.0</td>\n",
       "      <td>0.00</td>\n",
       "      <td>67.0</td>\n",
       "      <td>tbd</td>\n",
       "      <td>E</td>\n",
       "    </tr>\n",
       "    <tr>\n",
       "      <th>16697</th>\n",
       "      <td>Bust-A-Move 3000</td>\n",
       "      <td>GC</td>\n",
       "      <td>2003</td>\n",
       "      <td>Puzzle</td>\n",
       "      <td>0.01</td>\n",
       "      <td>0.00</td>\n",
       "      <td>0.0</td>\n",
       "      <td>0.00</td>\n",
       "      <td>53.0</td>\n",
       "      <td>tbd</td>\n",
       "      <td>E</td>\n",
       "    </tr>\n",
       "    <tr>\n",
       "      <th>16698</th>\n",
       "      <td>Mega Brain Boost</td>\n",
       "      <td>DS</td>\n",
       "      <td>2008</td>\n",
       "      <td>Puzzle</td>\n",
       "      <td>0.01</td>\n",
       "      <td>0.00</td>\n",
       "      <td>0.0</td>\n",
       "      <td>0.00</td>\n",
       "      <td>48.0</td>\n",
       "      <td>tbd</td>\n",
       "      <td>E</td>\n",
       "    </tr>\n",
       "    <tr>\n",
       "      <th>16704</th>\n",
       "      <td>Plushees</td>\n",
       "      <td>DS</td>\n",
       "      <td>2008</td>\n",
       "      <td>Simulation</td>\n",
       "      <td>0.01</td>\n",
       "      <td>0.00</td>\n",
       "      <td>0.0</td>\n",
       "      <td>0.00</td>\n",
       "      <td>NaN</td>\n",
       "      <td>tbd</td>\n",
       "      <td>E</td>\n",
       "    </tr>\n",
       "    <tr>\n",
       "      <th>16706</th>\n",
       "      <td>Men in Black II: Alien Escape</td>\n",
       "      <td>GC</td>\n",
       "      <td>2003</td>\n",
       "      <td>Shooter</td>\n",
       "      <td>0.01</td>\n",
       "      <td>0.00</td>\n",
       "      <td>0.0</td>\n",
       "      <td>0.00</td>\n",
       "      <td>NaN</td>\n",
       "      <td>tbd</td>\n",
       "      <td>T</td>\n",
       "    </tr>\n",
       "  </tbody>\n",
       "</table>\n",
       "<p>2376 rows × 11 columns</p>\n",
       "</div>"
      ],
      "text/plain": [
       "                                 name platform  year_of_release       genre  \\\n",
       "119                     Zumba Fitness      Wii             2010      Sports   \n",
       "301    Namco Museum: 50th Anniversary      PS2             2005        Misc   \n",
       "520                   Zumba Fitness 2      Wii             2011      Sports   \n",
       "645                      uDraw Studio      Wii             2010        Misc   \n",
       "718                   Just Dance Kids      Wii             2010        Misc   \n",
       "...                               ...      ...              ...         ...   \n",
       "16695                 Planet Monsters      GBA             2001      Action   \n",
       "16697                Bust-A-Move 3000       GC             2003      Puzzle   \n",
       "16698                Mega Brain Boost       DS             2008      Puzzle   \n",
       "16704                        Plushees       DS             2008  Simulation   \n",
       "16706   Men in Black II: Alien Escape       GC             2003     Shooter   \n",
       "\n",
       "       na_sales  eu_sales  jp_sales  other_sales  critic_score user_score  \\\n",
       "119        3.45      2.59       0.0         0.66           NaN        tbd   \n",
       "301        2.08      1.35       0.0         0.54          61.0        tbd   \n",
       "520        1.51      1.03       0.0         0.27           NaN        tbd   \n",
       "645        1.65      0.57       0.0         0.20          71.0        tbd   \n",
       "718        1.52      0.54       0.0         0.18           NaN        tbd   \n",
       "...         ...       ...       ...          ...           ...        ...   \n",
       "16695      0.01      0.00       0.0         0.00          67.0        tbd   \n",
       "16697      0.01      0.00       0.0         0.00          53.0        tbd   \n",
       "16698      0.01      0.00       0.0         0.00          48.0        tbd   \n",
       "16704      0.01      0.00       0.0         0.00           NaN        tbd   \n",
       "16706      0.01      0.00       0.0         0.00           NaN        tbd   \n",
       "\n",
       "      rating  \n",
       "119        E  \n",
       "301     E10+  \n",
       "520        T  \n",
       "645        E  \n",
       "718        E  \n",
       "...      ...  \n",
       "16695      E  \n",
       "16697      E  \n",
       "16698      E  \n",
       "16704      E  \n",
       "16706      T  \n",
       "\n",
       "[2376 rows x 11 columns]"
      ]
     },
     "execution_count": 13,
     "metadata": {},
     "output_type": "execute_result"
    }
   ],
   "source": [
    "data['user_score'].unique() # в значения присутсвует сокращение tbd (To Be Determined - будет определено)\n",
    "data.loc[data['user_score'] == 'tbd'] # будем считать ,что это игры без рейтинга, присвоим им значение Nan"
   ]
  },
  {
   "cell_type": "code",
   "execution_count": 14,
   "metadata": {},
   "outputs": [],
   "source": [
    "data['user_score'] = pd.to_numeric(data['user_score'],errors = 'coerce') # поменяем тип данных на вещественные,т.к. в рейтинге используются численные значения, присвоим tbd значение Nan"
   ]
  },
  {
   "cell_type": "code",
   "execution_count": 15,
   "metadata": {},
   "outputs": [
    {
     "data": {
      "text/plain": [
       "array(['E', nan, 'M', 'T', 'E10+', 'K-A', 'AO', 'EC', 'RP'], dtype=object)"
      ]
     },
     "execution_count": 15,
     "metadata": {},
     "output_type": "execute_result"
    }
   ],
   "source": [
    "data.loc[data['rating'].isnull()] # посмотри на пропуски в столбце возрастной рейтинг. \n",
    "data['rating'].unique()"
   ]
  },
  {
   "cell_type": "code",
   "execution_count": 16,
   "metadata": {},
   "outputs": [],
   "source": [
    "data['rating'] = data['rating'].fillna('RP') # присвоим пропускам значения RP - в ожидании оценки"
   ]
  },
  {
   "cell_type": "code",
   "execution_count": 17,
   "metadata": {},
   "outputs": [
    {
     "data": {
      "text/plain": [
       "RP      6677\n",
       "E       3921\n",
       "T       2905\n",
       "M       1536\n",
       "E10+    1393\n",
       "EC         8\n",
       "K-A        3\n",
       "AO         1\n",
       "Name: rating, dtype: int64"
      ]
     },
     "execution_count": 17,
     "metadata": {},
     "output_type": "execute_result"
    }
   ],
   "source": [
    "data['rating'].value_counts() # Проверяем кол-во значений рейтинга, последние 3 значения можно удалить из-за незначительного кол-ва"
   ]
  },
  {
   "cell_type": "code",
   "execution_count": 18,
   "metadata": {},
   "outputs": [],
   "source": [
    "data = data.loc[(data['rating'] != 'EC')] \n",
    "data = data.loc[(data['rating'] != 'K-A')]\n",
    "data = data.loc[(data['rating'] != 'AO')]"
   ]
  },
  {
   "cell_type": "code",
   "execution_count": 19,
   "metadata": {},
   "outputs": [
    {
     "data": {
      "text/plain": [
       "name                  0\n",
       "platform              0\n",
       "year_of_release       0\n",
       "genre                 0\n",
       "na_sales              0\n",
       "eu_sales              0\n",
       "jp_sales              0\n",
       "other_sales           0\n",
       "critic_score       8451\n",
       "user_score         8974\n",
       "rating                0\n",
       "dtype: int64"
      ]
     },
     "execution_count": 19,
     "metadata": {},
     "output_type": "execute_result"
    }
   ],
   "source": [
    "data.isna().sum() # выводим оставщиеся пропуски"
   ]
  },
  {
   "cell_type": "code",
   "execution_count": 20,
   "metadata": {},
   "outputs": [
    {
     "data": {
      "text/plain": [
       "0"
      ]
     },
     "execution_count": 20,
     "metadata": {},
     "output_type": "execute_result"
    }
   ],
   "source": [
    "data.duplicated().sum()"
   ]
  },
  {
   "cell_type": "markdown",
   "metadata": {},
   "source": [
    "####  Вывод"
   ]
  },
  {
   "cell_type": "markdown",
   "metadata": {},
   "source": [
    "Остались пропуски в столбцах - рейтинг критиков, оценки игроков, и возрастной рейтинг. Удаление или замена пропусков может существенно повлиять на результат исследования, поэтому оставляем там пропуски. Возможные причины пропусков в том,что игры не публиковались на специальных ресурсах , где критики и пользователи могли бы выставлять свои оценки. Отсутствие возрастного рейтинга, возможно связано с тем,что присваивание рейтинга добровольное, и данные игры не проверялись. Так же, из-за того ,что ESRB работает только с 1994 года, игры выщедшие до этого, еще не получили свой рейтинг. "
   ]
  },
  {
   "cell_type": "markdown",
   "metadata": {},
   "source": [
    "### Исследовательский анализ данных"
   ]
  },
  {
   "cell_type": "code",
   "execution_count": 21,
   "metadata": {},
   "outputs": [
    {
     "data": {
      "image/png": "[encoded data removed]",
      "text/plain": [
       "<Figure size 648x648 with 1 Axes>"
      ]
     },
     "metadata": {
      "needs_background": "light"
     },
     "output_type": "display_data"
    }
   ],
   "source": [
    "data_year = data.pivot_table(index = 'year_of_release', values = 'name', aggfunc = 'count') # кол-во релизов по годам\n",
    "data_year.plot( kind = 'bar', figsize = (9,9),title = 'Количество релизов');"
   ]
  },
  {
   "cell_type": "markdown",
   "metadata": {},
   "source": [
    "Данные показывают , что кол-во выпускаемых игр , в целом , снижается с 2008 года. Возможно,несмотря на уменьшения кол-ва игр, продажи оставшихся растут."
   ]
  },
  {
   "cell_type": "code",
   "execution_count": 22,
   "metadata": {},
   "outputs": [
    {
     "data": {
      "image/png": "[encoded data removed]",
      "text/plain": [
       "<Figure size 648x648 with 1 Axes>"
      ]
     },
     "metadata": {
      "needs_background": "light"
     },
     "output_type": "display_data"
    }
   ],
   "source": [
    "data['total_sales'] = data['na_sales'] + data['eu_sales'] + data['jp_sales'] # добавляем столбец - Итоговые продажи\n",
    "data_platform = data.pivot_table(index = 'platform', values = 'total_sales', aggfunc = 'sum' )\n",
    "data_platform.plot( kind = 'bar', figsize = (9,9),title = 'Общие продажи'); # График общих продаж по платформам"
   ]
  },
  {
   "cell_type": "code",
   "execution_count": 23,
   "metadata": {},
   "outputs": [],
   "source": [
    "data_platform.reset_index(drop = False, inplace = True)\n",
    "data_platform_10 = data_platform.sort_values(by = 'total_sales',\n",
    "                                             ascending=False).head(10) # Выделяем ТОП 10 по продажам"
   ]
  },
  {
   "cell_type": "code",
   "execution_count": 24,
   "metadata": {},
   "outputs": [
    {
     "data": {
      "image/png": "[encoded data removed]",
      "text/plain": [
       "<Figure size 720x360 with 1 Axes>"
      ]
     },
     "metadata": {
      "needs_background": "light"
     },
     "output_type": "display_data"
    },
    {
     "data": {
      "image/png": "[encoded data removed]",
      "text/plain": [
       "<Figure size 720x360 with 1 Axes>"
      ]
     },
     "metadata": {
      "needs_background": "light"
     },
     "output_type": "display_data"
    },
    {
     "data": {
      "image/png": "[encoded data removed]",
      "text/plain": [
       "<Figure size 720x360 with 1 Axes>"
      ]
     },
     "metadata": {
      "needs_background": "light"
     },
     "output_type": "display_data"
    },
    {
     "data": {
      "image/png": "[encoded data removed]",
      "text/plain": [
       "<Figure size 720x360 with 1 Axes>"
      ]
     },
     "metadata": {
      "needs_background": "light"
     },
     "output_type": "display_data"
    },
    {
     "data": {
      "image/png": "[encoded data removed]",
      "text/plain": [
       "<Figure size 720x360 with 1 Axes>"
      ]
     },
     "metadata": {
      "needs_background": "light"
     },
     "output_type": "display_data"
    },
    {
     "data": {
      "image/png": "[encoded data removed]",
      "text/plain": [
       "<Figure size 720x360 with 1 Axes>"
      ]
     },
     "metadata": {
      "needs_background": "light"
     },
     "output_type": "display_data"
    },
    {
     "data": {
      "image/png": "[encoded data removed]",
      "text/plain": [
       "<Figure size 720x360 with 1 Axes>"
      ]
     },
     "metadata": {
      "needs_background": "light"
     },
     "output_type": "display_data"
    },
    {
     "data": {
      "image/png": "[encoded data removed]",
      "text/plain": [
       "<Figure size 720x360 with 1 Axes>"
      ]
     },
     "metadata": {
      "needs_background": "light"
     },
     "output_type": "display_data"
    },
    {
     "data": {
      "image/png": "[encoded data removed]",
      "text/plain": [
       "<Figure size 720x360 with 1 Axes>"
      ]
     },
     "metadata": {
      "needs_background": "light"
     },
     "output_type": "display_data"
    },
    {
     "data": {
      "image/png": "[encoded data removed]",
      "text/plain": [
       "<Figure size 720x360 with 1 Axes>"
      ]
     },
     "metadata": {
      "needs_background": "light"
     },
     "output_type": "display_data"
    }
   ],
   "source": [
    "for index in data_platform_10['platform'].unique() : # строим графики распределения по продажи/год для каждой платформы\n",
    "    data[data['platform'] == index].pivot_table(\n",
    "                                                index = 'year_of_release', values = 'total_sales',\n",
    "                                                aggfunc = 'sum'\n",
    "                                                ).plot( kind = 'bar', grid = True, figsize = (10,5) ,title = index)\n"
   ]
  },
  {
   "cell_type": "code",
   "execution_count": 25,
   "metadata": {},
   "outputs": [],
   "source": [
    "# В распределении на платформе DS есть данные за 1985 год, надо проверить дополнительно\n",
    "data.query('platform == \"DS\" & year_of_release == 1985') # данные явно ошибочные, так как релизы начинаются только в 2004 году\n",
    "data = data.loc[data['name'] != 'Strongest Tokyo University Shogi DS']"
   ]
  },
  {
   "cell_type": "markdown",
   "metadata": {},
   "source": [
    "Получаеться следующее время существования платформы:\n",
    "1. PS2 - 11 лет\n",
    "2. XBOX360 - 11 лет\n",
    "3. WII - 10 лет\n",
    "4. PS3 - 10 лет\n",
    "5. DS - 9 лет\n",
    "6. PS - 9 лет\n",
    "7. GBA - 7 лет\n",
    "8. PS4 - 4 года\n",
    "9. PSP - 11 лет\n",
    "10. XB - 9 лет\n",
    "\n",
    "Из графиков видно,что новый платформы , в среднем , появляются раз в 7 лет, а существуют , в среднем - 10 лет"
   ]
  },
  {
   "cell_type": "markdown",
   "metadata": {},
   "source": [
    "Пик выхода игр пришелся на 2008 - 2009 год, с 2010 началось уменьшение кол-ва релизов.С учетом того ,что часть платформ появилась только в 2013 году, актуальный период,будем считать, с 2013 по 2016 год."
   ]
  },
  {
   "cell_type": "code",
   "execution_count": 26,
   "metadata": {},
   "outputs": [
    {
     "data": {
      "image/png": "[encoded data removed]",
      "text/plain": [
       "<Figure size 648x648 with 1 Axes>"
      ]
     },
     "metadata": {
      "needs_background": "light"
     },
     "output_type": "display_data"
    }
   ],
   "source": [
    "data_actual = data.loc[data['year_of_release'] >= 2013] # берем данные с 2013 года\n",
    "#data_actual.sort_values( by = 'year_of_release' , ascending = False)\n",
    "data_platform_actual = data_actual.pivot_table(index = 'platform', values = 'total_sales', aggfunc = 'sum' )\n",
    "data_platform_actual.plot( kind = 'bar', figsize = (9,9),title = 'Общие продажи с 2013 по 2016 год'); # смотрим на продажи по платформам с 2013 года"
   ]
  },
  {
   "cell_type": "code",
   "execution_count": 27,
   "metadata": {},
   "outputs": [],
   "source": [
    "data_platform_actual.reset_index(drop = False, inplace = True)"
   ]
  },
  {
   "cell_type": "code",
   "execution_count": 28,
   "metadata": {},
   "outputs": [
    {
     "data": {
      "image/png": "[encoded data removed]",
      "text/plain": [
       "<Figure size 720x360 with 1 Axes>"
      ]
     },
     "metadata": {
      "needs_background": "light"
     },
     "output_type": "display_data"
    },
    {
     "data": {
      "image/png": "[encoded data removed]",
      "text/plain": [
       "<Figure size 720x360 with 1 Axes>"
      ]
     },
     "metadata": {
      "needs_background": "light"
     },
     "output_type": "display_data"
    },
    {
     "data": {
      "image/png": "[encoded data removed]",
      "text/plain": [
       "<Figure size 720x360 with 1 Axes>"
      ]
     },
     "metadata": {
      "needs_background": "light"
     },
     "output_type": "display_data"
    },
    {
     "data": {
      "image/png": "[encoded data removed]",
      "text/plain": [
       "<Figure size 720x360 with 1 Axes>"
      ]
     },
     "metadata": {
      "needs_background": "light"
     },
     "output_type": "display_data"
    },
    {
     "data": {
      "image/png": "[encoded data removed]",
      "text/plain": [
       "<Figure size 720x360 with 1 Axes>"
      ]
     },
     "metadata": {
      "needs_background": "light"
     },
     "output_type": "display_data"
    },
    {
     "data": {
      "image/png": "[encoded data removed]",
      "text/plain": [
       "<Figure size 720x360 with 1 Axes>"
      ]
     },
     "metadata": {
      "needs_background": "light"
     },
     "output_type": "display_data"
    },
    {
     "data": {
      "image/png": "[encoded data removed]",
      "text/plain": [
       "<Figure size 720x360 with 1 Axes>"
      ]
     },
     "metadata": {
      "needs_background": "light"
     },
     "output_type": "display_data"
    },
    {
     "data": {
      "image/png": "[encoded data removed]",
      "text/plain": [
       "<Figure size 720x360 with 1 Axes>"
      ]
     },
     "metadata": {
      "needs_background": "light"
     },
     "output_type": "display_data"
    },
    {
     "data": {
      "image/png": "[encoded data removed]",
      "text/plain": [
       "<Figure size 720x360 with 1 Axes>"
      ]
     },
     "metadata": {
      "needs_background": "light"
     },
     "output_type": "display_data"
    },
    {
     "data": {
      "image/png": "[encoded data removed]",
      "text/plain": [
       "<Figure size 720x360 with 1 Axes>"
      ]
     },
     "metadata": {
      "needs_background": "light"
     },
     "output_type": "display_data"
    },
    {
     "data": {
      "image/png": "[encoded data removed]",
      "text/plain": [
       "<Figure size 720x360 with 1 Axes>"
      ]
     },
     "metadata": {
      "needs_background": "light"
     },
     "output_type": "display_data"
    }
   ],
   "source": [
    "for index in data_platform_actual['platform'].unique(): # строим распределение по годам/продажам для каждой платформы\n",
    "    data_actual[\n",
    "               data_actual['platform'] == index\n",
    "               ].pivot_table(\n",
    "                            index = 'year_of_release', values = 'total_sales', aggfunc = 'sum'\n",
    "                            ).plot( kind = 'bar',grid = True, figsize = (10,5) ,title = index);\n"
   ]
  },
  {
   "cell_type": "markdown",
   "metadata": {},
   "source": [
    "Продажи по всем платформам уменьшились к 2016 году, при этом у PS4, WiiU и XOne до 2016 года был рост.Для определения потенциально прибыльных платформ посчитаем возможную будущуюю прибыль, в зависимости от оставщего срока жизни платформы."
   ]
  },
  {
   "cell_type": "code",
   "execution_count": 29,
   "metadata": {},
   "outputs": [],
   "source": [
    "data_life_time = data.query('year_of_release != 0') # Посмотрим на возраст платформ на 2016 год"
   ]
  },
  {
   "cell_type": "code",
   "execution_count": 30,
   "metadata": {},
   "outputs": [],
   "source": [
    "data_life_time =  data_life_time.groupby('platform')['year_of_release'].agg({'min','max'}) # Определяем период сущ. платформы"
   ]
  },
  {
   "cell_type": "code",
   "execution_count": 31,
   "metadata": {},
   "outputs": [],
   "source": [
    "data_life_time['lifetime'] = data_life_time['max'] - data_life_time['min'] # Вычисляем возраст платформы\n",
    "data_life_time.reset_index(drop = False , inplace = True)"
   ]
  },
  {
   "cell_type": "code",
   "execution_count": 32,
   "metadata": {},
   "outputs": [],
   "source": [
    "data_platform_actual = data_platform_actual.merge(data_life_time,how = 'left') #  Заполняем данные для актуальных платформ"
   ]
  },
  {
   "cell_type": "code",
   "execution_count": 33,
   "metadata": {},
   "outputs": [],
   "source": [
    "year_count = 4 # период с 2013 по 2016 год\n",
    "data_platform_actual['sales_per_year'] = data_platform_actual['total_sales']/year_count # Считаем среднегодовые продажи \n",
    "data_platform_actual.loc[data_platform_actual['platform'] == 'PC','lifetime'] = 4 # PC присвоим возраст поколения новых приставок"
   ]
  },
  {
   "cell_type": "code",
   "execution_count": 34,
   "metadata": {},
   "outputs": [],
   "source": [
    "data_platform_actual['future_value'] = (11 - data_platform_actual['lifetime'])*data_platform_actual['sales_per_year'] \n",
    "# считаем возможную будущуую прибыль в зависомости от оставщегося срока существования платформы ( ср.срок - 11 лет)"
   ]
  },
  {
   "cell_type": "code",
   "execution_count": 35,
   "metadata": {},
   "outputs": [
    {
     "data": {
      "image/png": "[encoded data removed]",
      "text/plain": [
       "<Figure size 432x432 with 1 Axes>"
      ]
     },
     "metadata": {
      "needs_background": "light"
     },
     "output_type": "display_data"
    }
   ],
   "source": [
    "data_platform_actual.plot (kind = 'bar', x = 'platform',\n",
    "                           y = 'future_value', grid = True,\n",
    "                           figsize = (6,6), title = 'Потенциально прибыльные платформы');\n",
    "#Потенциально прибыльные платформы"
   ]
  },
  {
   "cell_type": "markdown",
   "metadata": {},
   "source": [
    "Самыми перспективные это - PS4,XOne и 3DS\n",
    "\n",
    "Сделаем прогноз по продажам на 2017 год. Так как с 2015 началось падение продаж, предположим ,что в 2017 году оно продолжится, для этого рассчитаем  процент падения для каждой платформы и применим его к продажам за 2016 год."
   ]
  },
  {
   "cell_type": "code",
   "execution_count": 36,
   "metadata": {},
   "outputs": [],
   "source": [
    "actual_2016 = data.loc[\n",
    "                            data['year_of_release'] >= 2016\n",
    "                           ].groupby('platform')['total_sales'].agg('sum') # Данные о продажах за 2016 год"
   ]
  },
  {
   "cell_type": "code",
   "execution_count": 37,
   "metadata": {},
   "outputs": [],
   "source": [
    "actual_2015 = data.loc[\n",
    "                            data['year_of_release'] >= 2015\n",
    "                           ].groupby('platform')['total_sales'].agg('sum') # Данные о продажах за 2015 год"
   ]
  },
  {
   "cell_type": "code",
   "execution_count": 38,
   "metadata": {},
   "outputs": [
    {
     "data": {
      "image/png": "[encoded data removed]",
      "text/plain": [
       "<Figure size 432x288 with 1 Axes>"
      ]
     },
     "metadata": {
      "needs_background": "light"
     },
     "output_type": "display_data"
    }
   ],
   "source": [
    "data_decreas = (actual_2016*(round(((actual_2015 - actual_2016)/actual_2015)*100,2)/100)).plot(kind = 'bar', grid = True);\n",
    "plt.title('Прогноз продаж на 2017 год');\n",
    "plt.show()\n",
    "# Прогноз по прибыли на 2017 год, при условии аналогичного снижение продаж"
   ]
  },
  {
   "cell_type": "markdown",
   "metadata": {},
   "source": [
    "Вывод : Потенциально прибыльные платформы 3DS , PS4 и XOne , максимальные продажи в 2017 у PS4, Xone и 3DS"
   ]
  },
  {
   "cell_type": "code",
   "execution_count": 39,
   "metadata": {},
   "outputs": [
    {
     "data": {
      "image/png": "[encoded data removed]",
      "text/plain": [
       "<Figure size 648x648 with 1 Axes>"
      ]
     },
     "metadata": {
      "needs_background": "light"
     },
     "output_type": "display_data"
    }
   ],
   "source": [
    "plt.figure(figsize = (9,9))\n",
    "sns.boxplot(data = data_actual ,x = 'platform',y = 'total_sales').set(title='Продажи по платформам', ylabel = 'Млн. копий');\n",
    "plt.ylim(0,1)\n",
    "plt.show()"
   ]
  },
  {
   "cell_type": "markdown",
   "metadata": {},
   "source": [
    "Диаграммы имеют положительную ассиметрию, медиана больше среднего, большая часть игр продается тиражем около от 50 до 750 т. копий."
   ]
  },
  {
   "cell_type": "code",
   "execution_count": 40,
   "metadata": {},
   "outputs": [],
   "source": [
    "sales_corr_PS4 = data_actual[data_actual['platform'] == 'PS4'].pivot_table(index = 'total_sales', \n",
    "                                                              values = ['critic_score','user_score'],\n",
    "                                                              aggfunc = 'median')"
   ]
  },
  {
   "cell_type": "code",
   "execution_count": 41,
   "metadata": {},
   "outputs": [],
   "source": [
    "sales_corr_PS4.reset_index(drop = False,inplace = True)"
   ]
  },
  {
   "cell_type": "code",
   "execution_count": 42,
   "metadata": {},
   "outputs": [
    {
     "name": "stdout",
     "output_type": "stream",
     "text": [
      "              total_sales  critic_score  user_score\n",
      "total_sales      1.000000      0.492717   -0.110440\n",
      "critic_score     0.492717      1.000000    0.408972\n",
      "user_score      -0.110440      0.408972    1.000000\n"
     ]
    },
    {
     "data": {
      "image/png": "[encoded data removed]",
      "text/plain": [
       "<Figure size 648x648 with 9 Axes>"
      ]
     },
     "metadata": {
      "needs_background": "light"
     },
     "output_type": "display_data"
    }
   ],
   "source": [
    "print(sales_corr_PS4.corr()) #  Посмотри как коррелируются продажи в зависимости от оценки пользователей и критиков\n",
    "pd.plotting.scatter_matrix(sales_corr_PS4, figsize = (9,9));"
   ]
  },
  {
   "cell_type": "code",
   "execution_count": 43,
   "metadata": {},
   "outputs": [
    {
     "name": "stdout",
     "output_type": "stream",
     "text": [
      "Корреляция оценок платформы PS3 :               total_sales  critic_score  user_score\n",
      "total_sales      1.000000      0.391171   -0.002154\n",
      "critic_score     0.391171      1.000000    0.437839\n",
      "user_score      -0.002154      0.437839    1.000000\n",
      "Корреляция оценок платформы X360 :               total_sales  critic_score  user_score\n",
      "total_sales      1.000000      0.359381   -0.027278\n",
      "critic_score     0.359381      1.000000    0.429559\n",
      "user_score      -0.027278      0.429559    1.000000\n",
      "Корреляция оценок платформы PS4 :               total_sales  critic_score  user_score\n",
      "total_sales      1.000000      0.492717   -0.110440\n",
      "critic_score     0.492717      1.000000    0.408972\n",
      "user_score      -0.110440      0.408972    1.000000\n",
      "Корреляция оценок платформы 3DS :               total_sales  critic_score  user_score\n",
      "total_sales      1.000000      0.377548    0.280627\n",
      "critic_score     0.377548      1.000000    0.699431\n",
      "user_score       0.280627      0.699431    1.000000\n",
      "Корреляция оценок платформы XOne :               total_sales  critic_score  user_score\n",
      "total_sales      1.000000      0.446183   -0.107839\n",
      "critic_score     0.446183      1.000000    0.402731\n",
      "user_score      -0.107839      0.402731    1.000000\n",
      "Корреляция оценок платформы WiiU :               total_sales  critic_score  user_score\n",
      "total_sales      1.000000      0.424164    0.477966\n",
      "critic_score     0.424164      1.000000    0.701335\n",
      "user_score       0.477966      0.701335    1.000000\n",
      "Корреляция оценок платформы Wii :              total_sales  user_score\n",
      "total_sales     1.000000    0.683794\n",
      "user_score      0.683794    1.000000\n",
      "Корреляция оценок платформы PC :               total_sales  critic_score  user_score\n",
      "total_sales      1.000000      0.028317   -0.192356\n",
      "critic_score     0.028317      1.000000    0.392198\n",
      "user_score      -0.192356      0.392198    1.000000\n",
      "Корреляция оценок платформы PSV :               total_sales  critic_score  user_score\n",
      "total_sales      1.000000      0.325510   -0.001566\n",
      "critic_score     0.325510      1.000000    0.638236\n",
      "user_score      -0.001566      0.638236    1.000000\n",
      "Корреляция оценок платформы DS :              total_sales  user_score\n",
      "total_sales          NaN         NaN\n",
      "user_score           NaN         NaN\n",
      "Корреляция оценок платформы PSP :               total_sales  critic_score  user_score\n",
      "total_sales           NaN           NaN         NaN\n",
      "critic_score          NaN           NaN         NaN\n",
      "user_score            NaN           NaN         NaN\n"
     ]
    }
   ],
   "source": [
    "for index in data_actual['platform'].unique() :\n",
    "    sales_corr = data_actual[data_actual['platform'] == index].pivot_table(index = 'total_sales', \n",
    "                                                              values = ['critic_score','user_score'],\n",
    "                                                              aggfunc = 'median')\n",
    "    sales_corr.reset_index(drop = False,inplace = True)\n",
    "    print(f'Корреляция оценок платформы {index} : {sales_corr.corr()}')\n",
    "    "
   ]
  },
  {
   "cell_type": "markdown",
   "metadata": {},
   "source": [
    "Больше на продажи влияет оценка критиков,чем оценки пользователей."
   ]
  },
  {
   "cell_type": "code",
   "execution_count": 44,
   "metadata": {},
   "outputs": [],
   "source": [
    "data_actual_genre = data_actual.pivot_table( index = 'genre', values = 'total_sales', aggfunc = 'median')"
   ]
  },
  {
   "cell_type": "code",
   "execution_count": 45,
   "metadata": {},
   "outputs": [
    {
     "data": {
      "image/png": "[encoded data removed]",
      "text/plain": [
       "<Figure size 432x432 with 1 Axes>"
      ]
     },
     "metadata": {
      "needs_background": "light"
     },
     "output_type": "display_data"
    }
   ],
   "source": [
    "data_actual_genre.plot(kind = 'bar', \n",
    "                       grid = True, figsize = (6,6),\n",
    "                       title = 'Распределение продаж по жанрам'); # Посмотрим на распределение продаж по жанрам"
   ]
  },
  {
   "cell_type": "markdown",
   "metadata": {},
   "source": [
    "Вывод : Потенциально прибыльные платформы - 3DS , PS4 и XOne, наиболее продаюшийся жанр - шутеры.Максимальный прогноз продаж на 2017 год у платформы - PS4. Оценки критиков и пользователь слабо влияет на продажи!"
   ]
  },
  {
   "cell_type": "markdown",
   "metadata": {},
   "source": [
    "### Портрет пользователя по регионам"
   ]
  },
  {
   "cell_type": "code",
   "execution_count": 46,
   "metadata": {},
   "outputs": [],
   "source": [
    "user_na = data_actual.pivot_table( index = 'platform', values = 'na_sales',aggfunc ='sum')\n",
    "user_jp = data_actual.pivot_table( index = 'platform', values = 'jp_sales',aggfunc ='sum')\n",
    "user_eu = data_actual.pivot_table( index = 'platform', values = 'eu_sales',aggfunc ='sum')\n"
   ]
  },
  {
   "cell_type": "code",
   "execution_count": 64,
   "metadata": {},
   "outputs": [
    {
     "data": {
      "image/png": "[encoded data removed]",
      "text/plain": [
       "<Figure size 432x288 with 1 Axes>"
      ]
     },
     "metadata": {
      "needs_background": "light"
     },
     "output_type": "display_data"
    },
    {
     "data": {
      "image/png": "[encoded data removed]",
      "text/plain": [
       "<Figure size 432x288 with 1 Axes>"
      ]
     },
     "metadata": {
      "needs_background": "light"
     },
     "output_type": "display_data"
    },
    {
     "data": {
      "image/png": "[encoded data removed]",
      "text/plain": [
       "<Figure size 432x288 with 1 Axes>"
      ]
     },
     "metadata": {
      "needs_background": "light"
     },
     "output_type": "display_data"
    }
   ],
   "source": [
    "user_na.sort_values(by = 'na_sales', ascending = False).head(5).plot( kind = 'bar', title = 'ТОП5 платформ в США');\n",
    "user_eu.sort_values(by = 'eu_sales', ascending = False).head(5).plot( kind = 'bar', title = 'ТОП5 платформ в Европе');\n",
    "user_jp.sort_values(by = 'jp_sales', ascending = False).head(5).plot( kind = 'bar', title = 'ТОП5 платформ в Японии');\n"
   ]
  },
  {
   "cell_type": "markdown",
   "metadata": {},
   "source": [
    "Распределение продаж по платформам в Америке и Европе в целом похожи, Европейцы и Американцы любят одинаковые игры для обычных консолей,и в обоих случаях лидирует PS4.В Японии более популярны игры для портативных консолей."
   ]
  },
  {
   "cell_type": "code",
   "execution_count": 48,
   "metadata": {},
   "outputs": [
    {
     "data": {
      "image/png": "[encoded data removed]",
      "text/plain": [
       "<Figure size 432x288 with 1 Axes>"
      ]
     },
     "metadata": {
      "needs_background": "light"
     },
     "output_type": "display_data"
    }
   ],
   "source": [
    "data_actual_genre.sort_values( by = 'total_sales', ascending = False).head(5).plot(kind = 'bar',\n",
    "                                                                                   title = 'ТОП5 жанров по продажам');\n",
    "# Определим ТОП5 жанров"
   ]
  },
  {
   "cell_type": "markdown",
   "metadata": {},
   "source": [
    "В топе жанры традиционно популярные на консолях."
   ]
  },
  {
   "cell_type": "code",
   "execution_count": 49,
   "metadata": {},
   "outputs": [
    {
     "data": {
      "image/png": "[encoded data removed]",
      "text/plain": [
       "<Figure size 432x288 with 1 Axes>"
      ]
     },
     "metadata": {
      "needs_background": "light"
     },
     "output_type": "display_data"
    }
   ],
   "source": [
    "data_rating = data_actual.pivot_table( index = 'rating', values = ['na_sales','eu_sales','jp_sales'], aggfunc = 'sum')\n",
    "data_rating.plot(kind = 'bar', title = 'Влияние рейтинга на продажи по регионам'); # посмотрим на влияние рейтинговых оценок на продажи по регионам"
   ]
  },
  {
   "cell_type": "markdown",
   "metadata": {},
   "source": [
    "В США и Европе, ограничение по возрасту не приводит к уменьшению продаж, наоборот игры с взрослым рейтингом в лидерах. В Японии картины другая, при выставлении рейтинга продажи значительно уменьшаются, по сравнению с играми без рейтинга."
   ]
  },
  {
   "cell_type": "markdown",
   "metadata": {},
   "source": [
    "### Проверка гипотиз"
   ]
  },
  {
   "cell_type": "markdown",
   "metadata": {},
   "source": [
    " Проверим гипотизу ,что средние пользовательские рейтинги платформ Xbox One и PC одинаковые.\n",
    " \n",
    " Нулевая гипотиза - среднее рассматриваемых генеральных совокупностей равны.\n",
    " \n",
    " Альтернативная гипотиза  - среднее рассматриваемых генеральных совокупностей не равны"
   ]
  },
  {
   "cell_type": "code",
   "execution_count": 50,
   "metadata": {},
   "outputs": [],
   "source": [
    "\n",
    "pc_score = data_actual.loc[data_actual['platform'] == 'PC']['user_score']\n",
    "pc_score = pc_score.dropna()\n",
    "x_one_score = data_actual.loc[data_actual['platform'] == 'XOne']['user_score']\n",
    "x_one_score.dropna = x_one_score.dropna()\n"
   ]
  },
  {
   "cell_type": "code",
   "execution_count": 51,
   "metadata": {},
   "outputs": [],
   "source": [
    "from scipy import stats as st\n",
    "import numpy as np"
   ]
  },
  {
   "cell_type": "code",
   "execution_count": 55,
   "metadata": {},
   "outputs": [
    {
     "name": "stdout",
     "output_type": "stream",
     "text": [
      "p-значение: 0.18469597173708266\n",
      "Cреднее значение pc_score 6.2696774193548395\n",
      "Cреднее значение pc_score 6.521428571428572\n",
      "Не получилось отвергнуть нулевую гипотезу\n"
     ]
    }
   ],
   "source": [
    "\n",
    "alpha = .05\n",
    "results = st.ttest_ind(\n",
    "    pc_score.head(150) , \n",
    "    x_one_score.head(150),equal_var = False,nan_policy='omit')\n",
    "\n",
    "print('p-значение:', results.pvalue)\n",
    "print('Cреднее значение pc_score',pc_score.mean())\n",
    "print('Cреднее значение pc_score',x_one_score.mean())\n",
    "\n",
    "if results.pvalue < alpha:\n",
    "    print(\"Отвергаем нулевую гипотезу\")\n",
    "else:\n",
    "    print(\"Не получилось отвергнуть нулевую гипотезу\") "
   ]
  },
  {
   "cell_type": "markdown",
   "metadata": {},
   "source": [
    "Проверим гипотизу, что средние пользовательские рейтинги жанров Action и Sports разные.\n",
    "\n",
    "Нулевая гипотиза - среднее рассматриваемых генеральных совокупностей  равны\n",
    "\n",
    "Альтернативная гипотиза - среднее рассматриваемых генеральных совокупностей не равны"
   ]
  },
  {
   "cell_type": "code",
   "execution_count": 53,
   "metadata": {},
   "outputs": [],
   "source": [
    "action_score = data_actual.loc[data_actual['genre'] == 'Action']['user_score']\n",
    "action_score = action_score.dropna()\n",
    "sport_score = data_actual.loc[data_actual['genre'] == 'Sports']['user_score']\n",
    "sport_score = sport_score.dropna()"
   ]
  },
  {
   "cell_type": "code",
   "execution_count": 54,
   "metadata": {},
   "outputs": [
    {
     "name": "stdout",
     "output_type": "stream",
     "text": [
      "p-значение: 1.6092274056169247e-18\n",
      "Отвергаем нулевую гипотезу\n"
     ]
    }
   ],
   "source": [
    "alpha = .05\n",
    "results = st.ttest_ind(\n",
    "    action_score.head(160) , \n",
    "    sport_score.head(160),equal_var = False,nan_policy='omit')\n",
    "\n",
    "print('p-значение:', results.pvalue)\n",
    "\n",
    "if results.pvalue < alpha:\n",
    "    print(\"Отвергаем нулевую гипотезу\")\n",
    "else:\n",
    "    print(\"Не получилось отвергнуть нулевую гипотезу\") "
   ]
  },
  {
   "cell_type": "markdown",
   "metadata": {},
   "source": [
    "### Общий вывод"
   ]
  },
  {
   "cell_type": "markdown",
   "metadata": {},
   "source": [
    "В ходе исследования были выполнены следующие действия:\n",
    "- Были изучены и подготовлены предоставленные данные. Определены и заполнены, где возможно, пропуски, изменениы типы данных и названия столбцов.\n",
    "- Посчитаны суммарные продажи по всем регионам\n",
    "- Кол-во выпускаемых игр за разные годы\n",
    "- Исследованы продажи по платформам\n",
    "- Определены потенциально прибыльные платформы, составлен прогноз по продажам на 2017 год\n",
    "- Определена корреляция между оценками игр и продажами\n",
    "- Посчитано распределение продаж по жанрам\n",
    "- Определены самые популярные платформы и жанры\n",
    "- Выявлено влияние рейтинга игры на продажи в разных регионах\n",
    "- Проверена гипотиза о равенстве средних оценок на платформах PC и  Xone\n",
    "- Проверена гипотиза о равенстве средних оценок игр жанров Action и Sports\n",
    "\n",
    "В результате исследования были сделаны следующие выводы :\n",
    "- Количество выпускаемых игр снижается с 2008 года, максимальное кол-во игр выходило в период с 2007 по 2010 года\n",
    "- Наибольшее кол-во игр было продано на платформе PS2 \n",
    "- Среднне время жизни платформы - 10 лет, платформы обновляеются, в среднем раз , в 7 лет\n",
    "- В период с 2013 по 2016 год по продажам лидирует  PS4\n",
    "- В 2016 годы все платформы показали падение продаж\n",
    "- Потенциально прибыльные платформы - 3DS , PS4 и XOne , максимальные планируемые продажи в 2017 у PS4\n",
    "- В основном игры продаются тиражем до 750 тыс. копий\n",
    "- Корреляция продаж игр с оценками критиков слабая (около 0.49 ), с оценками пользователей практически нет.\n",
    "- Самые популярные жанры по медианному кол-ву продаж : Shooter - около 400.000 проданных копий и Sports - около 200.000 проданных копий\n",
    "- Распределение продаж по платформам в Америке и Европе в целом похожи, Европейцы и Американцы любят одинаковые игры для обычных     консолей,и в обоих случаях лидирует PS4.В Японии более популярны игры для портативных консолей.\n",
    "- В США и Европе, ограничение по возрасту не приводит к уменьшению продаж, наоборот игры с взрослым рейтингом в лидерах. В Японии картины другая, при выставлении рейтинга продажи значительно уменьшаются, по сравнению с играми без рейтинга\n",
    "- Гипотиза о равенстве оценок платформ не может быть отвергнута\n",
    "- Гипотиза о равенстве оценок жанров может быть отвергнута\n",
    "- На успешность игры влияет платформа - PS4 или XOne, жанр  - шутер или спортивные игры и рейтинг ESRB, и слабо влияет рейтинг критиков и пользователей.\n",
    "- Самый , потенциально, успешный продукт в 2017 году, это игра жанра - Shooter, на платформе  PS4 и взрослым рейтингом."
   ]
  },
  {
   "cell_type": "code",
   "execution_count": null,
   "metadata": {},
   "outputs": [],
   "source": []
  }
 ],
 "metadata": {
  "ExecuteTimeLog": [
   {
    "duration": 51,
    "start_time": "2022-12-13T07:54:07.519Z"
   },
   {
    "duration": 427,
    "start_time": "2022-12-13T07:54:12.833Z"
   },
   {
    "duration": 102,
    "start_time": "2022-12-13T07:54:13.262Z"
   },
   {
    "duration": 36,
    "start_time": "2022-12-13T07:54:16.176Z"
   },
   {
    "duration": 54,
    "start_time": "2022-12-13T07:54:45.498Z"
   },
   {
    "duration": 14,
    "start_time": "2022-12-13T07:54:50.565Z"
   },
   {
    "duration": 17,
    "start_time": "2022-12-13T07:55:49.137Z"
   },
   {
    "duration": 37,
    "start_time": "2022-12-13T07:58:52.865Z"
   },
   {
    "duration": 12,
    "start_time": "2022-12-13T07:59:24.599Z"
   },
   {
    "duration": 12,
    "start_time": "2022-12-13T07:59:47.978Z"
   },
   {
    "duration": 13,
    "start_time": "2022-12-13T08:00:21.638Z"
   },
   {
    "duration": 9,
    "start_time": "2022-12-13T08:00:39.100Z"
   },
   {
    "duration": 7,
    "start_time": "2022-12-13T08:01:19.821Z"
   },
   {
    "duration": 9,
    "start_time": "2022-12-13T08:01:34.803Z"
   },
   {
    "duration": 60,
    "start_time": "2022-12-13T08:02:50.101Z"
   },
   {
    "duration": 21,
    "start_time": "2022-12-13T08:03:05.194Z"
   },
   {
    "duration": 9,
    "start_time": "2022-12-13T08:06:57.019Z"
   },
   {
    "duration": 51,
    "start_time": "2022-12-13T08:08:04.237Z"
   },
   {
    "duration": 9,
    "start_time": "2022-12-13T08:08:08.777Z"
   },
   {
    "duration": 21,
    "start_time": "2022-12-13T08:08:36.666Z"
   },
   {
    "duration": 11,
    "start_time": "2022-12-13T08:08:44.606Z"
   },
   {
    "duration": 21,
    "start_time": "2022-12-13T08:08:52.538Z"
   },
   {
    "duration": 10,
    "start_time": "2022-12-13T08:12:15.662Z"
   },
   {
    "duration": 70,
    "start_time": "2022-12-13T08:12:38.909Z"
   },
   {
    "duration": 8,
    "start_time": "2022-12-13T08:12:49.241Z"
   },
   {
    "duration": 8,
    "start_time": "2022-12-13T08:13:07.999Z"
   },
   {
    "duration": 8,
    "start_time": "2022-12-13T08:13:49.432Z"
   },
   {
    "duration": 7,
    "start_time": "2022-12-13T08:13:58.542Z"
   },
   {
    "duration": 10,
    "start_time": "2022-12-13T08:14:10.083Z"
   },
   {
    "duration": 11,
    "start_time": "2022-12-13T08:14:35.701Z"
   },
   {
    "duration": 46,
    "start_time": "2022-12-13T08:15:30.950Z"
   },
   {
    "duration": 9,
    "start_time": "2022-12-13T08:15:50.070Z"
   },
   {
    "duration": 10,
    "start_time": "2022-12-13T08:16:07.170Z"
   },
   {
    "duration": 7,
    "start_time": "2022-12-13T08:20:16.290Z"
   },
   {
    "duration": 8,
    "start_time": "2022-12-13T08:20:27.707Z"
   },
   {
    "duration": 14,
    "start_time": "2022-12-13T08:25:15.797Z"
   },
   {
    "duration": 16,
    "start_time": "2022-12-13T08:28:15.626Z"
   },
   {
    "duration": 14,
    "start_time": "2022-12-13T08:29:48.064Z"
   },
   {
    "duration": 15,
    "start_time": "2022-12-13T08:30:59.489Z"
   },
   {
    "duration": 3,
    "start_time": "2022-12-13T08:31:13.757Z"
   },
   {
    "duration": 51,
    "start_time": "2022-12-13T08:31:13.903Z"
   },
   {
    "duration": 21,
    "start_time": "2022-12-13T08:31:14.075Z"
   },
   {
    "duration": 13,
    "start_time": "2022-12-13T08:31:14.215Z"
   },
   {
    "duration": 10,
    "start_time": "2022-12-13T08:31:14.362Z"
   },
   {
    "duration": 10,
    "start_time": "2022-12-13T08:31:14.514Z"
   },
   {
    "duration": 46,
    "start_time": "2022-12-13T08:31:15.278Z"
   },
   {
    "duration": 16,
    "start_time": "2022-12-13T08:31:26.700Z"
   },
   {
    "duration": 10,
    "start_time": "2022-12-13T08:32:21.053Z"
   },
   {
    "duration": 11,
    "start_time": "2022-12-13T08:32:21.680Z"
   },
   {
    "duration": 9,
    "start_time": "2022-12-13T08:32:27.496Z"
   },
   {
    "duration": 10,
    "start_time": "2022-12-13T08:32:33.981Z"
   },
   {
    "duration": 22,
    "start_time": "2022-12-13T08:32:39.203Z"
   },
   {
    "duration": 10,
    "start_time": "2022-12-13T08:32:44.409Z"
   },
   {
    "duration": 50,
    "start_time": "2022-12-13T08:32:53.540Z"
   },
   {
    "duration": 230,
    "start_time": "2022-12-13T08:33:03.166Z"
   },
   {
    "duration": 83,
    "start_time": "2022-12-13T08:33:28.853Z"
   },
   {
    "duration": 13,
    "start_time": "2022-12-13T08:33:50.560Z"
   },
   {
    "duration": 212,
    "start_time": "2022-12-13T08:44:48.776Z"
   },
   {
    "duration": 3,
    "start_time": "2022-12-13T08:45:00.503Z"
   },
   {
    "duration": 10,
    "start_time": "2022-12-13T08:45:02.435Z"
   },
   {
    "duration": 831,
    "start_time": "2022-12-13T08:45:05.648Z"
   },
   {
    "duration": 9,
    "start_time": "2022-12-13T08:45:17.543Z"
   },
   {
    "duration": 16,
    "start_time": "2022-12-13T08:45:23.582Z"
   },
   {
    "duration": 46,
    "start_time": "2022-12-13T08:47:19.041Z"
   },
   {
    "duration": 52,
    "start_time": "2022-12-13T08:47:24.208Z"
   },
   {
    "duration": 240,
    "start_time": "2022-12-13T08:47:29.379Z"
   },
   {
    "duration": 51,
    "start_time": "2022-12-13T08:49:19.887Z"
   },
   {
    "duration": 12,
    "start_time": "2022-12-13T08:49:27.794Z"
   },
   {
    "duration": 21,
    "start_time": "2022-12-13T08:49:52.486Z"
   },
   {
    "duration": 44,
    "start_time": "2022-12-13T08:51:04.069Z"
   },
   {
    "duration": 48,
    "start_time": "2022-12-13T08:51:35.390Z"
   },
   {
    "duration": 15,
    "start_time": "2022-12-13T08:51:43.046Z"
   },
   {
    "duration": 31,
    "start_time": "2022-12-13T08:51:55.210Z"
   },
   {
    "duration": 24,
    "start_time": "2022-12-13T08:52:22.693Z"
   },
   {
    "duration": 13,
    "start_time": "2022-12-13T08:52:35.895Z"
   },
   {
    "duration": 9,
    "start_time": "2022-12-13T08:52:42.020Z"
   },
   {
    "duration": 11,
    "start_time": "2022-12-13T08:53:17.958Z"
   },
   {
    "duration": 12,
    "start_time": "2022-12-13T08:53:52.360Z"
   },
   {
    "duration": 12,
    "start_time": "2022-12-13T08:54:09.867Z"
   },
   {
    "duration": 2,
    "start_time": "2022-12-13T08:54:27.620Z"
   },
   {
    "duration": 48,
    "start_time": "2022-12-13T08:54:28.003Z"
   },
   {
    "duration": 20,
    "start_time": "2022-12-13T08:54:28.403Z"
   },
   {
    "duration": 14,
    "start_time": "2022-12-13T08:54:29.182Z"
   },
   {
    "duration": 3,
    "start_time": "2022-12-13T08:54:29.984Z"
   },
   {
    "duration": 10,
    "start_time": "2022-12-13T08:54:31.798Z"
   },
   {
    "duration": 10,
    "start_time": "2022-12-13T08:54:32.427Z"
   },
   {
    "duration": 13,
    "start_time": "2022-12-13T08:54:33.202Z"
   },
   {
    "duration": 12,
    "start_time": "2022-12-13T08:56:03.535Z"
   },
   {
    "duration": 12,
    "start_time": "2022-12-13T08:57:30.477Z"
   },
   {
    "duration": 94,
    "start_time": "2022-12-13T08:58:28.595Z"
   },
   {
    "duration": 91,
    "start_time": "2022-12-13T08:58:34.027Z"
   },
   {
    "duration": 94,
    "start_time": "2022-12-13T08:58:44.791Z"
   },
   {
    "duration": 207,
    "start_time": "2022-12-13T08:58:54.344Z"
   },
   {
    "duration": 191,
    "start_time": "2022-12-13T08:59:02.064Z"
   },
   {
    "duration": 12,
    "start_time": "2022-12-13T08:59:08.023Z"
   },
   {
    "duration": 190,
    "start_time": "2022-12-13T08:59:18.382Z"
   },
   {
    "duration": 217,
    "start_time": "2022-12-13T08:59:25.416Z"
   },
   {
    "duration": 6,
    "start_time": "2022-12-13T09:00:11.512Z"
   },
   {
    "duration": 6,
    "start_time": "2022-12-13T09:00:19.544Z"
   },
   {
    "duration": 9,
    "start_time": "2022-12-13T09:00:48.319Z"
   },
   {
    "duration": 11,
    "start_time": "2022-12-13T09:01:17.426Z"
   },
   {
    "duration": 10,
    "start_time": "2022-12-13T09:01:51.458Z"
   },
   {
    "duration": 7,
    "start_time": "2022-12-13T09:02:39.724Z"
   },
   {
    "duration": 2,
    "start_time": "2022-12-13T09:02:41.934Z"
   },
   {
    "duration": 50,
    "start_time": "2022-12-13T09:02:42.081Z"
   },
   {
    "duration": 22,
    "start_time": "2022-12-13T09:02:42.246Z"
   },
   {
    "duration": 14,
    "start_time": "2022-12-13T09:02:42.386Z"
   },
   {
    "duration": 3,
    "start_time": "2022-12-13T09:02:42.679Z"
   },
   {
    "duration": 8,
    "start_time": "2022-12-13T09:02:43.011Z"
   },
   {
    "duration": 11,
    "start_time": "2022-12-13T09:02:43.460Z"
   },
   {
    "duration": 8,
    "start_time": "2022-12-13T09:02:44.128Z"
   },
   {
    "duration": 12,
    "start_time": "2022-12-13T09:02:50.426Z"
   },
   {
    "duration": 10,
    "start_time": "2022-12-13T09:03:05.097Z"
   },
   {
    "duration": 25,
    "start_time": "2022-12-13T09:04:02.467Z"
   },
   {
    "duration": 10,
    "start_time": "2022-12-13T09:04:52.887Z"
   },
   {
    "duration": 24,
    "start_time": "2022-12-13T09:04:53.504Z"
   },
   {
    "duration": 26,
    "start_time": "2022-12-13T09:04:57.031Z"
   },
   {
    "duration": 10,
    "start_time": "2022-12-13T09:05:00.059Z"
   },
   {
    "duration": 23,
    "start_time": "2022-12-13T09:05:01.064Z"
   },
   {
    "duration": 3,
    "start_time": "2022-12-13T09:05:11.900Z"
   },
   {
    "duration": 56,
    "start_time": "2022-12-13T09:05:12.036Z"
   },
   {
    "duration": 21,
    "start_time": "2022-12-13T09:05:12.185Z"
   },
   {
    "duration": 14,
    "start_time": "2022-12-13T09:05:12.319Z"
   },
   {
    "duration": 3,
    "start_time": "2022-12-13T09:05:13.085Z"
   },
   {
    "duration": 10,
    "start_time": "2022-12-13T09:05:13.505Z"
   },
   {
    "duration": 10,
    "start_time": "2022-12-13T09:05:14.524Z"
   },
   {
    "duration": 3,
    "start_time": "2022-12-13T09:05:15.529Z"
   },
   {
    "duration": 20,
    "start_time": "2022-12-13T09:05:25.812Z"
   },
   {
    "duration": 9,
    "start_time": "2022-12-13T09:06:06.915Z"
   },
   {
    "duration": 21,
    "start_time": "2022-12-13T09:06:07.411Z"
   },
   {
    "duration": 9,
    "start_time": "2022-12-13T09:06:08.149Z"
   },
   {
    "duration": 19,
    "start_time": "2022-12-13T09:06:12.413Z"
   },
   {
    "duration": 9,
    "start_time": "2022-12-13T09:06:12.950Z"
   },
   {
    "duration": 16,
    "start_time": "2022-12-13T09:06:26.678Z"
   },
   {
    "duration": 20,
    "start_time": "2022-12-13T09:06:36.931Z"
   },
   {
    "duration": 29,
    "start_time": "2022-12-13T09:06:45.669Z"
   },
   {
    "duration": 3,
    "start_time": "2022-12-13T09:07:00.105Z"
   },
   {
    "duration": 52,
    "start_time": "2022-12-13T09:07:00.474Z"
   },
   {
    "duration": 20,
    "start_time": "2022-12-13T09:07:00.774Z"
   },
   {
    "duration": 16,
    "start_time": "2022-12-13T09:07:01.510Z"
   },
   {
    "duration": 3,
    "start_time": "2022-12-13T09:07:04.945Z"
   },
   {
    "duration": 10,
    "start_time": "2022-12-13T09:07:06.839Z"
   },
   {
    "duration": 10,
    "start_time": "2022-12-13T09:07:08.475Z"
   },
   {
    "duration": 29,
    "start_time": "2022-12-13T09:07:15.685Z"
   },
   {
    "duration": 477,
    "start_time": "2022-12-13T09:07:30.774Z"
   },
   {
    "duration": 53,
    "start_time": "2022-12-13T09:07:31.253Z"
   },
   {
    "duration": 28,
    "start_time": "2022-12-13T09:07:31.474Z"
   },
   {
    "duration": 14,
    "start_time": "2022-12-13T09:07:32.114Z"
   },
   {
    "duration": 3,
    "start_time": "2022-12-13T09:07:37.340Z"
   },
   {
    "duration": 13,
    "start_time": "2022-12-13T09:07:37.894Z"
   },
   {
    "duration": 24,
    "start_time": "2022-12-13T09:07:40.859Z"
   },
   {
    "duration": 1194,
    "start_time": "2022-12-13T09:07:59.499Z"
   },
   {
    "duration": 1799,
    "start_time": "2022-12-13T09:08:18.086Z"
   },
   {
    "duration": 47,
    "start_time": "2022-12-13T09:08:48.562Z"
   },
   {
    "duration": 26,
    "start_time": "2022-12-13T09:09:08.784Z"
   },
   {
    "duration": 28,
    "start_time": "2022-12-13T09:09:32.509Z"
   },
   {
    "duration": 15,
    "start_time": "2022-12-13T09:10:15.222Z"
   },
   {
    "duration": 14,
    "start_time": "2022-12-13T09:10:49.846Z"
   },
   {
    "duration": 15,
    "start_time": "2022-12-13T09:17:39.346Z"
   },
   {
    "duration": 15,
    "start_time": "2022-12-13T09:17:46.002Z"
   },
   {
    "duration": 2,
    "start_time": "2022-12-13T09:18:40.683Z"
   },
   {
    "duration": 50,
    "start_time": "2022-12-13T09:18:40.865Z"
   },
   {
    "duration": 20,
    "start_time": "2022-12-13T09:18:41.034Z"
   },
   {
    "duration": 51,
    "start_time": "2022-12-13T09:18:41.211Z"
   },
   {
    "duration": 3,
    "start_time": "2022-12-13T09:18:41.396Z"
   },
   {
    "duration": 9,
    "start_time": "2022-12-13T09:18:41.581Z"
   },
   {
    "duration": 23,
    "start_time": "2022-12-13T09:18:41.974Z"
   },
   {
    "duration": 14,
    "start_time": "2022-12-13T09:18:42.385Z"
   },
   {
    "duration": 14,
    "start_time": "2022-12-13T09:18:52.716Z"
   },
   {
    "duration": 3,
    "start_time": "2022-12-13T09:19:02.402Z"
   },
   {
    "duration": 50,
    "start_time": "2022-12-13T09:19:02.562Z"
   },
   {
    "duration": 21,
    "start_time": "2022-12-13T09:19:02.710Z"
   },
   {
    "duration": 15,
    "start_time": "2022-12-13T09:19:02.883Z"
   },
   {
    "duration": 4,
    "start_time": "2022-12-13T09:19:03.046Z"
   },
   {
    "duration": 9,
    "start_time": "2022-12-13T09:19:03.532Z"
   },
   {
    "duration": 24,
    "start_time": "2022-12-13T09:19:03.927Z"
   },
   {
    "duration": 15,
    "start_time": "2022-12-13T09:19:04.421Z"
   },
   {
    "duration": 14,
    "start_time": "2022-12-13T09:19:08.723Z"
   },
   {
    "duration": 3,
    "start_time": "2022-12-13T09:19:16.301Z"
   },
   {
    "duration": 52,
    "start_time": "2022-12-13T09:19:16.661Z"
   },
   {
    "duration": 21,
    "start_time": "2022-12-13T09:19:16.964Z"
   },
   {
    "duration": 14,
    "start_time": "2022-12-13T09:19:17.901Z"
   },
   {
    "duration": 4,
    "start_time": "2022-12-13T09:19:18.582Z"
   },
   {
    "duration": 10,
    "start_time": "2022-12-13T09:19:19.142Z"
   },
   {
    "duration": 22,
    "start_time": "2022-12-13T09:19:19.750Z"
   },
   {
    "duration": 16,
    "start_time": "2022-12-13T09:19:20.402Z"
   },
   {
    "duration": 14,
    "start_time": "2022-12-13T09:19:27.331Z"
   },
   {
    "duration": 2,
    "start_time": "2022-12-13T09:19:32.372Z"
   },
   {
    "duration": 52,
    "start_time": "2022-12-13T09:19:32.523Z"
   },
   {
    "duration": 20,
    "start_time": "2022-12-13T09:19:32.678Z"
   },
   {
    "duration": 18,
    "start_time": "2022-12-13T09:19:32.830Z"
   },
   {
    "duration": 3,
    "start_time": "2022-12-13T09:19:32.981Z"
   },
   {
    "duration": 10,
    "start_time": "2022-12-13T09:19:33.125Z"
   },
   {
    "duration": 22,
    "start_time": "2022-12-13T09:19:33.514Z"
   },
   {
    "duration": 17,
    "start_time": "2022-12-13T09:19:33.913Z"
   },
   {
    "duration": 450,
    "start_time": "2022-12-13T09:19:51.964Z"
   },
   {
    "duration": 51,
    "start_time": "2022-12-13T09:19:52.416Z"
   },
   {
    "duration": 28,
    "start_time": "2022-12-13T09:19:52.469Z"
   },
   {
    "duration": 13,
    "start_time": "2022-12-13T09:19:52.499Z"
   },
   {
    "duration": 4,
    "start_time": "2022-12-13T09:19:52.626Z"
   },
   {
    "duration": 9,
    "start_time": "2022-12-13T09:19:52.804Z"
   },
   {
    "duration": 22,
    "start_time": "2022-12-13T09:19:53.198Z"
   },
   {
    "duration": 14,
    "start_time": "2022-12-13T09:19:53.472Z"
   },
   {
    "duration": 474,
    "start_time": "2022-12-13T09:20:23.381Z"
   },
   {
    "duration": 54,
    "start_time": "2022-12-13T09:20:23.857Z"
   },
   {
    "duration": 28,
    "start_time": "2022-12-13T09:20:24.132Z"
   },
   {
    "duration": 14,
    "start_time": "2022-12-13T09:20:24.632Z"
   },
   {
    "duration": 3,
    "start_time": "2022-12-13T09:20:25.226Z"
   },
   {
    "duration": 9,
    "start_time": "2022-12-13T09:20:25.883Z"
   },
   {
    "duration": 21,
    "start_time": "2022-12-13T09:20:26.935Z"
   },
   {
    "duration": 15,
    "start_time": "2022-12-13T09:20:27.733Z"
   },
   {
    "duration": 17,
    "start_time": "2022-12-13T09:20:51.031Z"
   },
   {
    "duration": 15,
    "start_time": "2022-12-13T09:20:58.939Z"
   },
   {
    "duration": 18,
    "start_time": "2022-12-13T09:26:59.655Z"
   },
   {
    "duration": 480,
    "start_time": "2022-12-13T09:27:07.976Z"
   },
   {
    "duration": 59,
    "start_time": "2022-12-13T09:27:08.458Z"
   },
   {
    "duration": 33,
    "start_time": "2022-12-13T09:27:08.519Z"
   },
   {
    "duration": 13,
    "start_time": "2022-12-13T09:27:08.553Z"
   },
   {
    "duration": 3,
    "start_time": "2022-12-13T09:27:08.651Z"
   },
   {
    "duration": 9,
    "start_time": "2022-12-13T09:27:08.805Z"
   },
   {
    "duration": 24,
    "start_time": "2022-12-13T09:27:08.978Z"
   },
   {
    "duration": 16,
    "start_time": "2022-12-13T09:27:09.359Z"
   },
   {
    "duration": 15,
    "start_time": "2022-12-13T09:28:19.497Z"
   },
   {
    "duration": 26,
    "start_time": "2022-12-13T09:28:51.674Z"
   },
   {
    "duration": 77,
    "start_time": "2022-12-13T09:29:00.325Z"
   },
   {
    "duration": 26,
    "start_time": "2022-12-13T09:29:22.929Z"
   },
   {
    "duration": 418,
    "start_time": "2022-12-13T09:29:29.149Z"
   },
   {
    "duration": 54,
    "start_time": "2022-12-13T09:29:29.569Z"
   },
   {
    "duration": 30,
    "start_time": "2022-12-13T09:29:29.626Z"
   },
   {
    "duration": 14,
    "start_time": "2022-12-13T09:29:29.846Z"
   },
   {
    "duration": 4,
    "start_time": "2022-12-13T09:29:30.030Z"
   },
   {
    "duration": 9,
    "start_time": "2022-12-13T09:29:30.230Z"
   },
   {
    "duration": 21,
    "start_time": "2022-12-13T09:29:30.433Z"
   },
   {
    "duration": 24,
    "start_time": "2022-12-13T09:29:30.601Z"
   },
   {
    "duration": 78,
    "start_time": "2022-12-13T09:30:42.655Z"
   },
   {
    "duration": 30,
    "start_time": "2022-12-13T09:30:58.989Z"
   },
   {
    "duration": 51,
    "start_time": "2022-12-13T09:32:22.098Z"
   },
   {
    "duration": 51,
    "start_time": "2022-12-13T09:32:31.231Z"
   },
   {
    "duration": 5,
    "start_time": "2022-12-13T09:32:46.556Z"
   },
   {
    "duration": 469,
    "start_time": "2022-12-13T09:32:51.600Z"
   },
   {
    "duration": 50,
    "start_time": "2022-12-13T09:32:52.070Z"
   },
   {
    "duration": 28,
    "start_time": "2022-12-13T09:32:52.122Z"
   },
   {
    "duration": 13,
    "start_time": "2022-12-13T09:32:52.152Z"
   },
   {
    "duration": 3,
    "start_time": "2022-12-13T09:32:52.246Z"
   },
   {
    "duration": 9,
    "start_time": "2022-12-13T09:32:52.400Z"
   },
   {
    "duration": 5,
    "start_time": "2022-12-13T09:32:53.009Z"
   },
   {
    "duration": 22,
    "start_time": "2022-12-13T09:32:53.529Z"
   },
   {
    "duration": 21,
    "start_time": "2022-12-13T09:33:22.596Z"
   },
   {
    "duration": 9,
    "start_time": "2022-12-13T09:34:15.772Z"
   },
   {
    "duration": 29,
    "start_time": "2022-12-13T09:34:18.355Z"
   },
   {
    "duration": 31,
    "start_time": "2022-12-13T09:34:32.662Z"
   },
   {
    "duration": 73,
    "start_time": "2022-12-13T09:34:45.244Z"
   },
   {
    "duration": 3,
    "start_time": "2022-12-13T09:35:08.774Z"
   },
   {
    "duration": 50,
    "start_time": "2022-12-13T09:35:09.119Z"
   },
   {
    "duration": 22,
    "start_time": "2022-12-13T09:35:09.304Z"
   },
   {
    "duration": 52,
    "start_time": "2022-12-13T09:35:09.485Z"
   },
   {
    "duration": 3,
    "start_time": "2022-12-13T09:35:09.793Z"
   },
   {
    "duration": 10,
    "start_time": "2022-12-13T09:35:10.371Z"
   },
   {
    "duration": 12,
    "start_time": "2022-12-13T09:35:10.973Z"
   },
   {
    "duration": 3,
    "start_time": "2022-12-13T09:36:05.682Z"
   },
   {
    "duration": 3,
    "start_time": "2022-12-13T09:36:11.166Z"
   },
   {
    "duration": 8,
    "start_time": "2022-12-13T09:36:25.027Z"
   },
   {
    "duration": 4,
    "start_time": "2022-12-13T09:36:30.141Z"
   },
   {
    "duration": 4,
    "start_time": "2022-12-13T09:36:53.652Z"
   },
   {
    "duration": 4,
    "start_time": "2022-12-13T09:36:56.011Z"
   },
   {
    "duration": 19,
    "start_time": "2022-12-13T09:37:28.571Z"
   },
   {
    "duration": 47,
    "start_time": "2022-12-13T09:37:51.097Z"
   },
   {
    "duration": 45,
    "start_time": "2022-12-13T09:38:15.813Z"
   },
   {
    "duration": 16,
    "start_time": "2022-12-13T09:38:23.697Z"
   },
   {
    "duration": 23,
    "start_time": "2022-12-13T09:44:43.808Z"
   },
   {
    "duration": 8,
    "start_time": "2022-12-13T09:46:09.208Z"
   },
   {
    "duration": 24,
    "start_time": "2022-12-13T09:46:18.741Z"
   },
   {
    "duration": 6,
    "start_time": "2022-12-13T09:47:35.753Z"
   },
   {
    "duration": 7,
    "start_time": "2022-12-13T09:47:40.136Z"
   },
   {
    "duration": 5,
    "start_time": "2022-12-13T09:47:55.955Z"
   },
   {
    "duration": 6,
    "start_time": "2022-12-13T09:48:25.007Z"
   },
   {
    "duration": 22,
    "start_time": "2022-12-13T09:48:30.240Z"
   },
   {
    "duration": 20,
    "start_time": "2022-12-13T09:49:35.598Z"
   },
   {
    "duration": 7,
    "start_time": "2022-12-13T09:50:43.517Z"
   },
   {
    "duration": 5,
    "start_time": "2022-12-13T09:50:57.555Z"
   },
   {
    "duration": 22,
    "start_time": "2022-12-13T09:51:02.565Z"
   },
   {
    "duration": 18,
    "start_time": "2022-12-13T09:51:03.243Z"
   },
   {
    "duration": 518,
    "start_time": "2022-12-13T09:51:14.586Z"
   },
   {
    "duration": 56,
    "start_time": "2022-12-13T09:51:15.106Z"
   },
   {
    "duration": 34,
    "start_time": "2022-12-13T09:51:15.164Z"
   },
   {
    "duration": 15,
    "start_time": "2022-12-13T09:51:15.201Z"
   },
   {
    "duration": 4,
    "start_time": "2022-12-13T09:51:15.217Z"
   },
   {
    "duration": 9,
    "start_time": "2022-12-13T09:51:15.332Z"
   },
   {
    "duration": 5,
    "start_time": "2022-12-13T09:51:15.484Z"
   },
   {
    "duration": 23,
    "start_time": "2022-12-13T09:51:15.640Z"
   },
   {
    "duration": 100,
    "start_time": "2022-12-13T09:51:16.269Z"
   },
   {
    "duration": 29,
    "start_time": "2022-12-13T09:52:10.058Z"
   },
   {
    "duration": 7,
    "start_time": "2022-12-13T09:53:10.272Z"
   },
   {
    "duration": 22,
    "start_time": "2022-12-13T09:53:10.997Z"
   },
   {
    "duration": 11,
    "start_time": "2022-12-13T09:53:15.242Z"
   },
   {
    "duration": 10,
    "start_time": "2022-12-13T09:53:18.299Z"
   },
   {
    "duration": 22,
    "start_time": "2022-12-13T09:53:29.906Z"
   },
   {
    "duration": 469,
    "start_time": "2022-12-13T09:53:40.282Z"
   },
   {
    "duration": 52,
    "start_time": "2022-12-13T09:53:40.753Z"
   },
   {
    "duration": 30,
    "start_time": "2022-12-13T09:53:40.929Z"
   },
   {
    "duration": 17,
    "start_time": "2022-12-13T09:53:41.915Z"
   },
   {
    "duration": 4,
    "start_time": "2022-12-13T09:53:42.703Z"
   },
   {
    "duration": 8,
    "start_time": "2022-12-13T09:53:44.276Z"
   },
   {
    "duration": 5,
    "start_time": "2022-12-13T09:53:45.599Z"
   },
   {
    "duration": 21,
    "start_time": "2022-12-13T09:53:47.582Z"
   },
   {
    "duration": 81,
    "start_time": "2022-12-13T09:53:48.802Z"
   },
   {
    "duration": 10,
    "start_time": "2022-12-13T09:54:11.654Z"
   },
   {
    "duration": 10,
    "start_time": "2022-12-13T09:54:27.057Z"
   },
   {
    "duration": 2,
    "start_time": "2022-12-13T09:54:29.359Z"
   },
   {
    "duration": 54,
    "start_time": "2022-12-13T09:54:29.504Z"
   },
   {
    "duration": 21,
    "start_time": "2022-12-13T09:54:29.658Z"
   },
   {
    "duration": 14,
    "start_time": "2022-12-13T09:54:29.802Z"
   },
   {
    "duration": 3,
    "start_time": "2022-12-13T09:54:29.938Z"
   },
   {
    "duration": 9,
    "start_time": "2022-12-13T09:54:30.083Z"
   },
   {
    "duration": 16,
    "start_time": "2022-12-13T09:54:30.227Z"
   },
   {
    "duration": 22,
    "start_time": "2022-12-13T09:54:31.585Z"
   },
   {
    "duration": 506,
    "start_time": "2022-12-13T09:54:37.032Z"
   },
   {
    "duration": 53,
    "start_time": "2022-12-13T09:54:37.540Z"
   },
   {
    "duration": 34,
    "start_time": "2022-12-13T09:54:37.778Z"
   },
   {
    "duration": 18,
    "start_time": "2022-12-13T09:54:38.499Z"
   },
   {
    "duration": 4,
    "start_time": "2022-12-13T09:54:39.784Z"
   },
   {
    "duration": 12,
    "start_time": "2022-12-13T09:54:42.408Z"
   },
   {
    "duration": 11,
    "start_time": "2022-12-13T09:54:43.587Z"
   },
   {
    "duration": 14,
    "start_time": "2022-12-13T09:56:30.727Z"
   },
   {
    "duration": 12,
    "start_time": "2022-12-13T09:56:35.359Z"
   },
   {
    "duration": 484,
    "start_time": "2022-12-13T09:56:39.975Z"
   },
   {
    "duration": 54,
    "start_time": "2022-12-13T09:56:40.460Z"
   },
   {
    "duration": 29,
    "start_time": "2022-12-13T09:56:40.515Z"
   },
   {
    "duration": 14,
    "start_time": "2022-12-13T09:56:40.554Z"
   },
   {
    "duration": 4,
    "start_time": "2022-12-13T09:56:40.973Z"
   },
   {
    "duration": 9,
    "start_time": "2022-12-13T09:56:41.303Z"
   },
   {
    "duration": 24,
    "start_time": "2022-12-13T09:56:41.896Z"
   },
   {
    "duration": 16,
    "start_time": "2022-12-13T09:57:24.808Z"
   },
   {
    "duration": 422,
    "start_time": "2022-12-13T09:57:31.740Z"
   },
   {
    "duration": 98,
    "start_time": "2022-12-13T09:57:32.164Z"
   },
   {
    "duration": 29,
    "start_time": "2022-12-13T09:57:32.470Z"
   },
   {
    "duration": 16,
    "start_time": "2022-12-13T09:57:33.105Z"
   },
   {
    "duration": 3,
    "start_time": "2022-12-13T09:57:33.794Z"
   },
   {
    "duration": 9,
    "start_time": "2022-12-13T09:57:34.944Z"
   },
   {
    "duration": 14,
    "start_time": "2022-12-13T09:57:35.681Z"
   },
   {
    "duration": 25,
    "start_time": "2022-12-13T09:57:37.012Z"
   },
   {
    "duration": 76,
    "start_time": "2022-12-13T09:57:39.699Z"
   },
   {
    "duration": 13,
    "start_time": "2022-12-13T09:58:01.547Z"
   },
   {
    "duration": 412,
    "start_time": "2022-12-13T09:58:08.745Z"
   },
   {
    "duration": 50,
    "start_time": "2022-12-13T09:58:09.159Z"
   },
   {
    "duration": 29,
    "start_time": "2022-12-13T09:58:09.210Z"
   },
   {
    "duration": 13,
    "start_time": "2022-12-13T09:58:09.242Z"
   },
   {
    "duration": 4,
    "start_time": "2022-12-13T09:58:09.410Z"
   },
   {
    "duration": 9,
    "start_time": "2022-12-13T09:58:09.596Z"
   },
   {
    "duration": 15,
    "start_time": "2022-12-13T09:58:10.117Z"
   },
   {
    "duration": 14,
    "start_time": "2022-12-13T09:58:28.419Z"
   },
   {
    "duration": 24,
    "start_time": "2022-12-13T09:58:30.814Z"
   },
   {
    "duration": 30,
    "start_time": "2022-12-13T09:58:31.499Z"
   },
   {
    "duration": 72,
    "start_time": "2022-12-13T09:59:52.836Z"
   },
   {
    "duration": 48,
    "start_time": "2022-12-13T10:00:08.554Z"
   },
   {
    "duration": 27,
    "start_time": "2022-12-13T10:00:14.172Z"
   },
   {
    "duration": 27,
    "start_time": "2022-12-13T10:01:03.388Z"
   },
   {
    "duration": 13,
    "start_time": "2022-12-13T10:01:16.300Z"
   },
   {
    "duration": 13,
    "start_time": "2022-12-13T10:02:08.909Z"
   },
   {
    "duration": 9,
    "start_time": "2022-12-13T10:02:21.188Z"
   },
   {
    "duration": 8,
    "start_time": "2022-12-13T10:02:26.337Z"
   },
   {
    "duration": 9,
    "start_time": "2022-12-13T10:02:32.213Z"
   },
   {
    "duration": 23,
    "start_time": "2022-12-13T10:02:50.049Z"
   },
   {
    "duration": 76,
    "start_time": "2022-12-13T10:03:48.768Z"
   },
   {
    "duration": 36,
    "start_time": "2022-12-13T10:04:36.452Z"
   },
   {
    "duration": 80,
    "start_time": "2022-12-13T10:05:02.857Z"
   },
   {
    "duration": 31,
    "start_time": "2022-12-13T10:05:07.773Z"
   },
   {
    "duration": 8,
    "start_time": "2022-12-13T10:06:31.293Z"
   },
   {
    "duration": 39,
    "start_time": "2022-12-13T10:06:53.552Z"
   },
   {
    "duration": 37,
    "start_time": "2022-12-13T10:07:02.566Z"
   },
   {
    "duration": 37,
    "start_time": "2022-12-13T10:07:11.280Z"
   },
   {
    "duration": 51,
    "start_time": "2022-12-13T10:07:27.918Z"
   },
   {
    "duration": 4,
    "start_time": "2022-12-13T10:09:46.880Z"
   },
   {
    "duration": 738,
    "start_time": "2022-12-13T10:09:58.071Z"
   },
   {
    "duration": 905,
    "start_time": "2022-12-13T10:10:20.347Z"
   },
   {
    "duration": 840,
    "start_time": "2022-12-13T10:10:55.846Z"
   },
   {
    "duration": 5,
    "start_time": "2022-12-13T10:11:04.744Z"
   },
   {
    "duration": 372,
    "start_time": "2022-12-13T10:11:16.113Z"
   },
   {
    "duration": 17,
    "start_time": "2022-12-13T10:12:05.690Z"
   },
   {
    "duration": 107,
    "start_time": "2022-12-13T10:12:51.617Z"
   },
   {
    "duration": 17,
    "start_time": "2022-12-13T10:12:56.901Z"
   },
   {
    "duration": 40,
    "start_time": "2022-12-13T10:13:02.809Z"
   },
   {
    "duration": 42,
    "start_time": "2022-12-13T10:14:28.813Z"
   },
   {
    "duration": 25,
    "start_time": "2022-12-13T10:15:07.966Z"
   },
   {
    "duration": 275,
    "start_time": "2022-12-13T10:15:21.546Z"
   },
   {
    "duration": 298,
    "start_time": "2022-12-13T10:15:30.943Z"
   },
   {
    "duration": 3,
    "start_time": "2022-12-13T10:16:07.058Z"
   },
   {
    "duration": 54,
    "start_time": "2022-12-13T10:16:07.216Z"
   },
   {
    "duration": 22,
    "start_time": "2022-12-13T10:16:07.362Z"
   },
   {
    "duration": 15,
    "start_time": "2022-12-13T10:16:07.513Z"
   },
   {
    "duration": 4,
    "start_time": "2022-12-13T10:16:07.658Z"
   },
   {
    "duration": 10,
    "start_time": "2022-12-13T10:16:07.825Z"
   },
   {
    "duration": 14,
    "start_time": "2022-12-13T10:16:07.986Z"
   },
   {
    "duration": 25,
    "start_time": "2022-12-13T10:16:08.147Z"
   },
   {
    "duration": 275,
    "start_time": "2022-12-13T10:16:08.310Z"
   },
   {
    "duration": 10,
    "start_time": "2022-12-13T10:16:46.845Z"
   },
   {
    "duration": 10,
    "start_time": "2022-12-13T10:17:00.659Z"
   },
   {
    "duration": 25,
    "start_time": "2022-12-13T10:17:09.882Z"
   },
   {
    "duration": 82,
    "start_time": "2022-12-13T10:37:09.538Z"
   },
   {
    "duration": 61,
    "start_time": "2022-12-13T10:38:05.088Z"
   },
   {
    "duration": 222,
    "start_time": "2022-12-13T10:38:10.289Z"
   },
   {
    "duration": 227,
    "start_time": "2022-12-13T10:38:37.877Z"
   },
   {
    "duration": 220,
    "start_time": "2022-12-13T10:39:15.015Z"
   },
   {
    "duration": 250,
    "start_time": "2022-12-13T10:39:27.449Z"
   },
   {
    "duration": 268,
    "start_time": "2022-12-13T10:39:39.392Z"
   },
   {
    "duration": 21,
    "start_time": "2022-12-13T10:41:24.289Z"
   },
   {
    "duration": 5,
    "start_time": "2022-12-13T10:42:19.566Z"
   },
   {
    "duration": 6,
    "start_time": "2022-12-13T10:42:25.920Z"
   },
   {
    "duration": 12,
    "start_time": "2022-12-13T10:42:38.117Z"
   },
   {
    "duration": 11,
    "start_time": "2022-12-13T10:43:13.283Z"
   },
   {
    "duration": 8,
    "start_time": "2022-12-13T10:43:39.990Z"
   },
   {
    "duration": 7,
    "start_time": "2022-12-13T10:43:56.763Z"
   },
   {
    "duration": 6,
    "start_time": "2022-12-13T10:44:03.144Z"
   },
   {
    "duration": 12,
    "start_time": "2022-12-13T10:44:18.480Z"
   },
   {
    "duration": 46,
    "start_time": "2022-12-13T10:44:47.856Z"
   },
   {
    "duration": 23,
    "start_time": "2022-12-13T10:44:55.954Z"
   },
   {
    "duration": 4,
    "start_time": "2022-12-13T10:47:16.080Z"
   },
   {
    "duration": 72,
    "start_time": "2022-12-13T10:47:16.464Z"
   },
   {
    "duration": 20,
    "start_time": "2022-12-13T10:47:16.911Z"
   },
   {
    "duration": 16,
    "start_time": "2022-12-13T10:47:17.526Z"
   },
   {
    "duration": 3,
    "start_time": "2022-12-13T10:47:18.233Z"
   },
   {
    "duration": 10,
    "start_time": "2022-12-13T10:47:18.920Z"
   },
   {
    "duration": 50,
    "start_time": "2022-12-13T10:51:01.104Z"
   },
   {
    "duration": 50,
    "start_time": "2022-12-13T10:51:14.889Z"
   },
   {
    "duration": 1882,
    "start_time": "2022-12-13T10:51:28.641Z"
   },
   {
    "duration": 862,
    "start_time": "2022-12-13T10:51:55.314Z"
   },
   {
    "duration": 6,
    "start_time": "2022-12-13T10:52:04.821Z"
   },
   {
    "duration": 22,
    "start_time": "2022-12-13T10:52:49.591Z"
   },
   {
    "duration": 31,
    "start_time": "2022-12-13T10:54:09.342Z"
   },
   {
    "duration": 14,
    "start_time": "2022-12-13T10:55:56.010Z"
   },
   {
    "duration": 7,
    "start_time": "2022-12-13T11:01:04.684Z"
   },
   {
    "duration": 13,
    "start_time": "2022-12-13T11:03:43.744Z"
   },
   {
    "duration": 10,
    "start_time": "2022-12-13T11:04:43.899Z"
   },
   {
    "duration": 11,
    "start_time": "2022-12-13T11:05:20.169Z"
   },
   {
    "duration": 8,
    "start_time": "2022-12-13T11:05:29.528Z"
   },
   {
    "duration": 14,
    "start_time": "2022-12-13T11:05:44.141Z"
   },
   {
    "duration": 29,
    "start_time": "2022-12-13T11:05:51.002Z"
   },
   {
    "duration": 8,
    "start_time": "2022-12-13T11:06:01.499Z"
   },
   {
    "duration": 51,
    "start_time": "2022-12-13T11:06:52.657Z"
   },
   {
    "duration": 12,
    "start_time": "2022-12-13T11:07:14.817Z"
   },
   {
    "duration": 19,
    "start_time": "2022-12-13T11:07:26.945Z"
   },
   {
    "duration": 30,
    "start_time": "2022-12-13T11:07:32.097Z"
   },
   {
    "duration": 207,
    "start_time": "2022-12-13T11:08:05.111Z"
   },
   {
    "duration": 30,
    "start_time": "2022-12-13T11:09:31.770Z"
   },
   {
    "duration": 231,
    "start_time": "2022-12-13T11:10:10.974Z"
   },
   {
    "duration": 45,
    "start_time": "2022-12-13T11:10:20.471Z"
   },
   {
    "duration": 226,
    "start_time": "2022-12-13T11:10:29.849Z"
   },
   {
    "duration": 3,
    "start_time": "2022-12-13T11:10:33.447Z"
   },
   {
    "duration": 53,
    "start_time": "2022-12-13T11:10:33.857Z"
   },
   {
    "duration": 22,
    "start_time": "2022-12-13T11:10:34.260Z"
   },
   {
    "duration": 13,
    "start_time": "2022-12-13T11:10:34.924Z"
   },
   {
    "duration": 3,
    "start_time": "2022-12-13T11:10:42.122Z"
   },
   {
    "duration": 9,
    "start_time": "2022-12-13T11:10:43.196Z"
   },
   {
    "duration": 7,
    "start_time": "2022-12-13T11:10:44.775Z"
   },
   {
    "duration": 6,
    "start_time": "2022-12-13T11:10:46.220Z"
   },
   {
    "duration": 5,
    "start_time": "2022-12-13T11:10:52.349Z"
   },
   {
    "duration": 14,
    "start_time": "2022-12-13T11:11:04.471Z"
   },
   {
    "duration": 9,
    "start_time": "2022-12-13T11:11:24.956Z"
   },
   {
    "duration": 53,
    "start_time": "2022-12-13T11:11:25.090Z"
   },
   {
    "duration": 20,
    "start_time": "2022-12-13T11:11:25.245Z"
   },
   {
    "duration": 13,
    "start_time": "2022-12-13T11:11:25.380Z"
   },
   {
    "duration": 4,
    "start_time": "2022-12-13T11:11:25.522Z"
   },
   {
    "duration": 12,
    "start_time": "2022-12-13T11:11:25.664Z"
   },
   {
    "duration": 7,
    "start_time": "2022-12-13T11:11:25.820Z"
   },
   {
    "duration": 6,
    "start_time": "2022-12-13T11:11:26.316Z"
   },
   {
    "duration": 4,
    "start_time": "2022-12-13T11:11:29.132Z"
   },
   {
    "duration": 545,
    "start_time": "2022-12-13T11:11:56.538Z"
   },
   {
    "duration": 0,
    "start_time": "2022-12-13T11:11:57.085Z"
   },
   {
    "duration": 0,
    "start_time": "2022-12-13T11:11:57.086Z"
   },
   {
    "duration": 10,
    "start_time": "2022-12-13T11:11:57.229Z"
   },
   {
    "duration": 8,
    "start_time": "2022-12-13T11:11:57.376Z"
   },
   {
    "duration": 7,
    "start_time": "2022-12-13T11:11:57.523Z"
   },
   {
    "duration": 7,
    "start_time": "2022-12-13T11:11:57.682Z"
   },
   {
    "duration": 8,
    "start_time": "2022-12-13T11:11:57.829Z"
   },
   {
    "duration": 10,
    "start_time": "2022-12-13T11:12:01.236Z"
   },
   {
    "duration": 57,
    "start_time": "2022-12-13T11:12:02.392Z"
   },
   {
    "duration": 28,
    "start_time": "2022-12-13T11:12:02.817Z"
   },
   {
    "duration": 16,
    "start_time": "2022-12-13T11:12:03.502Z"
   },
   {
    "duration": 3,
    "start_time": "2022-12-13T11:12:03.723Z"
   },
   {
    "duration": 10,
    "start_time": "2022-12-13T11:12:03.875Z"
   },
   {
    "duration": 9,
    "start_time": "2022-12-13T11:12:04.052Z"
   },
   {
    "duration": 6,
    "start_time": "2022-12-13T11:12:04.204Z"
   },
   {
    "duration": 3,
    "start_time": "2022-12-13T11:12:50.705Z"
   },
   {
    "duration": 50,
    "start_time": "2022-12-13T11:12:51.066Z"
   },
   {
    "duration": 20,
    "start_time": "2022-12-13T11:12:51.213Z"
   },
   {
    "duration": 14,
    "start_time": "2022-12-13T11:12:51.356Z"
   },
   {
    "duration": 4,
    "start_time": "2022-12-13T11:12:51.507Z"
   },
   {
    "duration": 9,
    "start_time": "2022-12-13T11:12:51.654Z"
   },
   {
    "duration": 6,
    "start_time": "2022-12-13T11:12:51.790Z"
   },
   {
    "duration": 5,
    "start_time": "2022-12-13T11:12:51.932Z"
   },
   {
    "duration": 5,
    "start_time": "2022-12-13T11:13:27.738Z"
   },
   {
    "duration": 11,
    "start_time": "2022-12-13T11:13:36.015Z"
   },
   {
    "duration": 10,
    "start_time": "2022-12-13T11:13:45.015Z"
   },
   {
    "duration": 8,
    "start_time": "2022-12-13T11:13:54.334Z"
   },
   {
    "duration": 9,
    "start_time": "2022-12-13T11:14:00.127Z"
   },
   {
    "duration": 65,
    "start_time": "2022-12-13T11:14:30.850Z"
   },
   {
    "duration": 11,
    "start_time": "2022-12-13T11:14:35.926Z"
   },
   {
    "duration": 13,
    "start_time": "2022-12-13T11:14:58.840Z"
   },
   {
    "duration": 8,
    "start_time": "2022-12-13T11:15:04.490Z"
   },
   {
    "duration": 10,
    "start_time": "2022-12-13T11:17:28.504Z"
   },
   {
    "duration": 464,
    "start_time": "2022-12-13T11:17:34.388Z"
   },
   {
    "duration": 54,
    "start_time": "2022-12-13T11:17:34.854Z"
   },
   {
    "duration": 31,
    "start_time": "2022-12-13T11:17:35.127Z"
   },
   {
    "duration": 15,
    "start_time": "2022-12-13T11:17:35.720Z"
   },
   {
    "duration": 3,
    "start_time": "2022-12-13T11:17:36.338Z"
   },
   {
    "duration": 9,
    "start_time": "2022-12-13T11:17:37.578Z"
   },
   {
    "duration": 14,
    "start_time": "2022-12-13T11:17:38.893Z"
   },
   {
    "duration": 14,
    "start_time": "2022-12-13T11:18:29.757Z"
   },
   {
    "duration": 7,
    "start_time": "2022-12-13T11:18:32.685Z"
   },
   {
    "duration": 6,
    "start_time": "2022-12-13T11:18:39.375Z"
   },
   {
    "duration": 72,
    "start_time": "2022-12-13T11:19:17.203Z"
   },
   {
    "duration": 8,
    "start_time": "2022-12-13T11:20:55.687Z"
   },
   {
    "duration": 7,
    "start_time": "2022-12-13T11:24:57.723Z"
   },
   {
    "duration": 3,
    "start_time": "2022-12-13T11:25:07.259Z"
   },
   {
    "duration": 612,
    "start_time": "2022-12-13T11:25:17.770Z"
   },
   {
    "duration": 553,
    "start_time": "2022-12-13T11:25:27.460Z"
   },
   {
    "duration": 595,
    "start_time": "2022-12-13T11:27:40.174Z"
   },
   {
    "duration": 3,
    "start_time": "2022-12-13T11:27:48.810Z"
   },
   {
    "duration": 53,
    "start_time": "2022-12-13T11:27:48.954Z"
   },
   {
    "duration": 24,
    "start_time": "2022-12-13T11:27:49.104Z"
   },
   {
    "duration": 15,
    "start_time": "2022-12-13T11:27:49.234Z"
   },
   {
    "duration": 3,
    "start_time": "2022-12-13T11:27:49.379Z"
   },
   {
    "duration": 11,
    "start_time": "2022-12-13T11:27:49.524Z"
   },
   {
    "duration": 17,
    "start_time": "2022-12-13T11:27:49.936Z"
   },
   {
    "duration": 7,
    "start_time": "2022-12-13T11:27:50.201Z"
   },
   {
    "duration": 5,
    "start_time": "2022-12-13T11:27:50.721Z"
   },
   {
    "duration": 5,
    "start_time": "2022-12-13T11:27:51.337Z"
   },
   {
    "duration": 3,
    "start_time": "2022-12-13T11:28:45.107Z"
   },
   {
    "duration": 56,
    "start_time": "2022-12-13T11:28:52.874Z"
   },
   {
    "duration": 450,
    "start_time": "2022-12-13T11:29:14.301Z"
   },
   {
    "duration": 53,
    "start_time": "2022-12-13T11:29:14.754Z"
   },
   {
    "duration": 29,
    "start_time": "2022-12-13T11:29:14.809Z"
   },
   {
    "duration": 14,
    "start_time": "2022-12-13T11:29:14.840Z"
   },
   {
    "duration": 2,
    "start_time": "2022-12-13T11:29:14.856Z"
   },
   {
    "duration": 10,
    "start_time": "2022-12-13T11:29:14.955Z"
   },
   {
    "duration": 15,
    "start_time": "2022-12-13T11:29:15.487Z"
   },
   {
    "duration": 11,
    "start_time": "2022-12-13T11:29:15.952Z"
   },
   {
    "duration": 7,
    "start_time": "2022-12-13T11:29:16.770Z"
   },
   {
    "duration": 6,
    "start_time": "2022-12-13T11:29:33.929Z"
   },
   {
    "duration": 10,
    "start_time": "2022-12-13T11:30:45.973Z"
   },
   {
    "duration": 23,
    "start_time": "2022-12-13T11:31:02.127Z"
   },
   {
    "duration": 21,
    "start_time": "2022-12-13T11:31:32.452Z"
   },
   {
    "duration": 22,
    "start_time": "2022-12-13T11:31:42.069Z"
   },
   {
    "duration": 8,
    "start_time": "2022-12-13T11:35:27.288Z"
   },
   {
    "duration": 15,
    "start_time": "2022-12-13T11:35:35.792Z"
   },
   {
    "duration": 6,
    "start_time": "2022-12-13T11:35:49.373Z"
   },
   {
    "duration": 4,
    "start_time": "2022-12-13T11:36:45.549Z"
   },
   {
    "duration": 11,
    "start_time": "2022-12-13T11:37:16.361Z"
   },
   {
    "duration": 677,
    "start_time": "2022-12-13T12:06:05.440Z"
   },
   {
    "duration": 2,
    "start_time": "2022-12-13T12:06:20.350Z"
   },
   {
    "duration": 49,
    "start_time": "2022-12-13T12:06:20.482Z"
   },
   {
    "duration": 59,
    "start_time": "2022-12-13T12:06:20.774Z"
   },
   {
    "duration": 13,
    "start_time": "2022-12-13T12:06:20.923Z"
   },
   {
    "duration": 3,
    "start_time": "2022-12-13T12:06:21.073Z"
   },
   {
    "duration": 9,
    "start_time": "2022-12-13T12:06:21.222Z"
   },
   {
    "duration": 14,
    "start_time": "2022-12-13T12:06:21.380Z"
   },
   {
    "duration": 8,
    "start_time": "2022-12-13T12:06:21.713Z"
   },
   {
    "duration": 6,
    "start_time": "2022-12-13T12:06:21.867Z"
   },
   {
    "duration": 21,
    "start_time": "2022-12-13T12:06:22.128Z"
   },
   {
    "duration": 9,
    "start_time": "2022-12-13T12:06:22.301Z"
   },
   {
    "duration": 618,
    "start_time": "2022-12-13T12:06:22.462Z"
   },
   {
    "duration": 0,
    "start_time": "2022-12-13T12:06:23.081Z"
   },
   {
    "duration": 21,
    "start_time": "2022-12-13T12:06:34.860Z"
   },
   {
    "duration": 20,
    "start_time": "2022-12-13T12:10:12.163Z"
   },
   {
    "duration": 8,
    "start_time": "2022-12-13T12:11:26.204Z"
   },
   {
    "duration": 21,
    "start_time": "2022-12-13T12:13:08.405Z"
   },
   {
    "duration": 62,
    "start_time": "2022-12-13T12:20:45.457Z"
   },
   {
    "duration": 10,
    "start_time": "2022-12-13T12:20:51.919Z"
   },
   {
    "duration": 4,
    "start_time": "2022-12-13T12:20:58.020Z"
   },
   {
    "duration": 5,
    "start_time": "2022-12-13T12:21:36.514Z"
   },
   {
    "duration": 12,
    "start_time": "2022-12-13T12:21:37.380Z"
   },
   {
    "duration": 3,
    "start_time": "2022-12-13T12:25:51.752Z"
   },
   {
    "duration": 52,
    "start_time": "2022-12-13T12:25:52.533Z"
   },
   {
    "duration": 22,
    "start_time": "2022-12-13T12:25:53.071Z"
   },
   {
    "duration": 14,
    "start_time": "2022-12-13T12:25:53.794Z"
   },
   {
    "duration": 4,
    "start_time": "2022-12-13T12:25:54.257Z"
   },
   {
    "duration": 10,
    "start_time": "2022-12-13T12:25:54.765Z"
   },
   {
    "duration": 14,
    "start_time": "2022-12-13T12:25:55.205Z"
   },
   {
    "duration": 9,
    "start_time": "2022-12-13T12:25:55.662Z"
   },
   {
    "duration": 7,
    "start_time": "2022-12-13T12:25:56.078Z"
   },
   {
    "duration": 24,
    "start_time": "2022-12-13T12:25:56.673Z"
   },
   {
    "duration": 9,
    "start_time": "2022-12-13T12:25:57.250Z"
   },
   {
    "duration": 10,
    "start_time": "2022-12-13T12:25:57.717Z"
   },
   {
    "duration": 5,
    "start_time": "2022-12-13T12:25:58.124Z"
   },
   {
    "duration": 8,
    "start_time": "2022-12-13T12:25:58.542Z"
   },
   {
    "duration": 9,
    "start_time": "2022-12-13T12:28:29.049Z"
   },
   {
    "duration": 21,
    "start_time": "2022-12-13T12:28:34.349Z"
   },
   {
    "duration": 8,
    "start_time": "2022-12-13T12:30:05.218Z"
   },
   {
    "duration": 7,
    "start_time": "2022-12-13T12:30:13.889Z"
   },
   {
    "duration": 15,
    "start_time": "2022-12-13T12:30:17.491Z"
   },
   {
    "duration": 299,
    "start_time": "2022-12-13T12:30:58.749Z"
   },
   {
    "duration": 175,
    "start_time": "2022-12-13T12:31:03.873Z"
   },
   {
    "duration": 150,
    "start_time": "2022-12-13T12:31:26.498Z"
   },
   {
    "duration": 336,
    "start_time": "2022-12-13T12:36:22.606Z"
   },
   {
    "duration": 383,
    "start_time": "2022-12-13T12:36:51.013Z"
   },
   {
    "duration": 336,
    "start_time": "2022-12-13T12:37:21.135Z"
   },
   {
    "duration": 14,
    "start_time": "2022-12-13T12:54:17.082Z"
   },
   {
    "duration": 331,
    "start_time": "2022-12-13T12:54:37.517Z"
   },
   {
    "duration": 748,
    "start_time": "2022-12-13T13:23:59.037Z"
   },
   {
    "duration": 684,
    "start_time": "2022-12-13T13:24:07.470Z"
   },
   {
    "duration": 8,
    "start_time": "2022-12-13T13:24:24.306Z"
   },
   {
    "duration": 70,
    "start_time": "2022-12-13T13:25:44.486Z"
   },
   {
    "duration": 10,
    "start_time": "2022-12-13T13:25:50.969Z"
   },
   {
    "duration": 11,
    "start_time": "2022-12-13T13:25:54.595Z"
   },
   {
    "duration": 17,
    "start_time": "2022-12-13T13:25:59.858Z"
   },
   {
    "duration": 50,
    "start_time": "2022-12-13T13:26:37.994Z"
   },
   {
    "duration": 20,
    "start_time": "2022-12-13T13:26:43.403Z"
   },
   {
    "duration": 20,
    "start_time": "2022-12-13T13:26:55.647Z"
   },
   {
    "duration": 292,
    "start_time": "2022-12-13T13:27:34.038Z"
   },
   {
    "duration": 286,
    "start_time": "2022-12-13T13:28:24.636Z"
   },
   {
    "duration": 297,
    "start_time": "2022-12-13T13:28:40.472Z"
   },
   {
    "duration": 348,
    "start_time": "2022-12-13T13:28:52.848Z"
   },
   {
    "duration": 8,
    "start_time": "2022-12-13T13:29:28.868Z"
   },
   {
    "duration": 8,
    "start_time": "2022-12-13T13:29:40.609Z"
   },
   {
    "duration": 1101,
    "start_time": "2022-12-13T13:29:46.045Z"
   },
   {
    "duration": 51,
    "start_time": "2022-12-13T13:29:47.148Z"
   },
   {
    "duration": 24,
    "start_time": "2022-12-13T13:29:47.200Z"
   },
   {
    "duration": 12,
    "start_time": "2022-12-13T13:29:47.226Z"
   },
   {
    "duration": 3,
    "start_time": "2022-12-13T13:29:47.240Z"
   },
   {
    "duration": 12,
    "start_time": "2022-12-13T13:29:47.244Z"
   },
   {
    "duration": 40,
    "start_time": "2022-12-13T13:29:47.258Z"
   },
   {
    "duration": 8,
    "start_time": "2022-12-13T13:29:47.390Z"
   },
   {
    "duration": 6,
    "start_time": "2022-12-13T13:29:47.520Z"
   },
   {
    "duration": 23,
    "start_time": "2022-12-13T13:29:47.710Z"
   },
   {
    "duration": 8,
    "start_time": "2022-12-13T13:29:47.831Z"
   },
   {
    "duration": 9,
    "start_time": "2022-12-13T13:29:48.158Z"
   },
   {
    "duration": 4,
    "start_time": "2022-12-13T13:29:48.327Z"
   },
   {
    "duration": 9,
    "start_time": "2022-12-13T13:29:48.518Z"
   },
   {
    "duration": 369,
    "start_time": "2022-12-13T13:29:49.998Z"
   },
   {
    "duration": 101,
    "start_time": "2022-12-13T13:29:51.154Z"
   },
   {
    "duration": 318,
    "start_time": "2022-12-13T13:30:01.209Z"
   },
   {
    "duration": 11,
    "start_time": "2022-12-13T14:04:36.943Z"
   },
   {
    "duration": 4,
    "start_time": "2022-12-13T16:43:29.674Z"
   },
   {
    "duration": 4,
    "start_time": "2022-12-13T16:43:34.940Z"
   },
   {
    "duration": 3,
    "start_time": "2022-12-13T16:44:17.265Z"
   },
   {
    "duration": 4,
    "start_time": "2022-12-13T16:44:22.619Z"
   },
   {
    "duration": 3,
    "start_time": "2022-12-13T16:44:27.491Z"
   },
   {
    "duration": 55,
    "start_time": "2022-12-13T16:44:27.806Z"
   },
   {
    "duration": 21,
    "start_time": "2022-12-13T16:44:27.949Z"
   },
   {
    "duration": 15,
    "start_time": "2022-12-13T16:44:28.286Z"
   },
   {
    "duration": 4,
    "start_time": "2022-12-13T16:44:28.448Z"
   },
   {
    "duration": 9,
    "start_time": "2022-12-13T16:44:28.600Z"
   },
   {
    "duration": 14,
    "start_time": "2022-12-13T16:44:28.760Z"
   },
   {
    "duration": 7,
    "start_time": "2022-12-13T16:44:29.128Z"
   },
   {
    "duration": 5,
    "start_time": "2022-12-13T16:44:29.570Z"
   },
   {
    "duration": 27,
    "start_time": "2022-12-13T16:44:29.901Z"
   },
   {
    "duration": 9,
    "start_time": "2022-12-13T16:44:30.388Z"
   },
   {
    "duration": 9,
    "start_time": "2022-12-13T16:44:30.821Z"
   },
   {
    "duration": 5,
    "start_time": "2022-12-13T16:44:31.141Z"
   },
   {
    "duration": 10,
    "start_time": "2022-12-13T16:44:31.494Z"
   },
   {
    "duration": 339,
    "start_time": "2022-12-13T16:44:32.825Z"
   },
   {
    "duration": 316,
    "start_time": "2022-12-13T16:44:33.803Z"
   },
   {
    "duration": 5,
    "start_time": "2022-12-13T16:44:34.226Z"
   },
   {
    "duration": 60,
    "start_time": "2022-12-13T16:57:19.622Z"
   },
   {
    "duration": 12,
    "start_time": "2022-12-13T16:57:27.189Z"
   },
   {
    "duration": 18,
    "start_time": "2022-12-13T16:57:38.257Z"
   },
   {
    "duration": 11,
    "start_time": "2022-12-13T16:57:54.705Z"
   },
   {
    "duration": 16,
    "start_time": "2022-12-13T16:57:59.482Z"
   },
   {
    "duration": 20,
    "start_time": "2022-12-13T17:00:03.026Z"
   },
   {
    "duration": 20,
    "start_time": "2022-12-13T17:00:25.293Z"
   },
   {
    "duration": 19,
    "start_time": "2022-12-13T17:00:33.695Z"
   },
   {
    "duration": 28,
    "start_time": "2022-12-13T17:01:40.723Z"
   },
   {
    "duration": 31,
    "start_time": "2022-12-13T17:01:46.733Z"
   },
   {
    "duration": 19,
    "start_time": "2022-12-13T17:02:01.825Z"
   },
   {
    "duration": 4,
    "start_time": "2022-12-13T17:06:05.605Z"
   },
   {
    "duration": 58,
    "start_time": "2022-12-13T17:06:05.893Z"
   },
   {
    "duration": 25,
    "start_time": "2022-12-13T17:06:06.033Z"
   },
   {
    "duration": 20,
    "start_time": "2022-12-13T17:06:06.342Z"
   },
   {
    "duration": 5,
    "start_time": "2022-12-13T17:06:06.471Z"
   },
   {
    "duration": 10,
    "start_time": "2022-12-13T17:06:06.623Z"
   },
   {
    "duration": 36,
    "start_time": "2022-12-13T17:06:06.776Z"
   },
   {
    "duration": 8,
    "start_time": "2022-12-13T17:06:06.944Z"
   },
   {
    "duration": 7,
    "start_time": "2022-12-13T17:06:07.120Z"
   },
   {
    "duration": 25,
    "start_time": "2022-12-13T17:06:07.320Z"
   },
   {
    "duration": 11,
    "start_time": "2022-12-13T17:06:07.476Z"
   },
   {
    "duration": 9,
    "start_time": "2022-12-13T17:06:07.675Z"
   },
   {
    "duration": 12,
    "start_time": "2022-12-13T17:06:07.892Z"
   },
   {
    "duration": 9,
    "start_time": "2022-12-13T17:06:08.156Z"
   },
   {
    "duration": 455,
    "start_time": "2022-12-13T17:06:09.513Z"
   },
   {
    "duration": 317,
    "start_time": "2022-12-13T17:06:12.240Z"
   },
   {
    "duration": 20,
    "start_time": "2022-12-13T17:06:12.953Z"
   },
   {
    "duration": 315,
    "start_time": "2022-12-13T17:06:29.355Z"
   },
   {
    "duration": 9,
    "start_time": "2022-12-13T17:06:38.167Z"
   },
   {
    "duration": 16,
    "start_time": "2022-12-13T17:06:44.419Z"
   },
   {
    "duration": 12,
    "start_time": "2022-12-13T17:06:51.706Z"
   },
   {
    "duration": 320,
    "start_time": "2022-12-13T17:06:58.107Z"
   },
   {
    "duration": 9,
    "start_time": "2022-12-13T17:10:16.835Z"
   },
   {
    "duration": 11,
    "start_time": "2022-12-13T17:10:27.308Z"
   },
   {
    "duration": 61,
    "start_time": "2022-12-13T17:10:31.496Z"
   },
   {
    "duration": 24,
    "start_time": "2022-12-13T17:10:56.349Z"
   },
   {
    "duration": 292,
    "start_time": "2022-12-13T17:12:44.138Z"
   },
   {
    "duration": 22,
    "start_time": "2022-12-13T17:12:52.136Z"
   },
   {
    "duration": 4,
    "start_time": "2022-12-13T17:13:05.352Z"
   },
   {
    "duration": 51,
    "start_time": "2022-12-13T17:13:05.645Z"
   },
   {
    "duration": 21,
    "start_time": "2022-12-13T17:13:05.783Z"
   },
   {
    "duration": 19,
    "start_time": "2022-12-13T17:13:06.063Z"
   },
   {
    "duration": 4,
    "start_time": "2022-12-13T17:13:06.204Z"
   },
   {
    "duration": 10,
    "start_time": "2022-12-13T17:13:06.362Z"
   },
   {
    "duration": 14,
    "start_time": "2022-12-13T17:13:06.511Z"
   },
   {
    "duration": 7,
    "start_time": "2022-12-13T17:13:06.669Z"
   },
   {
    "duration": 6,
    "start_time": "2022-12-13T17:13:06.822Z"
   },
   {
    "duration": 23,
    "start_time": "2022-12-13T17:13:06.983Z"
   },
   {
    "duration": 8,
    "start_time": "2022-12-13T17:13:07.239Z"
   },
   {
    "duration": 9,
    "start_time": "2022-12-13T17:13:07.625Z"
   },
   {
    "duration": 5,
    "start_time": "2022-12-13T17:13:08.081Z"
   },
   {
    "duration": 8,
    "start_time": "2022-12-13T17:13:08.478Z"
   },
   {
    "duration": 343,
    "start_time": "2022-12-13T17:13:09.489Z"
   },
   {
    "duration": 383,
    "start_time": "2022-12-13T17:13:17.388Z"
   },
   {
    "duration": 40,
    "start_time": "2022-12-13T18:11:40.436Z"
   },
   {
    "duration": 5,
    "start_time": "2022-12-13T18:12:36.147Z"
   },
   {
    "duration": 322,
    "start_time": "2022-12-13T18:13:41.729Z"
   },
   {
    "duration": 320,
    "start_time": "2022-12-13T18:14:27.721Z"
   },
   {
    "duration": 298,
    "start_time": "2022-12-13T18:14:47.830Z"
   },
   {
    "duration": 297,
    "start_time": "2022-12-13T18:14:54.261Z"
   },
   {
    "duration": 331,
    "start_time": "2022-12-13T18:15:30.153Z"
   },
   {
    "duration": 407,
    "start_time": "2022-12-13T18:16:45.153Z"
   },
   {
    "duration": 336,
    "start_time": "2022-12-13T18:17:04.291Z"
   },
   {
    "duration": 1030,
    "start_time": "2022-12-13T18:19:38.827Z"
   },
   {
    "duration": 4,
    "start_time": "2022-12-13T18:19:50.869Z"
   },
   {
    "duration": 49,
    "start_time": "2022-12-13T18:19:51.183Z"
   },
   {
    "duration": 22,
    "start_time": "2022-12-13T18:19:51.335Z"
   },
   {
    "duration": 14,
    "start_time": "2022-12-13T18:19:51.644Z"
   },
   {
    "duration": 3,
    "start_time": "2022-12-13T18:19:51.774Z"
   },
   {
    "duration": 14,
    "start_time": "2022-12-13T18:19:51.954Z"
   },
   {
    "duration": 15,
    "start_time": "2022-12-13T18:19:52.062Z"
   },
   {
    "duration": 8,
    "start_time": "2022-12-13T18:19:52.222Z"
   },
   {
    "duration": 7,
    "start_time": "2022-12-13T18:19:52.366Z"
   },
   {
    "duration": 20,
    "start_time": "2022-12-13T18:19:52.519Z"
   },
   {
    "duration": 8,
    "start_time": "2022-12-13T18:19:52.678Z"
   },
   {
    "duration": 8,
    "start_time": "2022-12-13T18:19:52.847Z"
   },
   {
    "duration": 4,
    "start_time": "2022-12-13T18:19:53.055Z"
   },
   {
    "duration": 10,
    "start_time": "2022-12-13T18:19:53.472Z"
   },
   {
    "duration": 345,
    "start_time": "2022-12-13T18:19:54.638Z"
   },
   {
    "duration": 1034,
    "start_time": "2022-12-13T18:19:55.787Z"
   },
   {
    "duration": 307,
    "start_time": "2022-12-13T18:20:59.143Z"
   },
   {
    "duration": 388,
    "start_time": "2022-12-13T18:21:05.382Z"
   },
   {
    "duration": 317,
    "start_time": "2022-12-13T18:21:21.773Z"
   },
   {
    "duration": 301,
    "start_time": "2022-12-13T18:21:59.724Z"
   },
   {
    "duration": 315,
    "start_time": "2022-12-13T18:22:07.964Z"
   },
   {
    "duration": 278,
    "start_time": "2022-12-13T18:22:23.211Z"
   },
   {
    "duration": 292,
    "start_time": "2022-12-13T18:22:38.894Z"
   },
   {
    "duration": 422,
    "start_time": "2022-12-13T18:25:28.719Z"
   },
   {
    "duration": 310,
    "start_time": "2022-12-13T18:25:55.415Z"
   },
   {
    "duration": 294,
    "start_time": "2022-12-13T18:26:02.147Z"
   },
   {
    "duration": 3,
    "start_time": "2022-12-13T18:26:27.391Z"
   },
   {
    "duration": 51,
    "start_time": "2022-12-13T18:26:27.697Z"
   },
   {
    "duration": 24,
    "start_time": "2022-12-13T18:26:27.832Z"
   },
   {
    "duration": 14,
    "start_time": "2022-12-13T18:26:28.121Z"
   },
   {
    "duration": 3,
    "start_time": "2022-12-13T18:26:28.263Z"
   },
   {
    "duration": 10,
    "start_time": "2022-12-13T18:26:28.415Z"
   },
   {
    "duration": 14,
    "start_time": "2022-12-13T18:26:28.738Z"
   },
   {
    "duration": 8,
    "start_time": "2022-12-13T18:26:28.894Z"
   },
   {
    "duration": 6,
    "start_time": "2022-12-13T18:26:29.069Z"
   },
   {
    "duration": 24,
    "start_time": "2022-12-13T18:26:29.303Z"
   },
   {
    "duration": 10,
    "start_time": "2022-12-13T18:26:29.490Z"
   },
   {
    "duration": 9,
    "start_time": "2022-12-13T18:26:29.835Z"
   },
   {
    "duration": 5,
    "start_time": "2022-12-13T18:26:30.245Z"
   },
   {
    "duration": 9,
    "start_time": "2022-12-13T18:26:30.591Z"
   },
   {
    "duration": 365,
    "start_time": "2022-12-13T18:26:32.608Z"
   },
   {
    "duration": 433,
    "start_time": "2022-12-13T18:26:35.863Z"
   },
   {
    "duration": 3,
    "start_time": "2022-12-13T18:26:45.772Z"
   },
   {
    "duration": 49,
    "start_time": "2022-12-13T18:26:46.090Z"
   },
   {
    "duration": 22,
    "start_time": "2022-12-13T18:26:46.238Z"
   },
   {
    "duration": 19,
    "start_time": "2022-12-13T18:26:46.590Z"
   },
   {
    "duration": 3,
    "start_time": "2022-12-13T18:26:46.719Z"
   },
   {
    "duration": 10,
    "start_time": "2022-12-13T18:26:46.894Z"
   },
   {
    "duration": 15,
    "start_time": "2022-12-13T18:26:47.054Z"
   },
   {
    "duration": 8,
    "start_time": "2022-12-13T18:26:47.246Z"
   },
   {
    "duration": 6,
    "start_time": "2022-12-13T18:26:47.454Z"
   },
   {
    "duration": 35,
    "start_time": "2022-12-13T18:26:47.649Z"
   },
   {
    "duration": 10,
    "start_time": "2022-12-13T18:26:47.854Z"
   },
   {
    "duration": 10,
    "start_time": "2022-12-13T18:26:48.112Z"
   },
   {
    "duration": 5,
    "start_time": "2022-12-13T18:26:48.473Z"
   },
   {
    "duration": 9,
    "start_time": "2022-12-13T18:26:48.945Z"
   },
   {
    "duration": 347,
    "start_time": "2022-12-13T18:26:50.335Z"
   },
   {
    "duration": 382,
    "start_time": "2022-12-13T18:26:51.299Z"
   },
   {
    "duration": 49,
    "start_time": "2022-12-14T08:24:58.023Z"
   },
   {
    "duration": 1337,
    "start_time": "2022-12-14T08:25:01.580Z"
   },
   {
    "duration": 209,
    "start_time": "2022-12-14T08:25:02.919Z"
   },
   {
    "duration": 24,
    "start_time": "2022-12-14T08:25:03.129Z"
   },
   {
    "duration": 28,
    "start_time": "2022-12-14T08:25:03.155Z"
   },
   {
    "duration": 13,
    "start_time": "2022-12-14T08:25:03.185Z"
   },
   {
    "duration": 29,
    "start_time": "2022-12-14T08:25:03.199Z"
   },
   {
    "duration": 28,
    "start_time": "2022-12-14T08:25:03.229Z"
   },
   {
    "duration": 19,
    "start_time": "2022-12-14T08:25:03.258Z"
   },
   {
    "duration": 19,
    "start_time": "2022-12-14T08:25:03.279Z"
   },
   {
    "duration": 25,
    "start_time": "2022-12-14T08:25:03.394Z"
   },
   {
    "duration": 10,
    "start_time": "2022-12-14T08:25:03.518Z"
   },
   {
    "duration": 8,
    "start_time": "2022-12-14T08:25:03.677Z"
   },
   {
    "duration": 4,
    "start_time": "2022-12-14T08:25:03.829Z"
   },
   {
    "duration": 9,
    "start_time": "2022-12-14T08:25:04.013Z"
   },
   {
    "duration": 342,
    "start_time": "2022-12-14T08:25:04.666Z"
   },
   {
    "duration": 291,
    "start_time": "2022-12-14T08:25:05.015Z"
   },
   {
    "duration": 78,
    "start_time": "2022-12-14T08:25:05.309Z"
   },
   {
    "duration": 13,
    "start_time": "2022-12-14T08:25:05.695Z"
   },
   {
    "duration": 11,
    "start_time": "2022-12-14T08:25:23.162Z"
   },
   {
    "duration": 11,
    "start_time": "2022-12-14T08:25:41.052Z"
   },
   {
    "duration": 15,
    "start_time": "2022-12-14T08:25:49.825Z"
   },
   {
    "duration": 1163,
    "start_time": "2022-12-14T08:25:59.973Z"
   },
   {
    "duration": 61,
    "start_time": "2022-12-14T08:26:01.140Z"
   },
   {
    "duration": 32,
    "start_time": "2022-12-14T08:26:01.203Z"
   },
   {
    "duration": 14,
    "start_time": "2022-12-14T08:26:01.237Z"
   },
   {
    "duration": 14,
    "start_time": "2022-12-14T08:26:01.252Z"
   },
   {
    "duration": 25,
    "start_time": "2022-12-14T08:26:01.268Z"
   },
   {
    "duration": 15,
    "start_time": "2022-12-14T08:26:01.441Z"
   },
   {
    "duration": 8,
    "start_time": "2022-12-14T08:26:01.622Z"
   },
   {
    "duration": 5,
    "start_time": "2022-12-14T08:26:01.818Z"
   },
   {
    "duration": 21,
    "start_time": "2022-12-14T08:26:02.024Z"
   },
   {
    "duration": 10,
    "start_time": "2022-12-14T08:26:02.401Z"
   },
   {
    "duration": 8,
    "start_time": "2022-12-14T08:26:02.771Z"
   },
   {
    "duration": 5,
    "start_time": "2022-12-14T08:26:03.171Z"
   },
   {
    "duration": 10,
    "start_time": "2022-12-14T08:26:03.426Z"
   },
   {
    "duration": 344,
    "start_time": "2022-12-14T08:26:05.218Z"
   },
   {
    "duration": 298,
    "start_time": "2022-12-14T08:26:06.198Z"
   },
   {
    "duration": 4,
    "start_time": "2022-12-14T08:26:13.133Z"
   },
   {
    "duration": 5,
    "start_time": "2022-12-14T08:28:14.518Z"
   },
   {
    "duration": 5,
    "start_time": "2022-12-14T08:28:21.218Z"
   },
   {
    "duration": 6,
    "start_time": "2022-12-14T08:29:37.230Z"
   },
   {
    "duration": 12,
    "start_time": "2022-12-14T08:29:37.726Z"
   },
   {
    "duration": 1145,
    "start_time": "2022-12-14T08:29:46.096Z"
   },
   {
    "duration": 51,
    "start_time": "2022-12-14T08:29:47.242Z"
   },
   {
    "duration": 22,
    "start_time": "2022-12-14T08:29:47.295Z"
   },
   {
    "duration": 13,
    "start_time": "2022-12-14T08:29:47.662Z"
   },
   {
    "duration": 3,
    "start_time": "2022-12-14T08:29:48.022Z"
   },
   {
    "duration": 13,
    "start_time": "2022-12-14T08:29:48.467Z"
   },
   {
    "duration": 20,
    "start_time": "2022-12-14T08:29:49.107Z"
   },
   {
    "duration": 11,
    "start_time": "2022-12-14T08:29:49.658Z"
   },
   {
    "duration": 6,
    "start_time": "2022-12-14T08:29:50.303Z"
   },
   {
    "duration": 24,
    "start_time": "2022-12-14T08:29:50.873Z"
   },
   {
    "duration": 10,
    "start_time": "2022-12-14T08:29:51.521Z"
   },
   {
    "duration": 11,
    "start_time": "2022-12-14T08:29:52.203Z"
   },
   {
    "duration": 6,
    "start_time": "2022-12-14T08:29:52.542Z"
   },
   {
    "duration": 9,
    "start_time": "2022-12-14T08:29:52.995Z"
   },
   {
    "duration": 338,
    "start_time": "2022-12-14T08:29:55.801Z"
   },
   {
    "duration": 282,
    "start_time": "2022-12-14T08:29:57.882Z"
   },
   {
    "duration": 5,
    "start_time": "2022-12-14T08:29:59.131Z"
   },
   {
    "duration": 8,
    "start_time": "2022-12-14T08:30:00.304Z"
   },
   {
    "duration": 104,
    "start_time": "2022-12-14T08:30:09.993Z"
   },
   {
    "duration": 4,
    "start_time": "2022-12-14T08:32:14.102Z"
   },
   {
    "duration": 54,
    "start_time": "2022-12-14T08:32:14.422Z"
   },
   {
    "duration": 23,
    "start_time": "2022-12-14T08:32:14.776Z"
   },
   {
    "duration": 14,
    "start_time": "2022-12-14T08:32:15.095Z"
   },
   {
    "duration": 3,
    "start_time": "2022-12-14T08:32:15.232Z"
   },
   {
    "duration": 9,
    "start_time": "2022-12-14T08:32:15.376Z"
   },
   {
    "duration": 15,
    "start_time": "2022-12-14T08:32:15.520Z"
   },
   {
    "duration": 7,
    "start_time": "2022-12-14T08:32:15.834Z"
   },
   {
    "duration": 8,
    "start_time": "2022-12-14T08:32:15.842Z"
   },
   {
    "duration": 20,
    "start_time": "2022-12-14T08:32:15.962Z"
   },
   {
    "duration": 9,
    "start_time": "2022-12-14T08:32:16.106Z"
   },
   {
    "duration": 9,
    "start_time": "2022-12-14T08:32:16.242Z"
   },
   {
    "duration": 5,
    "start_time": "2022-12-14T08:32:16.393Z"
   },
   {
    "duration": 9,
    "start_time": "2022-12-14T08:32:16.529Z"
   },
   {
    "duration": 370,
    "start_time": "2022-12-14T08:32:17.136Z"
   },
   {
    "duration": 286,
    "start_time": "2022-12-14T08:32:17.674Z"
   },
   {
    "duration": 5,
    "start_time": "2022-12-14T08:32:17.962Z"
   },
   {
    "duration": 8,
    "start_time": "2022-12-14T08:32:18.571Z"
   },
   {
    "duration": 19,
    "start_time": "2022-12-14T08:32:19.178Z"
   },
   {
    "duration": 10,
    "start_time": "2022-12-14T08:32:32.367Z"
   },
   {
    "duration": 1810,
    "start_time": "2022-12-14T08:33:16.876Z"
   },
   {
    "duration": 1688,
    "start_time": "2022-12-14T08:33:59.070Z"
   },
   {
    "duration": 1730,
    "start_time": "2022-12-14T08:34:11.779Z"
   },
   {
    "duration": 2061,
    "start_time": "2022-12-14T08:35:04.968Z"
   },
   {
    "duration": 1838,
    "start_time": "2022-12-14T08:35:13.245Z"
   },
   {
    "duration": 1965,
    "start_time": "2022-12-14T08:35:19.207Z"
   },
   {
    "duration": 1853,
    "start_time": "2022-12-14T08:35:31.951Z"
   },
   {
    "duration": 1912,
    "start_time": "2022-12-14T08:35:41.462Z"
   },
   {
    "duration": 1900,
    "start_time": "2022-12-14T08:35:50.714Z"
   },
   {
    "duration": 310,
    "start_time": "2022-12-14T08:36:32.301Z"
   },
   {
    "duration": 272,
    "start_time": "2022-12-14T08:36:43.444Z"
   },
   {
    "duration": 1284,
    "start_time": "2022-12-14T15:32:54.949Z"
   },
   {
    "duration": 128,
    "start_time": "2022-12-14T15:32:56.235Z"
   },
   {
    "duration": 22,
    "start_time": "2022-12-14T15:32:56.364Z"
   },
   {
    "duration": 16,
    "start_time": "2022-12-14T15:32:56.388Z"
   },
   {
    "duration": 3,
    "start_time": "2022-12-14T15:32:56.591Z"
   },
   {
    "duration": 9,
    "start_time": "2022-12-14T15:32:56.760Z"
   },
   {
    "duration": 13,
    "start_time": "2022-12-14T15:32:56.936Z"
   },
   {
    "duration": 8,
    "start_time": "2022-12-14T15:32:57.322Z"
   },
   {
    "duration": 5,
    "start_time": "2022-12-14T15:32:57.481Z"
   },
   {
    "duration": 20,
    "start_time": "2022-12-14T15:32:57.667Z"
   },
   {
    "duration": 7,
    "start_time": "2022-12-14T15:32:57.859Z"
   },
   {
    "duration": 8,
    "start_time": "2022-12-14T15:32:58.051Z"
   },
   {
    "duration": 4,
    "start_time": "2022-12-14T15:32:58.252Z"
   },
   {
    "duration": 9,
    "start_time": "2022-12-14T15:32:58.471Z"
   },
   {
    "duration": 369,
    "start_time": "2022-12-14T15:32:59.848Z"
   },
   {
    "duration": 304,
    "start_time": "2022-12-14T15:33:00.611Z"
   },
   {
    "duration": 5,
    "start_time": "2022-12-14T15:33:00.978Z"
   },
   {
    "duration": 125,
    "start_time": "2022-12-14T15:33:01.357Z"
   },
   {
    "duration": 31,
    "start_time": "2022-12-14T15:33:10.193Z"
   },
   {
    "duration": 5,
    "start_time": "2022-12-14T15:33:26.982Z"
   },
   {
    "duration": 23,
    "start_time": "2022-12-14T15:33:27.231Z"
   },
   {
    "duration": 1226,
    "start_time": "2022-12-14T15:33:34.536Z"
   },
   {
    "duration": 66,
    "start_time": "2022-12-14T15:33:35.763Z"
   },
   {
    "duration": 23,
    "start_time": "2022-12-14T15:33:35.831Z"
   },
   {
    "duration": 15,
    "start_time": "2022-12-14T15:33:35.856Z"
   },
   {
    "duration": 3,
    "start_time": "2022-12-14T15:33:35.873Z"
   },
   {
    "duration": 8,
    "start_time": "2022-12-14T15:33:35.972Z"
   },
   {
    "duration": 12,
    "start_time": "2022-12-14T15:33:36.173Z"
   },
   {
    "duration": 16,
    "start_time": "2022-12-14T15:33:36.589Z"
   },
   {
    "duration": 6,
    "start_time": "2022-12-14T15:33:36.990Z"
   },
   {
    "duration": 23,
    "start_time": "2022-12-14T15:33:37.159Z"
   },
   {
    "duration": 7,
    "start_time": "2022-12-14T15:33:37.359Z"
   },
   {
    "duration": 9,
    "start_time": "2022-12-14T15:33:37.559Z"
   },
   {
    "duration": 4,
    "start_time": "2022-12-14T15:33:37.823Z"
   },
   {
    "duration": 8,
    "start_time": "2022-12-14T15:33:38.049Z"
   },
   {
    "duration": 368,
    "start_time": "2022-12-14T15:33:39.713Z"
   },
   {
    "duration": 315,
    "start_time": "2022-12-14T15:33:40.690Z"
   },
   {
    "duration": 5,
    "start_time": "2022-12-14T15:33:41.866Z"
   },
   {
    "duration": 134,
    "start_time": "2022-12-14T15:33:42.587Z"
   },
   {
    "duration": 24,
    "start_time": "2022-12-14T15:33:50.945Z"
   },
   {
    "duration": 1964,
    "start_time": "2022-12-14T15:35:09.487Z"
   },
   {
    "duration": 9,
    "start_time": "2022-12-14T15:35:31.464Z"
   },
   {
    "duration": 21,
    "start_time": "2022-12-14T15:36:00.747Z"
   },
   {
    "duration": 11,
    "start_time": "2022-12-14T15:38:14.332Z"
   },
   {
    "duration": 10,
    "start_time": "2022-12-14T15:38:41.973Z"
   },
   {
    "duration": 4,
    "start_time": "2022-12-14T15:39:32.188Z"
   },
   {
    "duration": 20,
    "start_time": "2022-12-14T15:39:39.549Z"
   },
   {
    "duration": 20,
    "start_time": "2022-12-14T15:41:16.828Z"
   },
   {
    "duration": 10,
    "start_time": "2022-12-14T15:41:56.534Z"
   },
   {
    "duration": 25,
    "start_time": "2022-12-14T15:42:02.815Z"
   },
   {
    "duration": 9,
    "start_time": "2022-12-14T15:42:52.554Z"
   },
   {
    "duration": 15,
    "start_time": "2022-12-14T15:43:01.543Z"
   },
   {
    "duration": 188,
    "start_time": "2022-12-14T15:43:22.368Z"
   },
   {
    "duration": 7,
    "start_time": "2022-12-14T16:22:50.439Z"
   },
   {
    "duration": 10,
    "start_time": "2022-12-14T16:25:01.034Z"
   },
   {
    "duration": 1048,
    "start_time": "2022-12-14T16:25:19.525Z"
   },
   {
    "duration": 163,
    "start_time": "2022-12-14T16:26:39.781Z"
   },
   {
    "duration": 798,
    "start_time": "2022-12-14T16:27:00.974Z"
   },
   {
    "duration": 7,
    "start_time": "2022-12-14T16:27:07.439Z"
   },
   {
    "duration": 4,
    "start_time": "2022-12-14T16:27:49.064Z"
   },
   {
    "duration": 8,
    "start_time": "2022-12-14T16:27:49.777Z"
   },
   {
    "duration": 67,
    "start_time": "2022-12-14T16:27:58.181Z"
   },
   {
    "duration": 1383,
    "start_time": "2022-12-14T16:28:24.523Z"
   },
   {
    "duration": 1923,
    "start_time": "2022-12-14T16:29:20.131Z"
   },
   {
    "duration": 1452,
    "start_time": "2022-12-14T16:30:23.424Z"
   },
   {
    "duration": 19,
    "start_time": "2022-12-14T16:31:04.077Z"
   },
   {
    "duration": 1878,
    "start_time": "2022-12-14T16:33:50.373Z"
   },
   {
    "duration": 1844,
    "start_time": "2022-12-14T16:42:03.802Z"
   },
   {
    "duration": 81,
    "start_time": "2022-12-14T16:50:32.447Z"
   },
   {
    "duration": 177,
    "start_time": "2022-12-14T16:51:00.300Z"
   },
   {
    "duration": 60,
    "start_time": "2022-12-14T16:51:09.681Z"
   },
   {
    "duration": 76,
    "start_time": "2022-12-14T16:51:17.798Z"
   },
   {
    "duration": 9,
    "start_time": "2022-12-14T16:51:57.885Z"
   },
   {
    "duration": 58,
    "start_time": "2022-12-14T16:52:05.454Z"
   },
   {
    "duration": 73,
    "start_time": "2022-12-14T16:52:09.583Z"
   },
   {
    "duration": 700,
    "start_time": "2022-12-14T16:54:58.499Z"
   },
   {
    "duration": 3,
    "start_time": "2022-12-14T16:55:11.156Z"
   },
   {
    "duration": 5,
    "start_time": "2022-12-14T16:55:15.267Z"
   },
   {
    "duration": 10,
    "start_time": "2022-12-14T16:56:39.454Z"
   },
   {
    "duration": 12,
    "start_time": "2022-12-14T16:56:41.759Z"
   },
   {
    "duration": 693,
    "start_time": "2022-12-14T16:57:11.738Z"
   },
   {
    "duration": 8,
    "start_time": "2022-12-14T16:57:32.705Z"
   },
   {
    "duration": 11,
    "start_time": "2022-12-14T16:57:35.391Z"
   },
   {
    "duration": 15,
    "start_time": "2022-12-14T16:58:08.151Z"
   },
   {
    "duration": 17,
    "start_time": "2022-12-14T17:04:45.449Z"
   },
   {
    "duration": 10,
    "start_time": "2022-12-14T17:05:03.901Z"
   },
   {
    "duration": 17,
    "start_time": "2022-12-14T17:05:08.349Z"
   },
   {
    "duration": 16,
    "start_time": "2022-12-14T17:05:36.578Z"
   },
   {
    "duration": 4,
    "start_time": "2022-12-14T17:07:08.061Z"
   },
   {
    "duration": 5,
    "start_time": "2022-12-14T17:07:11.209Z"
   },
   {
    "duration": 94,
    "start_time": "2022-12-14T17:10:23.217Z"
   },
   {
    "duration": 11,
    "start_time": "2022-12-14T17:10:28.363Z"
   },
   {
    "duration": 811,
    "start_time": "2022-12-14T17:10:54.945Z"
   },
   {
    "duration": 57,
    "start_time": "2022-12-14T17:11:13.163Z"
   },
   {
    "duration": 60,
    "start_time": "2022-12-14T17:11:19.232Z"
   },
   {
    "duration": 2,
    "start_time": "2022-12-14T17:16:57.087Z"
   },
   {
    "duration": 4,
    "start_time": "2022-12-14T17:17:01.552Z"
   },
   {
    "duration": 4,
    "start_time": "2022-12-14T17:18:08.466Z"
   },
   {
    "duration": 19,
    "start_time": "2022-12-14T17:18:13.867Z"
   },
   {
    "duration": 12,
    "start_time": "2022-12-14T17:19:33.012Z"
   },
   {
    "duration": 19,
    "start_time": "2022-12-14T17:19:40.019Z"
   },
   {
    "duration": 21,
    "start_time": "2022-12-14T17:20:03.229Z"
   },
   {
    "duration": 4,
    "start_time": "2022-12-14T17:26:33.133Z"
   },
   {
    "duration": 3,
    "start_time": "2022-12-14T17:27:53.233Z"
   },
   {
    "duration": 12,
    "start_time": "2022-12-14T17:28:28.880Z"
   },
   {
    "duration": 3,
    "start_time": "2022-12-14T17:30:44.059Z"
   },
   {
    "duration": 12,
    "start_time": "2022-12-14T17:30:49.033Z"
   },
   {
    "duration": 9,
    "start_time": "2022-12-14T17:30:55.910Z"
   },
   {
    "duration": 10,
    "start_time": "2022-12-14T17:31:46.134Z"
   },
   {
    "duration": 12,
    "start_time": "2022-12-14T17:37:32.174Z"
   },
   {
    "duration": 11,
    "start_time": "2022-12-14T17:37:47.498Z"
   },
   {
    "duration": 11,
    "start_time": "2022-12-14T17:38:39.965Z"
   },
   {
    "duration": 28,
    "start_time": "2022-12-14T17:39:48.518Z"
   },
   {
    "duration": 4,
    "start_time": "2022-12-14T17:40:32.342Z"
   },
   {
    "duration": 11,
    "start_time": "2022-12-14T17:40:38.930Z"
   },
   {
    "duration": 6,
    "start_time": "2022-12-14T17:41:30.180Z"
   },
   {
    "duration": 8,
    "start_time": "2022-12-14T17:41:34.796Z"
   },
   {
    "duration": 12,
    "start_time": "2022-12-14T17:41:44.421Z"
   },
   {
    "duration": 10,
    "start_time": "2022-12-14T17:41:53.580Z"
   },
   {
    "duration": 10,
    "start_time": "2022-12-14T17:41:56.124Z"
   },
   {
    "duration": 3,
    "start_time": "2022-12-14T17:41:59.161Z"
   },
   {
    "duration": 5,
    "start_time": "2022-12-14T17:41:59.651Z"
   },
   {
    "duration": 10,
    "start_time": "2022-12-14T17:42:01.514Z"
   },
   {
    "duration": 11,
    "start_time": "2022-12-14T17:42:19.782Z"
   },
   {
    "duration": 7,
    "start_time": "2022-12-14T17:42:20.417Z"
   },
   {
    "duration": 10,
    "start_time": "2022-12-14T17:42:41.288Z"
   },
   {
    "duration": 10,
    "start_time": "2022-12-14T17:43:06.512Z"
   },
   {
    "duration": 6,
    "start_time": "2022-12-14T17:43:08.421Z"
   },
   {
    "duration": 4,
    "start_time": "2022-12-14T17:43:11.378Z"
   },
   {
    "duration": 5,
    "start_time": "2022-12-14T17:43:11.842Z"
   },
   {
    "duration": 12,
    "start_time": "2022-12-14T17:43:25.634Z"
   },
   {
    "duration": 6,
    "start_time": "2022-12-14T17:43:46.330Z"
   },
   {
    "duration": 5,
    "start_time": "2022-12-14T17:43:56.036Z"
   },
   {
    "duration": 6,
    "start_time": "2022-12-14T17:43:56.541Z"
   },
   {
    "duration": 11,
    "start_time": "2022-12-14T17:44:43.164Z"
   },
   {
    "duration": 12,
    "start_time": "2022-12-14T17:44:48.451Z"
   },
   {
    "duration": 6,
    "start_time": "2022-12-14T17:44:48.948Z"
   },
   {
    "duration": 7,
    "start_time": "2022-12-14T17:44:52.041Z"
   },
   {
    "duration": 11,
    "start_time": "2022-12-14T17:45:42.059Z"
   },
   {
    "duration": 10,
    "start_time": "2022-12-14T17:45:49.130Z"
   },
   {
    "duration": 10,
    "start_time": "2022-12-14T17:46:03.387Z"
   },
   {
    "duration": 9,
    "start_time": "2022-12-14T17:46:05.553Z"
   },
   {
    "duration": 20,
    "start_time": "2022-12-14T17:47:13.942Z"
   },
   {
    "duration": 614,
    "start_time": "2022-12-14T17:47:35.693Z"
   },
   {
    "duration": 5,
    "start_time": "2022-12-14T17:47:42.906Z"
   },
   {
    "duration": 571,
    "start_time": "2022-12-14T17:47:45.358Z"
   },
   {
    "duration": 5,
    "start_time": "2022-12-14T17:47:54.279Z"
   },
   {
    "duration": 5,
    "start_time": "2022-12-14T17:47:57.203Z"
   },
   {
    "duration": 7,
    "start_time": "2022-12-14T17:48:20.808Z"
   },
   {
    "duration": 13,
    "start_time": "2022-12-14T17:48:24.769Z"
   },
   {
    "duration": 7,
    "start_time": "2022-12-14T19:20:53.128Z"
   },
   {
    "duration": 14,
    "start_time": "2022-12-14T19:21:01.684Z"
   },
   {
    "duration": 14,
    "start_time": "2022-12-14T19:21:25.602Z"
   },
   {
    "duration": 11,
    "start_time": "2022-12-14T19:21:33.384Z"
   },
   {
    "duration": 15,
    "start_time": "2022-12-14T19:21:43.284Z"
   },
   {
    "duration": 17,
    "start_time": "2022-12-14T19:21:53.094Z"
   },
   {
    "duration": 17,
    "start_time": "2022-12-14T19:21:56.222Z"
   },
   {
    "duration": 14,
    "start_time": "2022-12-14T19:22:00.666Z"
   },
   {
    "duration": 16,
    "start_time": "2022-12-14T19:22:05.996Z"
   },
   {
    "duration": 20,
    "start_time": "2022-12-14T19:22:24.701Z"
   },
   {
    "duration": 1082,
    "start_time": "2022-12-14T19:22:36.910Z"
   },
   {
    "duration": 52,
    "start_time": "2022-12-14T19:22:37.994Z"
   },
   {
    "duration": 22,
    "start_time": "2022-12-14T19:22:38.047Z"
   },
   {
    "duration": 12,
    "start_time": "2022-12-14T19:22:38.070Z"
   },
   {
    "duration": 3,
    "start_time": "2022-12-14T19:22:38.084Z"
   },
   {
    "duration": 8,
    "start_time": "2022-12-14T19:22:38.117Z"
   },
   {
    "duration": 12,
    "start_time": "2022-12-14T19:22:38.275Z"
   },
   {
    "duration": 8,
    "start_time": "2022-12-14T19:22:38.442Z"
   },
   {
    "duration": 5,
    "start_time": "2022-12-14T19:22:38.611Z"
   },
   {
    "duration": 22,
    "start_time": "2022-12-14T19:22:38.788Z"
   },
   {
    "duration": 9,
    "start_time": "2022-12-14T19:22:38.967Z"
   },
   {
    "duration": 8,
    "start_time": "2022-12-14T19:22:39.158Z"
   },
   {
    "duration": 6,
    "start_time": "2022-12-14T19:22:39.348Z"
   },
   {
    "duration": 9,
    "start_time": "2022-12-14T19:22:39.525Z"
   },
   {
    "duration": 311,
    "start_time": "2022-12-14T19:22:40.288Z"
   },
   {
    "duration": 255,
    "start_time": "2022-12-14T19:22:40.681Z"
   },
   {
    "duration": 4,
    "start_time": "2022-12-14T19:22:40.938Z"
   },
   {
    "duration": 1687,
    "start_time": "2022-12-14T19:22:41.092Z"
   },
   {
    "duration": 165,
    "start_time": "2022-12-14T19:22:42.780Z"
   },
   {
    "duration": 4,
    "start_time": "2022-12-14T19:22:42.947Z"
   },
   {
    "duration": 1638,
    "start_time": "2022-12-14T19:22:42.953Z"
   },
   {
    "duration": 15,
    "start_time": "2022-12-14T19:22:44.597Z"
   },
   {
    "duration": 1721,
    "start_time": "2022-12-14T19:22:55.407Z"
   },
   {
    "duration": 8,
    "start_time": "2022-12-14T19:34:09.258Z"
   },
   {
    "duration": 15,
    "start_time": "2022-12-14T19:34:18.532Z"
   },
   {
    "duration": 96,
    "start_time": "2022-12-14T19:35:58.724Z"
   },
   {
    "duration": 12,
    "start_time": "2022-12-14T19:36:03.417Z"
   },
   {
    "duration": 20,
    "start_time": "2022-12-14T19:36:11.009Z"
   },
   {
    "duration": 16,
    "start_time": "2022-12-14T19:36:40.262Z"
   },
   {
    "duration": 39,
    "start_time": "2022-12-14T19:37:14.388Z"
   },
   {
    "duration": 20,
    "start_time": "2022-12-14T19:37:20.068Z"
   },
   {
    "duration": 166,
    "start_time": "2022-12-14T19:38:59.312Z"
   },
   {
    "duration": 41,
    "start_time": "2022-12-14T19:42:28.548Z"
   },
   {
    "duration": 159,
    "start_time": "2022-12-14T19:42:33.232Z"
   },
   {
    "duration": 175,
    "start_time": "2022-12-14T19:43:25.896Z"
   },
   {
    "duration": 1282,
    "start_time": "2022-12-15T10:25:08.389Z"
   },
   {
    "duration": 188,
    "start_time": "2022-12-15T10:25:09.672Z"
   },
   {
    "duration": 25,
    "start_time": "2022-12-15T10:25:09.862Z"
   },
   {
    "duration": 15,
    "start_time": "2022-12-15T10:25:09.889Z"
   },
   {
    "duration": 13,
    "start_time": "2022-12-15T10:25:09.906Z"
   },
   {
    "duration": 30,
    "start_time": "2022-12-15T10:25:09.920Z"
   },
   {
    "duration": 37,
    "start_time": "2022-12-15T10:25:09.952Z"
   },
   {
    "duration": 21,
    "start_time": "2022-12-15T10:25:09.991Z"
   },
   {
    "duration": 35,
    "start_time": "2022-12-15T10:25:10.014Z"
   },
   {
    "duration": 31,
    "start_time": "2022-12-15T10:25:10.162Z"
   },
   {
    "duration": 11,
    "start_time": "2022-12-15T10:25:10.324Z"
   },
   {
    "duration": 8,
    "start_time": "2022-12-15T10:25:10.493Z"
   },
   {
    "duration": 4,
    "start_time": "2022-12-15T10:25:10.678Z"
   },
   {
    "duration": 9,
    "start_time": "2022-12-15T10:25:10.878Z"
   },
   {
    "duration": 331,
    "start_time": "2022-12-15T10:25:11.648Z"
   },
   {
    "duration": 261,
    "start_time": "2022-12-15T10:25:12.082Z"
   },
   {
    "duration": 5,
    "start_time": "2022-12-15T10:25:12.344Z"
   },
   {
    "duration": 1777,
    "start_time": "2022-12-15T10:25:12.492Z"
   },
   {
    "duration": 178,
    "start_time": "2022-12-15T10:25:14.271Z"
   },
   {
    "duration": 3,
    "start_time": "2022-12-15T10:25:14.451Z"
   },
   {
    "duration": 1851,
    "start_time": "2022-12-15T10:25:14.456Z"
   },
   {
    "duration": 180,
    "start_time": "2022-12-15T10:25:16.308Z"
   },
   {
    "duration": 3,
    "start_time": "2022-12-15T10:25:24.968Z"
   },
   {
    "duration": 239,
    "start_time": "2022-12-15T10:25:41.806Z"
   },
   {
    "duration": 4,
    "start_time": "2022-12-15T10:25:45.422Z"
   },
   {
    "duration": 7,
    "start_time": "2022-12-15T10:26:02.994Z"
   },
   {
    "duration": 32,
    "start_time": "2022-12-15T10:37:58.458Z"
   },
   {
    "duration": 96,
    "start_time": "2022-12-15T10:40:27.432Z"
   },
   {
    "duration": 5,
    "start_time": "2022-12-15T10:40:36.171Z"
   },
   {
    "duration": 8,
    "start_time": "2022-12-15T10:40:40.771Z"
   },
   {
    "duration": 4,
    "start_time": "2022-12-15T10:41:25.081Z"
   },
   {
    "duration": 4,
    "start_time": "2022-12-15T10:41:30.477Z"
   },
   {
    "duration": 1108,
    "start_time": "2022-12-15T10:41:52.384Z"
   },
   {
    "duration": 0,
    "start_time": "2022-12-15T10:41:53.493Z"
   },
   {
    "duration": 5,
    "start_time": "2022-12-15T10:42:00.719Z"
   },
   {
    "duration": 4,
    "start_time": "2022-12-15T10:42:01.334Z"
   },
   {
    "duration": 7,
    "start_time": "2022-12-15T10:42:02.663Z"
   },
   {
    "duration": 6,
    "start_time": "2022-12-15T10:47:40.868Z"
   },
   {
    "duration": 5,
    "start_time": "2022-12-15T10:47:41.398Z"
   },
   {
    "duration": 8,
    "start_time": "2022-12-15T10:47:41.961Z"
   },
   {
    "duration": 8,
    "start_time": "2022-12-15T10:48:06.263Z"
   },
   {
    "duration": 3,
    "start_time": "2022-12-15T10:48:06.664Z"
   },
   {
    "duration": 8,
    "start_time": "2022-12-15T10:48:07.202Z"
   },
   {
    "duration": 7,
    "start_time": "2022-12-15T10:48:28.214Z"
   },
   {
    "duration": 4,
    "start_time": "2022-12-15T10:48:28.638Z"
   },
   {
    "duration": 8,
    "start_time": "2022-12-15T10:48:29.218Z"
   },
   {
    "duration": 1148,
    "start_time": "2022-12-15T10:48:37.484Z"
   },
   {
    "duration": 48,
    "start_time": "2022-12-15T10:48:38.634Z"
   },
   {
    "duration": 23,
    "start_time": "2022-12-15T10:48:38.684Z"
   },
   {
    "duration": 13,
    "start_time": "2022-12-15T10:48:38.709Z"
   },
   {
    "duration": 3,
    "start_time": "2022-12-15T10:48:38.723Z"
   },
   {
    "duration": 12,
    "start_time": "2022-12-15T10:48:38.728Z"
   },
   {
    "duration": 15,
    "start_time": "2022-12-15T10:48:38.741Z"
   },
   {
    "duration": 8,
    "start_time": "2022-12-15T10:48:38.846Z"
   },
   {
    "duration": 6,
    "start_time": "2022-12-15T10:48:39.143Z"
   },
   {
    "duration": 21,
    "start_time": "2022-12-15T10:48:39.312Z"
   },
   {
    "duration": 8,
    "start_time": "2022-12-15T10:48:39.447Z"
   },
   {
    "duration": 8,
    "start_time": "2022-12-15T10:48:39.609Z"
   },
   {
    "duration": 5,
    "start_time": "2022-12-15T10:48:39.752Z"
   },
   {
    "duration": 9,
    "start_time": "2022-12-15T10:48:39.912Z"
   },
   {
    "duration": 323,
    "start_time": "2022-12-15T10:48:40.892Z"
   },
   {
    "duration": 280,
    "start_time": "2022-12-15T10:48:41.217Z"
   },
   {
    "duration": 5,
    "start_time": "2022-12-15T10:48:41.498Z"
   },
   {
    "duration": 1867,
    "start_time": "2022-12-15T10:48:41.549Z"
   },
   {
    "duration": 177,
    "start_time": "2022-12-15T10:48:43.418Z"
   },
   {
    "duration": 4,
    "start_time": "2022-12-15T10:48:43.597Z"
   },
   {
    "duration": 1703,
    "start_time": "2022-12-15T10:48:43.602Z"
   },
   {
    "duration": 207,
    "start_time": "2022-12-15T10:48:45.307Z"
   },
   {
    "duration": 15,
    "start_time": "2022-12-15T10:48:45.516Z"
   },
   {
    "duration": 12,
    "start_time": "2022-12-15T10:48:45.533Z"
   },
   {
    "duration": 19,
    "start_time": "2022-12-15T10:48:45.547Z"
   },
   {
    "duration": 7,
    "start_time": "2022-12-15T10:49:15.322Z"
   },
   {
    "duration": 13,
    "start_time": "2022-12-15T10:49:20.959Z"
   },
   {
    "duration": 1142,
    "start_time": "2022-12-15T10:49:51.398Z"
   },
   {
    "duration": 51,
    "start_time": "2022-12-15T10:49:52.542Z"
   },
   {
    "duration": 24,
    "start_time": "2022-12-15T10:49:52.595Z"
   },
   {
    "duration": 33,
    "start_time": "2022-12-15T10:49:52.620Z"
   },
   {
    "duration": 9,
    "start_time": "2022-12-15T10:49:52.654Z"
   },
   {
    "duration": 18,
    "start_time": "2022-12-15T10:49:52.664Z"
   },
   {
    "duration": 13,
    "start_time": "2022-12-15T10:49:52.734Z"
   },
   {
    "duration": 8,
    "start_time": "2022-12-15T10:49:52.906Z"
   },
   {
    "duration": 6,
    "start_time": "2022-12-15T10:49:53.073Z"
   },
   {
    "duration": 20,
    "start_time": "2022-12-15T10:49:53.258Z"
   },
   {
    "duration": 11,
    "start_time": "2022-12-15T10:49:53.466Z"
   },
   {
    "duration": 7,
    "start_time": "2022-12-15T10:49:53.651Z"
   },
   {
    "duration": 5,
    "start_time": "2022-12-15T10:49:53.844Z"
   },
   {
    "duration": 8,
    "start_time": "2022-12-15T10:49:54.044Z"
   },
   {
    "duration": 321,
    "start_time": "2022-12-15T10:49:54.920Z"
   },
   {
    "duration": 310,
    "start_time": "2022-12-15T10:49:55.770Z"
   },
   {
    "duration": 5,
    "start_time": "2022-12-15T10:49:56.093Z"
   },
   {
    "duration": 1809,
    "start_time": "2022-12-15T10:49:56.500Z"
   },
   {
    "duration": 173,
    "start_time": "2022-12-15T10:49:58.410Z"
   },
   {
    "duration": 4,
    "start_time": "2022-12-15T10:49:58.860Z"
   },
   {
    "duration": 1735,
    "start_time": "2022-12-15T10:49:59.400Z"
   },
   {
    "duration": 189,
    "start_time": "2022-12-15T10:50:01.137Z"
   },
   {
    "duration": 12,
    "start_time": "2022-12-15T10:50:11.923Z"
   },
   {
    "duration": 13,
    "start_time": "2022-12-15T10:50:32.609Z"
   },
   {
    "duration": 4,
    "start_time": "2022-12-15T10:50:33.214Z"
   },
   {
    "duration": 12,
    "start_time": "2022-12-15T10:50:37.345Z"
   },
   {
    "duration": 6,
    "start_time": "2022-12-15T11:59:20.988Z"
   },
   {
    "duration": 10,
    "start_time": "2022-12-15T11:59:27.862Z"
   },
   {
    "duration": 1103,
    "start_time": "2022-12-15T11:59:35.051Z"
   },
   {
    "duration": 48,
    "start_time": "2022-12-15T11:59:36.156Z"
   },
   {
    "duration": 21,
    "start_time": "2022-12-15T11:59:36.205Z"
   },
   {
    "duration": 13,
    "start_time": "2022-12-15T11:59:36.227Z"
   },
   {
    "duration": 3,
    "start_time": "2022-12-15T11:59:36.241Z"
   },
   {
    "duration": 10,
    "start_time": "2022-12-15T11:59:36.245Z"
   },
   {
    "duration": 13,
    "start_time": "2022-12-15T11:59:36.291Z"
   },
   {
    "duration": 8,
    "start_time": "2022-12-15T11:59:36.459Z"
   },
   {
    "duration": 5,
    "start_time": "2022-12-15T11:59:36.597Z"
   },
   {
    "duration": 19,
    "start_time": "2022-12-15T11:59:36.760Z"
   },
   {
    "duration": 7,
    "start_time": "2022-12-15T11:59:36.921Z"
   },
   {
    "duration": 9,
    "start_time": "2022-12-15T11:59:37.089Z"
   },
   {
    "duration": 4,
    "start_time": "2022-12-15T11:59:37.264Z"
   },
   {
    "duration": 8,
    "start_time": "2022-12-15T11:59:37.433Z"
   },
   {
    "duration": 321,
    "start_time": "2022-12-15T11:59:38.284Z"
   },
   {
    "duration": 263,
    "start_time": "2022-12-15T11:59:38.607Z"
   },
   {
    "duration": 5,
    "start_time": "2022-12-15T11:59:38.872Z"
   },
   {
    "duration": 1756,
    "start_time": "2022-12-15T11:59:38.955Z"
   },
   {
    "duration": 173,
    "start_time": "2022-12-15T11:59:40.713Z"
   },
   {
    "duration": 4,
    "start_time": "2022-12-15T11:59:40.887Z"
   },
   {
    "duration": 1692,
    "start_time": "2022-12-15T11:59:40.893Z"
   },
   {
    "duration": 164,
    "start_time": "2022-12-15T11:59:42.587Z"
   },
   {
    "duration": 11,
    "start_time": "2022-12-15T11:59:42.752Z"
   },
   {
    "duration": 12,
    "start_time": "2022-12-15T11:59:48.982Z"
   },
   {
    "duration": 81,
    "start_time": "2022-12-15T12:01:49.311Z"
   },
   {
    "duration": 7,
    "start_time": "2022-12-15T12:02:09.881Z"
   },
   {
    "duration": 12,
    "start_time": "2022-12-15T12:02:15.845Z"
   },
   {
    "duration": 9,
    "start_time": "2022-12-15T12:03:02.163Z"
   },
   {
    "duration": 12,
    "start_time": "2022-12-15T12:03:08.459Z"
   },
   {
    "duration": 1051,
    "start_time": "2022-12-15T12:04:01.672Z"
   },
   {
    "duration": 56,
    "start_time": "2022-12-15T12:04:02.725Z"
   },
   {
    "duration": 24,
    "start_time": "2022-12-15T12:04:02.783Z"
   },
   {
    "duration": 20,
    "start_time": "2022-12-15T12:04:02.810Z"
   },
   {
    "duration": 10,
    "start_time": "2022-12-15T12:04:02.832Z"
   },
   {
    "duration": 17,
    "start_time": "2022-12-15T12:04:02.844Z"
   },
   {
    "duration": 28,
    "start_time": "2022-12-15T12:04:02.864Z"
   },
   {
    "duration": 10,
    "start_time": "2022-12-15T12:04:02.913Z"
   },
   {
    "duration": 6,
    "start_time": "2022-12-15T12:04:03.060Z"
   },
   {
    "duration": 23,
    "start_time": "2022-12-15T12:04:03.200Z"
   },
   {
    "duration": 8,
    "start_time": "2022-12-15T12:04:03.347Z"
   },
   {
    "duration": 8,
    "start_time": "2022-12-15T12:04:03.494Z"
   },
   {
    "duration": 5,
    "start_time": "2022-12-15T12:04:03.644Z"
   },
   {
    "duration": 8,
    "start_time": "2022-12-15T12:04:03.777Z"
   },
   {
    "duration": 325,
    "start_time": "2022-12-15T12:04:04.345Z"
   },
   {
    "duration": 311,
    "start_time": "2022-12-15T12:04:05.417Z"
   },
   {
    "duration": 7,
    "start_time": "2022-12-15T12:04:06.032Z"
   },
   {
    "duration": 2037,
    "start_time": "2022-12-15T12:04:06.913Z"
   },
   {
    "duration": 178,
    "start_time": "2022-12-15T12:04:11.248Z"
   },
   {
    "duration": 4,
    "start_time": "2022-12-15T12:04:12.694Z"
   },
   {
    "duration": 1857,
    "start_time": "2022-12-15T12:04:14.509Z"
   },
   {
    "duration": 166,
    "start_time": "2022-12-15T12:04:18.150Z"
   },
   {
    "duration": 16,
    "start_time": "2022-12-15T12:08:04.609Z"
   },
   {
    "duration": 15,
    "start_time": "2022-12-15T12:08:19.545Z"
   },
   {
    "duration": 97,
    "start_time": "2022-12-15T12:10:52.056Z"
   },
   {
    "duration": 3,
    "start_time": "2022-12-15T12:11:02.613Z"
   },
   {
    "duration": 49,
    "start_time": "2022-12-15T12:11:02.960Z"
   },
   {
    "duration": 25,
    "start_time": "2022-12-15T12:11:03.113Z"
   },
   {
    "duration": 12,
    "start_time": "2022-12-15T12:11:03.392Z"
   },
   {
    "duration": 4,
    "start_time": "2022-12-15T12:11:03.537Z"
   },
   {
    "duration": 8,
    "start_time": "2022-12-15T12:11:03.679Z"
   },
   {
    "duration": 18,
    "start_time": "2022-12-15T12:11:03.807Z"
   },
   {
    "duration": 8,
    "start_time": "2022-12-15T12:11:04.088Z"
   },
   {
    "duration": 5,
    "start_time": "2022-12-15T12:11:04.251Z"
   },
   {
    "duration": 26,
    "start_time": "2022-12-15T12:11:04.419Z"
   },
   {
    "duration": 8,
    "start_time": "2022-12-15T12:11:04.559Z"
   },
   {
    "duration": 8,
    "start_time": "2022-12-15T12:11:04.716Z"
   },
   {
    "duration": 4,
    "start_time": "2022-12-15T12:11:04.867Z"
   },
   {
    "duration": 15,
    "start_time": "2022-12-15T12:11:05.020Z"
   },
   {
    "duration": 468,
    "start_time": "2022-12-15T12:11:05.645Z"
   },
   {
    "duration": 269,
    "start_time": "2022-12-15T12:11:06.115Z"
   },
   {
    "duration": 5,
    "start_time": "2022-12-15T12:11:06.385Z"
   },
   {
    "duration": 1706,
    "start_time": "2022-12-15T12:11:06.465Z"
   },
   {
    "duration": 169,
    "start_time": "2022-12-15T12:11:08.173Z"
   },
   {
    "duration": 4,
    "start_time": "2022-12-15T12:11:08.343Z"
   },
   {
    "duration": 1747,
    "start_time": "2022-12-15T12:11:08.355Z"
   },
   {
    "duration": 12,
    "start_time": "2022-12-15T12:11:10.104Z"
   },
   {
    "duration": 0,
    "start_time": "2022-12-15T12:11:10.117Z"
   },
   {
    "duration": 13,
    "start_time": "2022-12-15T12:11:23.670Z"
   },
   {
    "duration": 167,
    "start_time": "2022-12-15T12:11:50.515Z"
   },
   {
    "duration": 11,
    "start_time": "2022-12-15T12:11:55.891Z"
   },
   {
    "duration": 4,
    "start_time": "2022-12-15T12:12:10.030Z"
   },
   {
    "duration": 22,
    "start_time": "2022-12-15T12:12:36.045Z"
   },
   {
    "duration": 8,
    "start_time": "2022-12-15T12:12:43.499Z"
   },
   {
    "duration": 7,
    "start_time": "2022-12-15T12:13:45.635Z"
   },
   {
    "duration": 5,
    "start_time": "2022-12-15T12:13:50.234Z"
   },
   {
    "duration": 11,
    "start_time": "2022-12-15T12:14:25.341Z"
   },
   {
    "duration": 22,
    "start_time": "2022-12-15T12:14:29.315Z"
   },
   {
    "duration": 1091,
    "start_time": "2022-12-15T12:14:37.348Z"
   },
   {
    "duration": 50,
    "start_time": "2022-12-15T12:14:38.441Z"
   },
   {
    "duration": 22,
    "start_time": "2022-12-15T12:14:38.492Z"
   },
   {
    "duration": 27,
    "start_time": "2022-12-15T12:14:38.516Z"
   },
   {
    "duration": 18,
    "start_time": "2022-12-15T12:14:38.545Z"
   },
   {
    "duration": 46,
    "start_time": "2022-12-15T12:14:38.564Z"
   },
   {
    "duration": 47,
    "start_time": "2022-12-15T12:14:38.611Z"
   },
   {
    "duration": 43,
    "start_time": "2022-12-15T12:14:38.662Z"
   },
   {
    "duration": 5,
    "start_time": "2022-12-15T12:14:38.806Z"
   },
   {
    "duration": 20,
    "start_time": "2022-12-15T12:14:38.953Z"
   },
   {
    "duration": 8,
    "start_time": "2022-12-15T12:14:39.105Z"
   },
   {
    "duration": 8,
    "start_time": "2022-12-15T12:14:39.255Z"
   },
   {
    "duration": 4,
    "start_time": "2022-12-15T12:14:39.400Z"
   },
   {
    "duration": 8,
    "start_time": "2022-12-15T12:14:39.551Z"
   },
   {
    "duration": 343,
    "start_time": "2022-12-15T12:14:40.169Z"
   },
   {
    "duration": 303,
    "start_time": "2022-12-15T12:14:40.514Z"
   },
   {
    "duration": 9,
    "start_time": "2022-12-15T12:14:40.819Z"
   },
   {
    "duration": 1871,
    "start_time": "2022-12-15T12:14:40.830Z"
   },
   {
    "duration": 182,
    "start_time": "2022-12-15T12:14:42.703Z"
   },
   {
    "duration": 3,
    "start_time": "2022-12-15T12:14:42.887Z"
   },
   {
    "duration": 1771,
    "start_time": "2022-12-15T12:14:42.892Z"
   },
   {
    "duration": 188,
    "start_time": "2022-12-15T12:14:44.665Z"
   },
   {
    "duration": 13,
    "start_time": "2022-12-15T12:14:44.856Z"
   },
   {
    "duration": 42,
    "start_time": "2022-12-15T12:14:44.871Z"
   },
   {
    "duration": 7,
    "start_time": "2022-12-15T12:14:57.689Z"
   },
   {
    "duration": 12,
    "start_time": "2022-12-15T12:15:14.180Z"
   },
   {
    "duration": 8,
    "start_time": "2022-12-15T12:15:17.491Z"
   },
   {
    "duration": 8,
    "start_time": "2022-12-15T12:16:28.517Z"
   },
   {
    "duration": 3,
    "start_time": "2022-12-15T12:18:54.209Z"
   },
   {
    "duration": 58,
    "start_time": "2022-12-15T12:18:54.649Z"
   },
   {
    "duration": 21,
    "start_time": "2022-12-15T12:18:54.803Z"
   },
   {
    "duration": 13,
    "start_time": "2022-12-15T12:18:55.074Z"
   },
   {
    "duration": 4,
    "start_time": "2022-12-15T12:18:55.227Z"
   },
   {
    "duration": 10,
    "start_time": "2022-12-15T12:18:55.540Z"
   },
   {
    "duration": 13,
    "start_time": "2022-12-15T12:18:55.708Z"
   },
   {
    "duration": 8,
    "start_time": "2022-12-15T12:18:55.861Z"
   },
   {
    "duration": 5,
    "start_time": "2022-12-15T12:18:56.017Z"
   },
   {
    "duration": 20,
    "start_time": "2022-12-15T12:18:56.168Z"
   },
   {
    "duration": 8,
    "start_time": "2022-12-15T12:18:56.319Z"
   },
   {
    "duration": 9,
    "start_time": "2022-12-15T12:18:56.462Z"
   },
   {
    "duration": 4,
    "start_time": "2022-12-15T12:18:56.615Z"
   },
   {
    "duration": 8,
    "start_time": "2022-12-15T12:18:56.767Z"
   },
   {
    "duration": 421,
    "start_time": "2022-12-15T12:18:57.400Z"
   },
   {
    "duration": 279,
    "start_time": "2022-12-15T12:18:57.823Z"
   },
   {
    "duration": 5,
    "start_time": "2022-12-15T12:18:58.104Z"
   },
   {
    "duration": 1756,
    "start_time": "2022-12-15T12:18:58.111Z"
   },
   {
    "duration": 182,
    "start_time": "2022-12-15T12:18:59.870Z"
   },
   {
    "duration": 4,
    "start_time": "2022-12-15T12:19:00.054Z"
   },
   {
    "duration": 1823,
    "start_time": "2022-12-15T12:19:00.060Z"
   },
   {
    "duration": 166,
    "start_time": "2022-12-15T12:19:01.885Z"
   },
   {
    "duration": 11,
    "start_time": "2022-12-15T12:19:02.053Z"
   },
   {
    "duration": 75,
    "start_time": "2022-12-15T12:19:02.067Z"
   },
   {
    "duration": 0,
    "start_time": "2022-12-15T12:19:02.144Z"
   },
   {
    "duration": 1120,
    "start_time": "2022-12-15T12:19:07.092Z"
   },
   {
    "duration": 8,
    "start_time": "2022-12-15T12:19:28.093Z"
   },
   {
    "duration": 22,
    "start_time": "2022-12-15T12:19:34.291Z"
   },
   {
    "duration": 8,
    "start_time": "2022-12-15T12:25:52.451Z"
   },
   {
    "duration": 14,
    "start_time": "2022-12-15T12:30:40.643Z"
   },
   {
    "duration": 178,
    "start_time": "2022-12-15T12:30:47.357Z"
   },
   {
    "duration": 8,
    "start_time": "2022-12-15T12:30:56.125Z"
   },
   {
    "duration": 24,
    "start_time": "2022-12-15T12:31:23.419Z"
   },
   {
    "duration": 3,
    "start_time": "2022-12-15T12:32:31.005Z"
   },
   {
    "duration": 9,
    "start_time": "2022-12-15T12:32:37.868Z"
   },
   {
    "duration": 8,
    "start_time": "2022-12-15T12:32:50.069Z"
   },
   {
    "duration": 9,
    "start_time": "2022-12-15T12:33:14.976Z"
   },
   {
    "duration": 3,
    "start_time": "2022-12-15T12:34:18.770Z"
   },
   {
    "duration": 10,
    "start_time": "2022-12-15T12:34:20.536Z"
   },
   {
    "duration": 4,
    "start_time": "2022-12-15T12:34:50.819Z"
   },
   {
    "duration": 8,
    "start_time": "2022-12-15T12:34:58.903Z"
   },
   {
    "duration": 157,
    "start_time": "2022-12-15T12:51:37.119Z"
   },
   {
    "duration": 4,
    "start_time": "2022-12-15T12:51:43.215Z"
   },
   {
    "duration": 1535,
    "start_time": "2022-12-15T12:51:43.881Z"
   },
   {
    "duration": 6,
    "start_time": "2022-12-15T12:54:25.417Z"
   },
   {
    "duration": 22,
    "start_time": "2022-12-15T12:54:29.549Z"
   },
   {
    "duration": 6,
    "start_time": "2022-12-15T12:55:44.558Z"
   },
   {
    "duration": 5,
    "start_time": "2022-12-15T12:55:54.052Z"
   },
   {
    "duration": 5,
    "start_time": "2022-12-15T12:56:07.194Z"
   },
   {
    "duration": 5,
    "start_time": "2022-12-15T12:56:17.081Z"
   },
   {
    "duration": 5,
    "start_time": "2022-12-15T12:56:38.080Z"
   },
   {
    "duration": 4,
    "start_time": "2022-12-15T12:56:38.864Z"
   },
   {
    "duration": 6,
    "start_time": "2022-12-15T12:56:53.920Z"
   },
   {
    "duration": 7,
    "start_time": "2022-12-15T12:56:54.610Z"
   },
   {
    "duration": 7,
    "start_time": "2022-12-15T12:57:22.936Z"
   },
   {
    "duration": 7,
    "start_time": "2022-12-15T12:57:23.320Z"
   },
   {
    "duration": 7,
    "start_time": "2022-12-15T12:57:23.684Z"
   },
   {
    "duration": 9,
    "start_time": "2022-12-15T12:57:32.845Z"
   },
   {
    "duration": 7,
    "start_time": "2022-12-15T12:57:33.465Z"
   },
   {
    "duration": 5,
    "start_time": "2022-12-15T12:57:40.385Z"
   },
   {
    "duration": 7,
    "start_time": "2022-12-15T12:57:40.804Z"
   },
   {
    "duration": 21,
    "start_time": "2022-12-15T12:58:02.892Z"
   },
   {
    "duration": 6,
    "start_time": "2022-12-15T12:58:27.532Z"
   },
   {
    "duration": 8,
    "start_time": "2022-12-15T12:58:28.221Z"
   },
   {
    "duration": 7,
    "start_time": "2022-12-15T12:58:30.568Z"
   },
   {
    "duration": 5,
    "start_time": "2022-12-15T12:59:02.262Z"
   },
   {
    "duration": 7,
    "start_time": "2022-12-15T12:59:09.513Z"
   },
   {
    "duration": 15,
    "start_time": "2022-12-15T13:07:24.033Z"
   },
   {
    "duration": 23,
    "start_time": "2022-12-15T13:07:31.794Z"
   },
   {
    "duration": 21,
    "start_time": "2022-12-15T13:08:27.710Z"
   },
   {
    "duration": 24,
    "start_time": "2022-12-15T13:08:28.251Z"
   },
   {
    "duration": 6,
    "start_time": "2022-12-15T13:08:55.155Z"
   },
   {
    "duration": 11,
    "start_time": "2022-12-15T13:10:24.021Z"
   },
   {
    "duration": 22,
    "start_time": "2022-12-15T13:10:24.542Z"
   },
   {
    "duration": 17,
    "start_time": "2022-12-15T13:10:49.115Z"
   },
   {
    "duration": 22,
    "start_time": "2022-12-15T13:10:49.703Z"
   },
   {
    "duration": 19,
    "start_time": "2022-12-15T13:12:20.530Z"
   },
   {
    "duration": 22,
    "start_time": "2022-12-15T13:12:21.846Z"
   },
   {
    "duration": 4,
    "start_time": "2022-12-15T13:12:25.315Z"
   },
   {
    "duration": 16,
    "start_time": "2022-12-15T13:12:26.214Z"
   },
   {
    "duration": 20,
    "start_time": "2022-12-15T13:12:28.181Z"
   },
   {
    "duration": 10,
    "start_time": "2022-12-15T13:13:22.481Z"
   },
   {
    "duration": 26,
    "start_time": "2022-12-15T13:13:23.235Z"
   },
   {
    "duration": 8,
    "start_time": "2022-12-15T13:13:45.795Z"
   },
   {
    "duration": 4,
    "start_time": "2022-12-15T13:13:55.605Z"
   },
   {
    "duration": 16,
    "start_time": "2022-12-15T13:14:07.371Z"
   },
   {
    "duration": 22,
    "start_time": "2022-12-15T13:14:08.176Z"
   },
   {
    "duration": 94,
    "start_time": "2022-12-15T13:14:31.721Z"
   },
   {
    "duration": 15,
    "start_time": "2022-12-15T13:14:37.630Z"
   },
   {
    "duration": 23,
    "start_time": "2022-12-15T13:15:19.049Z"
   },
   {
    "duration": 23,
    "start_time": "2022-12-15T13:15:20.060Z"
   },
   {
    "duration": 1080,
    "start_time": "2022-12-15T13:16:26.258Z"
   },
   {
    "duration": 0,
    "start_time": "2022-12-15T13:16:27.340Z"
   },
   {
    "duration": 3,
    "start_time": "2022-12-15T13:16:37.843Z"
   },
   {
    "duration": 8,
    "start_time": "2022-12-15T13:16:44.156Z"
   },
   {
    "duration": 5,
    "start_time": "2022-12-15T13:17:12.693Z"
   },
   {
    "duration": 8,
    "start_time": "2022-12-15T13:17:24.420Z"
   },
   {
    "duration": 18,
    "start_time": "2022-12-15T13:17:27.143Z"
   },
   {
    "duration": 21,
    "start_time": "2022-12-15T13:17:29.140Z"
   },
   {
    "duration": 14,
    "start_time": "2022-12-15T13:18:19.546Z"
   },
   {
    "duration": 23,
    "start_time": "2022-12-15T13:18:20.025Z"
   },
   {
    "duration": 10,
    "start_time": "2022-12-15T13:18:32.234Z"
   },
   {
    "duration": 18,
    "start_time": "2022-12-15T13:19:29.715Z"
   },
   {
    "duration": 22,
    "start_time": "2022-12-15T13:19:30.654Z"
   },
   {
    "duration": 14,
    "start_time": "2022-12-15T13:19:48.880Z"
   },
   {
    "duration": 14,
    "start_time": "2022-12-15T13:19:56.680Z"
   },
   {
    "duration": 22,
    "start_time": "2022-12-15T13:19:58.172Z"
   },
   {
    "duration": 4,
    "start_time": "2022-12-15T13:20:49.506Z"
   },
   {
    "duration": 23,
    "start_time": "2022-12-15T13:20:50.255Z"
   },
   {
    "duration": 1092,
    "start_time": "2022-12-15T13:21:09.960Z"
   },
   {
    "duration": 0,
    "start_time": "2022-12-15T13:21:11.053Z"
   },
   {
    "duration": 4,
    "start_time": "2022-12-15T13:22:09.488Z"
   },
   {
    "duration": 21,
    "start_time": "2022-12-15T13:22:13.883Z"
   },
   {
    "duration": 1106,
    "start_time": "2022-12-15T13:22:22.594Z"
   },
   {
    "duration": 51,
    "start_time": "2022-12-15T13:22:23.702Z"
   },
   {
    "duration": 23,
    "start_time": "2022-12-15T13:22:23.754Z"
   },
   {
    "duration": 12,
    "start_time": "2022-12-15T13:22:23.779Z"
   },
   {
    "duration": 2,
    "start_time": "2022-12-15T13:22:23.793Z"
   },
   {
    "duration": 37,
    "start_time": "2022-12-15T13:22:23.797Z"
   },
   {
    "duration": 31,
    "start_time": "2022-12-15T13:22:23.835Z"
   },
   {
    "duration": 15,
    "start_time": "2022-12-15T13:22:23.925Z"
   },
   {
    "duration": 5,
    "start_time": "2022-12-15T13:22:24.063Z"
   },
   {
    "duration": 21,
    "start_time": "2022-12-15T13:22:24.243Z"
   },
   {
    "duration": 8,
    "start_time": "2022-12-15T13:22:24.387Z"
   },
   {
    "duration": 8,
    "start_time": "2022-12-15T13:22:24.539Z"
   },
   {
    "duration": 4,
    "start_time": "2022-12-15T13:22:24.696Z"
   },
   {
    "duration": 7,
    "start_time": "2022-12-15T13:22:24.870Z"
   },
   {
    "duration": 366,
    "start_time": "2022-12-15T13:22:25.505Z"
   },
   {
    "duration": 293,
    "start_time": "2022-12-15T13:22:25.872Z"
   },
   {
    "duration": 4,
    "start_time": "2022-12-15T13:22:26.167Z"
   },
   {
    "duration": 1793,
    "start_time": "2022-12-15T13:22:26.173Z"
   },
   {
    "duration": 172,
    "start_time": "2022-12-15T13:22:27.968Z"
   },
   {
    "duration": 6,
    "start_time": "2022-12-15T13:22:28.141Z"
   },
   {
    "duration": 1491,
    "start_time": "2022-12-15T13:22:28.148Z"
   },
   {
    "duration": 6,
    "start_time": "2022-12-15T13:22:29.642Z"
   },
   {
    "duration": 14,
    "start_time": "2022-12-15T13:22:29.649Z"
   },
   {
    "duration": 26,
    "start_time": "2022-12-15T13:22:29.665Z"
   },
   {
    "duration": 37,
    "start_time": "2022-12-15T13:22:29.693Z"
   },
   {
    "duration": 5,
    "start_time": "2022-12-15T13:22:29.735Z"
   },
   {
    "duration": 33,
    "start_time": "2022-12-15T13:22:29.742Z"
   },
   {
    "duration": 9,
    "start_time": "2022-12-15T13:23:54.361Z"
   },
   {
    "duration": 4,
    "start_time": "2022-12-15T13:24:13.102Z"
   },
   {
    "duration": 9,
    "start_time": "2022-12-15T13:24:15.557Z"
   },
   {
    "duration": 10,
    "start_time": "2022-12-15T13:24:21.993Z"
   },
   {
    "duration": 9,
    "start_time": "2022-12-15T13:26:12.037Z"
   },
   {
    "duration": 1069,
    "start_time": "2022-12-15T13:26:27.969Z"
   },
   {
    "duration": 53,
    "start_time": "2022-12-15T13:26:29.040Z"
   },
   {
    "duration": 24,
    "start_time": "2022-12-15T13:26:29.094Z"
   },
   {
    "duration": 34,
    "start_time": "2022-12-15T13:26:29.120Z"
   },
   {
    "duration": 3,
    "start_time": "2022-12-15T13:26:29.257Z"
   },
   {
    "duration": 9,
    "start_time": "2022-12-15T13:26:29.425Z"
   },
   {
    "duration": 14,
    "start_time": "2022-12-15T13:26:29.586Z"
   },
   {
    "duration": 8,
    "start_time": "2022-12-15T13:26:29.765Z"
   },
   {
    "duration": 5,
    "start_time": "2022-12-15T13:26:29.943Z"
   },
   {
    "duration": 22,
    "start_time": "2022-12-15T13:26:30.108Z"
   },
   {
    "duration": 8,
    "start_time": "2022-12-15T13:26:30.275Z"
   },
   {
    "duration": 8,
    "start_time": "2022-12-15T13:26:30.451Z"
   },
   {
    "duration": 4,
    "start_time": "2022-12-15T13:26:30.639Z"
   },
   {
    "duration": 9,
    "start_time": "2022-12-15T13:26:30.813Z"
   },
   {
    "duration": 378,
    "start_time": "2022-12-15T13:26:31.583Z"
   },
   {
    "duration": 297,
    "start_time": "2022-12-15T13:26:31.967Z"
   },
   {
    "duration": 5,
    "start_time": "2022-12-15T13:26:32.265Z"
   },
   {
    "duration": 1840,
    "start_time": "2022-12-15T13:26:32.371Z"
   },
   {
    "duration": 178,
    "start_time": "2022-12-15T13:26:34.213Z"
   },
   {
    "duration": 8,
    "start_time": "2022-12-15T13:26:34.393Z"
   },
   {
    "duration": 1610,
    "start_time": "2022-12-15T13:26:34.680Z"
   },
   {
    "duration": 7,
    "start_time": "2022-12-15T13:26:36.292Z"
   },
   {
    "duration": 12,
    "start_time": "2022-12-15T13:26:36.301Z"
   },
   {
    "duration": 15,
    "start_time": "2022-12-15T13:26:36.315Z"
   },
   {
    "duration": 9,
    "start_time": "2022-12-15T13:26:37.400Z"
   },
   {
    "duration": 21,
    "start_time": "2022-12-15T13:26:47.571Z"
   },
   {
    "duration": 89,
    "start_time": "2022-12-15T13:27:02.454Z"
   },
   {
    "duration": 8,
    "start_time": "2022-12-15T13:27:15.018Z"
   },
   {
    "duration": 15,
    "start_time": "2022-12-15T13:27:37.340Z"
   },
   {
    "duration": 14,
    "start_time": "2022-12-15T13:28:43.025Z"
   },
   {
    "duration": 8,
    "start_time": "2022-12-15T13:29:04.344Z"
   },
   {
    "duration": 5,
    "start_time": "2022-12-15T13:31:40.077Z"
   },
   {
    "duration": 9,
    "start_time": "2022-12-15T13:31:48.096Z"
   },
   {
    "duration": 9,
    "start_time": "2022-12-15T13:32:05.274Z"
   },
   {
    "duration": 4,
    "start_time": "2022-12-15T13:32:06.491Z"
   },
   {
    "duration": 10,
    "start_time": "2022-12-15T13:32:07.014Z"
   },
   {
    "duration": 5,
    "start_time": "2022-12-15T13:35:37.799Z"
   },
   {
    "duration": 11,
    "start_time": "2022-12-15T13:36:00.642Z"
   },
   {
    "duration": 9,
    "start_time": "2022-12-15T13:37:03.838Z"
   },
   {
    "duration": 10,
    "start_time": "2022-12-15T13:37:18.042Z"
   },
   {
    "duration": 6,
    "start_time": "2022-12-15T13:37:34.549Z"
   },
   {
    "duration": 10,
    "start_time": "2022-12-15T13:37:35.176Z"
   },
   {
    "duration": 11,
    "start_time": "2022-12-15T13:38:05.542Z"
   },
   {
    "duration": 10,
    "start_time": "2022-12-15T13:38:06.097Z"
   },
   {
    "duration": 8,
    "start_time": "2022-12-15T13:38:39.225Z"
   },
   {
    "duration": 14,
    "start_time": "2022-12-15T13:38:39.925Z"
   },
   {
    "duration": 1038,
    "start_time": "2022-12-15T13:38:55.791Z"
   },
   {
    "duration": 50,
    "start_time": "2022-12-15T13:38:56.843Z"
   },
   {
    "duration": 24,
    "start_time": "2022-12-15T13:38:56.894Z"
   },
   {
    "duration": 36,
    "start_time": "2022-12-15T13:38:56.920Z"
   },
   {
    "duration": 31,
    "start_time": "2022-12-15T13:38:56.958Z"
   },
   {
    "duration": 23,
    "start_time": "2022-12-15T13:38:56.991Z"
   },
   {
    "duration": 18,
    "start_time": "2022-12-15T13:38:57.017Z"
   },
   {
    "duration": 8,
    "start_time": "2022-12-15T13:38:57.095Z"
   },
   {
    "duration": 5,
    "start_time": "2022-12-15T13:38:57.226Z"
   },
   {
    "duration": 22,
    "start_time": "2022-12-15T13:38:57.388Z"
   },
   {
    "duration": 8,
    "start_time": "2022-12-15T13:38:57.522Z"
   },
   {
    "duration": 8,
    "start_time": "2022-12-15T13:38:57.676Z"
   },
   {
    "duration": 4,
    "start_time": "2022-12-15T13:38:57.820Z"
   },
   {
    "duration": 10,
    "start_time": "2022-12-15T13:38:57.981Z"
   },
   {
    "duration": 333,
    "start_time": "2022-12-15T13:38:58.581Z"
   },
   {
    "duration": 279,
    "start_time": "2022-12-15T13:38:58.916Z"
   },
   {
    "duration": 6,
    "start_time": "2022-12-15T13:38:59.197Z"
   },
   {
    "duration": 1819,
    "start_time": "2022-12-15T13:38:59.215Z"
   },
   {
    "duration": 172,
    "start_time": "2022-12-15T13:39:01.036Z"
   },
   {
    "duration": 4,
    "start_time": "2022-12-15T13:39:01.210Z"
   },
   {
    "duration": 1537,
    "start_time": "2022-12-15T13:39:01.217Z"
   },
   {
    "duration": 6,
    "start_time": "2022-12-15T13:39:02.755Z"
   },
   {
    "duration": 51,
    "start_time": "2022-12-15T13:39:02.763Z"
   },
   {
    "duration": 52,
    "start_time": "2022-12-15T13:39:02.816Z"
   },
   {
    "duration": 44,
    "start_time": "2022-12-15T13:39:02.870Z"
   },
   {
    "duration": 40,
    "start_time": "2022-12-15T13:39:02.915Z"
   },
   {
    "duration": 1230,
    "start_time": "2022-12-15T13:39:02.957Z"
   },
   {
    "duration": 0,
    "start_time": "2022-12-15T13:39:04.188Z"
   },
   {
    "duration": 1317,
    "start_time": "2022-12-15T13:39:29.732Z"
   },
   {
    "duration": 0,
    "start_time": "2022-12-15T13:39:31.050Z"
   },
   {
    "duration": 4849,
    "start_time": "2022-12-15T13:40:02.582Z"
   },
   {
    "duration": 0,
    "start_time": "2022-12-15T13:40:07.432Z"
   },
   {
    "duration": 4,
    "start_time": "2022-12-15T13:41:05.324Z"
   },
   {
    "duration": 11,
    "start_time": "2022-12-15T13:41:06.136Z"
   },
   {
    "duration": 9,
    "start_time": "2022-12-15T13:41:17.094Z"
   },
   {
    "duration": 3,
    "start_time": "2022-12-15T13:41:28.294Z"
   },
   {
    "duration": 9,
    "start_time": "2022-12-15T13:41:29.554Z"
   },
   {
    "duration": 4,
    "start_time": "2022-12-15T13:41:42.472Z"
   },
   {
    "duration": 3,
    "start_time": "2022-12-15T13:41:58.057Z"
   },
   {
    "duration": 10,
    "start_time": "2022-12-15T13:41:58.803Z"
   },
   {
    "duration": 20,
    "start_time": "2022-12-15T13:42:36.323Z"
   },
   {
    "duration": 11,
    "start_time": "2022-12-15T13:42:37.760Z"
   },
   {
    "duration": 76,
    "start_time": "2022-12-15T13:43:42.123Z"
   },
   {
    "duration": 21,
    "start_time": "2022-12-15T13:43:46.343Z"
   },
   {
    "duration": 21,
    "start_time": "2022-12-15T13:43:50.225Z"
   },
   {
    "duration": 30,
    "start_time": "2022-12-15T13:44:13.714Z"
   },
   {
    "duration": 21,
    "start_time": "2022-12-15T13:44:18.878Z"
   },
   {
    "duration": 5,
    "start_time": "2022-12-15T13:45:45.470Z"
   },
   {
    "duration": 10,
    "start_time": "2022-12-15T13:45:46.165Z"
   },
   {
    "duration": 2,
    "start_time": "2022-12-15T13:49:29.920Z"
   },
   {
    "duration": 48,
    "start_time": "2022-12-15T13:49:30.337Z"
   },
   {
    "duration": 19,
    "start_time": "2022-12-15T13:49:30.645Z"
   },
   {
    "duration": 15,
    "start_time": "2022-12-15T13:49:30.938Z"
   },
   {
    "duration": 3,
    "start_time": "2022-12-15T13:49:31.121Z"
   },
   {
    "duration": 11,
    "start_time": "2022-12-15T13:49:31.244Z"
   },
   {
    "duration": 13,
    "start_time": "2022-12-15T13:49:31.413Z"
   },
   {
    "duration": 8,
    "start_time": "2022-12-15T13:49:31.558Z"
   },
   {
    "duration": 5,
    "start_time": "2022-12-15T13:49:31.706Z"
   },
   {
    "duration": 21,
    "start_time": "2022-12-15T13:49:31.867Z"
   },
   {
    "duration": 8,
    "start_time": "2022-12-15T13:49:32.018Z"
   },
   {
    "duration": 8,
    "start_time": "2022-12-15T13:49:32.181Z"
   },
   {
    "duration": 5,
    "start_time": "2022-12-15T13:49:32.532Z"
   },
   {
    "duration": 10,
    "start_time": "2022-12-15T13:49:32.705Z"
   },
   {
    "duration": 318,
    "start_time": "2022-12-15T13:49:33.357Z"
   },
   {
    "duration": 405,
    "start_time": "2022-12-15T13:49:34.257Z"
   },
   {
    "duration": 6,
    "start_time": "2022-12-15T13:49:34.687Z"
   },
   {
    "duration": 1804,
    "start_time": "2022-12-15T13:49:35.108Z"
   },
   {
    "duration": 204,
    "start_time": "2022-12-15T13:49:36.914Z"
   },
   {
    "duration": 10,
    "start_time": "2022-12-15T13:50:39.230Z"
   },
   {
    "duration": 8,
    "start_time": "2022-12-15T13:50:44.860Z"
   },
   {
    "duration": 1792,
    "start_time": "2022-12-15T13:50:53.509Z"
   },
   {
    "duration": 11,
    "start_time": "2022-12-15T13:50:57.322Z"
   },
   {
    "duration": 8,
    "start_time": "2022-12-15T13:51:04.406Z"
   },
   {
    "duration": 9,
    "start_time": "2022-12-15T13:51:08.767Z"
   },
   {
    "duration": 21,
    "start_time": "2022-12-15T13:52:10.112Z"
   },
   {
    "duration": 25,
    "start_time": "2022-12-15T13:52:31.741Z"
   },
   {
    "duration": 69,
    "start_time": "2022-12-15T13:53:34.442Z"
   },
   {
    "duration": 11,
    "start_time": "2022-12-15T13:53:41.472Z"
   },
   {
    "duration": 11,
    "start_time": "2022-12-15T13:53:51.520Z"
   },
   {
    "duration": 87,
    "start_time": "2022-12-15T13:54:03.453Z"
   },
   {
    "duration": 26,
    "start_time": "2022-12-15T13:54:07.062Z"
   },
   {
    "duration": 29,
    "start_time": "2022-12-15T13:54:17.819Z"
   },
   {
    "duration": 13,
    "start_time": "2022-12-15T13:54:42.117Z"
   },
   {
    "duration": 11,
    "start_time": "2022-12-15T13:54:50.990Z"
   },
   {
    "duration": 16,
    "start_time": "2022-12-15T13:54:55.349Z"
   },
   {
    "duration": 11,
    "start_time": "2022-12-15T13:59:59.864Z"
   },
   {
    "duration": 12,
    "start_time": "2022-12-15T14:00:08.992Z"
   },
   {
    "duration": 169,
    "start_time": "2022-12-15T14:00:32.732Z"
   },
   {
    "duration": 3,
    "start_time": "2022-12-15T14:00:32.903Z"
   },
   {
    "duration": 1448,
    "start_time": "2022-12-15T14:00:33.032Z"
   },
   {
    "duration": 6,
    "start_time": "2022-12-15T14:00:34.482Z"
   },
   {
    "duration": 22,
    "start_time": "2022-12-15T14:00:34.489Z"
   },
   {
    "duration": 30,
    "start_time": "2022-12-15T14:00:34.513Z"
   },
   {
    "duration": 31,
    "start_time": "2022-12-15T14:00:34.545Z"
   },
   {
    "duration": 31,
    "start_time": "2022-12-15T14:00:34.578Z"
   },
   {
    "duration": 18,
    "start_time": "2022-12-15T14:00:34.611Z"
   },
   {
    "duration": 33,
    "start_time": "2022-12-15T14:00:34.630Z"
   },
   {
    "duration": 5,
    "start_time": "2022-12-15T14:03:26.403Z"
   },
   {
    "duration": 4,
    "start_time": "2022-12-15T14:03:28.414Z"
   },
   {
    "duration": 10,
    "start_time": "2022-12-15T14:03:28.920Z"
   },
   {
    "duration": 387,
    "start_time": "2022-12-15T14:03:46.065Z"
   },
   {
    "duration": 10,
    "start_time": "2022-12-15T14:04:03.532Z"
   },
   {
    "duration": 149,
    "start_time": "2022-12-15T14:22:47.206Z"
   },
   {
    "duration": 160,
    "start_time": "2022-12-15T14:23:14.570Z"
   },
   {
    "duration": 185,
    "start_time": "2022-12-15T14:23:23.534Z"
   },
   {
    "duration": 165,
    "start_time": "2022-12-15T14:24:13.920Z"
   },
   {
    "duration": 23,
    "start_time": "2022-12-15T14:42:20.028Z"
   },
   {
    "duration": 10,
    "start_time": "2022-12-15T14:42:40.604Z"
   },
   {
    "duration": 1350,
    "start_time": "2022-12-16T09:07:35.413Z"
   },
   {
    "duration": 129,
    "start_time": "2022-12-16T09:07:36.765Z"
   },
   {
    "duration": 31,
    "start_time": "2022-12-16T09:07:36.895Z"
   },
   {
    "duration": 13,
    "start_time": "2022-12-16T09:07:36.928Z"
   },
   {
    "duration": 3,
    "start_time": "2022-12-16T09:07:36.943Z"
   },
   {
    "duration": 10,
    "start_time": "2022-12-16T09:07:36.948Z"
   },
   {
    "duration": 37,
    "start_time": "2022-12-16T09:07:36.959Z"
   },
   {
    "duration": 9,
    "start_time": "2022-12-16T09:07:37.001Z"
   },
   {
    "duration": 5,
    "start_time": "2022-12-16T09:07:37.153Z"
   },
   {
    "duration": 20,
    "start_time": "2022-12-16T09:07:37.326Z"
   },
   {
    "duration": 8,
    "start_time": "2022-12-16T09:07:37.610Z"
   },
   {
    "duration": 8,
    "start_time": "2022-12-16T09:07:37.668Z"
   },
   {
    "duration": 5,
    "start_time": "2022-12-16T09:07:37.828Z"
   },
   {
    "duration": 8,
    "start_time": "2022-12-16T09:07:38.014Z"
   },
   {
    "duration": 356,
    "start_time": "2022-12-16T09:07:38.694Z"
   },
   {
    "duration": 285,
    "start_time": "2022-12-16T09:07:39.065Z"
   },
   {
    "duration": 5,
    "start_time": "2022-12-16T09:07:39.352Z"
   },
   {
    "duration": 1902,
    "start_time": "2022-12-16T09:07:39.425Z"
   },
   {
    "duration": 10,
    "start_time": "2022-12-16T09:07:41.329Z"
   },
   {
    "duration": 194,
    "start_time": "2022-12-16T09:07:41.340Z"
   },
   {
    "duration": 4,
    "start_time": "2022-12-16T09:07:41.536Z"
   },
   {
    "duration": 1522,
    "start_time": "2022-12-16T09:07:41.541Z"
   },
   {
    "duration": 6,
    "start_time": "2022-12-16T09:07:43.065Z"
   },
   {
    "duration": 8,
    "start_time": "2022-12-16T09:07:43.072Z"
   },
   {
    "duration": 30,
    "start_time": "2022-12-16T09:07:43.081Z"
   },
   {
    "duration": 8,
    "start_time": "2022-12-16T09:07:43.114Z"
   },
   {
    "duration": 7,
    "start_time": "2022-12-16T09:07:43.124Z"
   },
   {
    "duration": 7,
    "start_time": "2022-12-16T09:07:43.132Z"
   },
   {
    "duration": 174,
    "start_time": "2022-12-16T09:07:43.140Z"
   },
   {
    "duration": 13,
    "start_time": "2022-12-16T09:07:43.316Z"
   },
   {
    "duration": 10,
    "start_time": "2022-12-16T09:09:39.625Z"
   },
   {
    "duration": 7,
    "start_time": "2022-12-16T09:09:54.390Z"
   },
   {
    "duration": 11,
    "start_time": "2022-12-16T09:11:05.927Z"
   },
   {
    "duration": 8,
    "start_time": "2022-12-16T09:11:10.091Z"
   },
   {
    "duration": 99,
    "start_time": "2022-12-16T09:11:26.385Z"
   },
   {
    "duration": 8,
    "start_time": "2022-12-16T09:11:40.433Z"
   },
   {
    "duration": 9,
    "start_time": "2022-12-16T09:12:29.117Z"
   },
   {
    "duration": 6,
    "start_time": "2022-12-16T09:12:51.276Z"
   },
   {
    "duration": 5,
    "start_time": "2022-12-16T09:12:53.822Z"
   },
   {
    "duration": 7,
    "start_time": "2022-12-16T09:13:00.714Z"
   },
   {
    "duration": 12,
    "start_time": "2022-12-16T09:13:56.878Z"
   },
   {
    "duration": 8,
    "start_time": "2022-12-16T09:14:01.436Z"
   },
   {
    "duration": 12,
    "start_time": "2022-12-16T09:14:47.581Z"
   },
   {
    "duration": 3,
    "start_time": "2022-12-16T09:14:53.215Z"
   },
   {
    "duration": 3,
    "start_time": "2022-12-16T09:15:04.012Z"
   },
   {
    "duration": 6,
    "start_time": "2022-12-16T09:15:25.742Z"
   },
   {
    "duration": 9,
    "start_time": "2022-12-16T09:15:30.100Z"
   },
   {
    "duration": 3,
    "start_time": "2022-12-16T09:15:36.424Z"
   },
   {
    "duration": 49,
    "start_time": "2022-12-16T09:15:36.721Z"
   },
   {
    "duration": 20,
    "start_time": "2022-12-16T09:15:36.862Z"
   },
   {
    "duration": 12,
    "start_time": "2022-12-16T09:15:37.151Z"
   },
   {
    "duration": 4,
    "start_time": "2022-12-16T09:15:37.302Z"
   },
   {
    "duration": 9,
    "start_time": "2022-12-16T09:15:37.439Z"
   },
   {
    "duration": 14,
    "start_time": "2022-12-16T09:15:37.594Z"
   },
   {
    "duration": 7,
    "start_time": "2022-12-16T09:15:37.744Z"
   },
   {
    "duration": 4,
    "start_time": "2022-12-16T09:15:38.026Z"
   },
   {
    "duration": 22,
    "start_time": "2022-12-16T09:15:38.187Z"
   },
   {
    "duration": 8,
    "start_time": "2022-12-16T09:15:38.322Z"
   },
   {
    "duration": 8,
    "start_time": "2022-12-16T09:15:38.476Z"
   },
   {
    "duration": 5,
    "start_time": "2022-12-16T09:15:38.621Z"
   },
   {
    "duration": 10,
    "start_time": "2022-12-16T09:15:38.773Z"
   },
   {
    "duration": 428,
    "start_time": "2022-12-16T09:15:39.391Z"
   },
   {
    "duration": 299,
    "start_time": "2022-12-16T09:15:39.821Z"
   },
   {
    "duration": 5,
    "start_time": "2022-12-16T09:15:40.122Z"
   },
   {
    "duration": 1768,
    "start_time": "2022-12-16T09:15:40.129Z"
   },
   {
    "duration": 11,
    "start_time": "2022-12-16T09:15:41.900Z"
   },
   {
    "duration": 179,
    "start_time": "2022-12-16T09:15:41.913Z"
   },
   {
    "duration": 3,
    "start_time": "2022-12-16T09:15:42.096Z"
   },
   {
    "duration": 1554,
    "start_time": "2022-12-16T09:15:42.101Z"
   },
   {
    "duration": 6,
    "start_time": "2022-12-16T09:15:43.657Z"
   },
   {
    "duration": 7,
    "start_time": "2022-12-16T09:15:43.664Z"
   },
   {
    "duration": 4,
    "start_time": "2022-12-16T09:15:43.673Z"
   },
   {
    "duration": 20,
    "start_time": "2022-12-16T09:15:43.678Z"
   },
   {
    "duration": 5,
    "start_time": "2022-12-16T09:15:43.699Z"
   },
   {
    "duration": 7,
    "start_time": "2022-12-16T09:15:43.705Z"
   },
   {
    "duration": 167,
    "start_time": "2022-12-16T09:15:43.714Z"
   },
   {
    "duration": 1106,
    "start_time": "2022-12-16T09:15:48.217Z"
   },
   {
    "duration": 51,
    "start_time": "2022-12-16T09:15:49.325Z"
   },
   {
    "duration": 25,
    "start_time": "2022-12-16T09:15:49.378Z"
   },
   {
    "duration": 17,
    "start_time": "2022-12-16T09:15:49.405Z"
   },
   {
    "duration": 4,
    "start_time": "2022-12-16T09:15:49.423Z"
   },
   {
    "duration": 11,
    "start_time": "2022-12-16T09:15:49.458Z"
   },
   {
    "duration": 14,
    "start_time": "2022-12-16T09:15:49.601Z"
   },
   {
    "duration": 8,
    "start_time": "2022-12-16T09:15:49.789Z"
   },
   {
    "duration": 5,
    "start_time": "2022-12-16T09:15:49.969Z"
   },
   {
    "duration": 23,
    "start_time": "2022-12-16T09:15:50.147Z"
   },
   {
    "duration": 10,
    "start_time": "2022-12-16T09:15:50.324Z"
   },
   {
    "duration": 8,
    "start_time": "2022-12-16T09:15:50.485Z"
   },
   {
    "duration": 5,
    "start_time": "2022-12-16T09:15:50.646Z"
   },
   {
    "duration": 11,
    "start_time": "2022-12-16T09:15:50.812Z"
   },
   {
    "duration": 358,
    "start_time": "2022-12-16T09:15:51.673Z"
   },
   {
    "duration": 287,
    "start_time": "2022-12-16T09:15:52.032Z"
   },
   {
    "duration": 5,
    "start_time": "2022-12-16T09:15:52.321Z"
   },
   {
    "duration": 1818,
    "start_time": "2022-12-16T09:15:52.404Z"
   },
   {
    "duration": 10,
    "start_time": "2022-12-16T09:15:54.224Z"
   },
   {
    "duration": 189,
    "start_time": "2022-12-16T09:15:54.235Z"
   },
   {
    "duration": 4,
    "start_time": "2022-12-16T09:15:54.426Z"
   },
   {
    "duration": 1480,
    "start_time": "2022-12-16T09:15:54.432Z"
   },
   {
    "duration": 7,
    "start_time": "2022-12-16T09:15:55.914Z"
   },
   {
    "duration": 11,
    "start_time": "2022-12-16T09:15:55.922Z"
   },
   {
    "duration": 5,
    "start_time": "2022-12-16T09:15:55.936Z"
   },
   {
    "duration": 28,
    "start_time": "2022-12-16T09:15:55.942Z"
   },
   {
    "duration": 8,
    "start_time": "2022-12-16T09:15:55.971Z"
   },
   {
    "duration": 5,
    "start_time": "2022-12-16T09:15:55.981Z"
   },
   {
    "duration": 184,
    "start_time": "2022-12-16T09:15:55.988Z"
   },
   {
    "duration": 9,
    "start_time": "2022-12-16T09:15:56.346Z"
   },
   {
    "duration": 4,
    "start_time": "2022-12-16T09:15:56.819Z"
   },
   {
    "duration": 9,
    "start_time": "2022-12-16T09:15:57.012Z"
   },
   {
    "duration": 4,
    "start_time": "2022-12-16T09:15:57.211Z"
   },
   {
    "duration": 6,
    "start_time": "2022-12-16T09:15:57.374Z"
   },
   {
    "duration": 8,
    "start_time": "2022-12-16T09:15:57.570Z"
   },
   {
    "duration": 8,
    "start_time": "2022-12-16T09:16:01.711Z"
   },
   {
    "duration": 5,
    "start_time": "2022-12-16T09:16:04.549Z"
   },
   {
    "duration": 10,
    "start_time": "2022-12-16T09:16:05.117Z"
   },
   {
    "duration": 6,
    "start_time": "2022-12-16T09:16:20.491Z"
   },
   {
    "duration": 8,
    "start_time": "2022-12-16T09:16:21.049Z"
   },
   {
    "duration": 98,
    "start_time": "2022-12-16T09:16:45.205Z"
   },
   {
    "duration": 11,
    "start_time": "2022-12-16T09:17:22.465Z"
   },
   {
    "duration": 4,
    "start_time": "2022-12-16T09:17:54.178Z"
   },
   {
    "duration": 9,
    "start_time": "2022-12-16T09:17:54.602Z"
   },
   {
    "duration": 3,
    "start_time": "2022-12-16T09:17:54.982Z"
   },
   {
    "duration": 8,
    "start_time": "2022-12-16T09:18:11.136Z"
   },
   {
    "duration": 7,
    "start_time": "2022-12-16T09:18:18.355Z"
   },
   {
    "duration": 5,
    "start_time": "2022-12-16T09:22:45.046Z"
   },
   {
    "duration": 12,
    "start_time": "2022-12-16T09:22:50.872Z"
   },
   {
    "duration": 4,
    "start_time": "2022-12-16T09:24:13.053Z"
   },
   {
    "duration": 12,
    "start_time": "2022-12-16T09:24:13.488Z"
   },
   {
    "duration": 5,
    "start_time": "2022-12-16T09:25:07.914Z"
   },
   {
    "duration": 12,
    "start_time": "2022-12-16T09:25:08.540Z"
   },
   {
    "duration": 1069,
    "start_time": "2022-12-16T09:26:51.436Z"
   },
   {
    "duration": 49,
    "start_time": "2022-12-16T09:26:52.506Z"
   },
   {
    "duration": 22,
    "start_time": "2022-12-16T09:26:52.557Z"
   },
   {
    "duration": 14,
    "start_time": "2022-12-16T09:26:52.619Z"
   },
   {
    "duration": 3,
    "start_time": "2022-12-16T09:26:52.757Z"
   },
   {
    "duration": 8,
    "start_time": "2022-12-16T09:26:52.908Z"
   },
   {
    "duration": 15,
    "start_time": "2022-12-16T09:26:53.060Z"
   },
   {
    "duration": 9,
    "start_time": "2022-12-16T09:26:53.227Z"
   },
   {
    "duration": 5,
    "start_time": "2022-12-16T09:26:53.401Z"
   },
   {
    "duration": 24,
    "start_time": "2022-12-16T09:26:53.557Z"
   },
   {
    "duration": 10,
    "start_time": "2022-12-16T09:26:53.729Z"
   },
   {
    "duration": 8,
    "start_time": "2022-12-16T09:26:53.892Z"
   },
   {
    "duration": 5,
    "start_time": "2022-12-16T09:26:54.048Z"
   },
   {
    "duration": 8,
    "start_time": "2022-12-16T09:26:54.207Z"
   },
   {
    "duration": 341,
    "start_time": "2022-12-16T09:26:54.914Z"
   },
   {
    "duration": 272,
    "start_time": "2022-12-16T09:26:55.287Z"
   },
   {
    "duration": 4,
    "start_time": "2022-12-16T09:26:55.561Z"
   },
   {
    "duration": 1883,
    "start_time": "2022-12-16T09:26:55.653Z"
   },
   {
    "duration": 10,
    "start_time": "2022-12-16T09:26:57.538Z"
   },
   {
    "duration": 183,
    "start_time": "2022-12-16T09:26:57.549Z"
   },
   {
    "duration": 3,
    "start_time": "2022-12-16T09:26:57.734Z"
   },
   {
    "duration": 1477,
    "start_time": "2022-12-16T09:26:57.739Z"
   },
   {
    "duration": 6,
    "start_time": "2022-12-16T09:26:59.217Z"
   },
   {
    "duration": 12,
    "start_time": "2022-12-16T09:26:59.225Z"
   },
   {
    "duration": 6,
    "start_time": "2022-12-16T09:26:59.238Z"
   },
   {
    "duration": 7,
    "start_time": "2022-12-16T09:26:59.246Z"
   },
   {
    "duration": 8,
    "start_time": "2022-12-16T09:26:59.254Z"
   },
   {
    "duration": 4,
    "start_time": "2022-12-16T09:27:01.049Z"
   },
   {
    "duration": 166,
    "start_time": "2022-12-16T09:27:01.199Z"
   },
   {
    "duration": 9,
    "start_time": "2022-12-16T09:27:01.367Z"
   },
   {
    "duration": 4,
    "start_time": "2022-12-16T09:27:01.521Z"
   },
   {
    "duration": 9,
    "start_time": "2022-12-16T09:27:01.693Z"
   },
   {
    "duration": 3,
    "start_time": "2022-12-16T09:27:01.845Z"
   },
   {
    "duration": 7,
    "start_time": "2022-12-16T09:27:02.011Z"
   },
   {
    "duration": 7,
    "start_time": "2022-12-16T09:27:02.172Z"
   },
   {
    "duration": 6,
    "start_time": "2022-12-16T09:27:02.338Z"
   },
   {
    "duration": 12,
    "start_time": "2022-12-16T09:27:02.501Z"
   },
   {
    "duration": 4,
    "start_time": "2022-12-16T09:27:20.493Z"
   },
   {
    "duration": 10,
    "start_time": "2022-12-16T09:27:20.871Z"
   },
   {
    "duration": 3,
    "start_time": "2022-12-16T09:27:21.401Z"
   },
   {
    "duration": 8,
    "start_time": "2022-12-16T09:27:21.816Z"
   },
   {
    "duration": 8,
    "start_time": "2022-12-16T09:27:22.497Z"
   },
   {
    "duration": 4,
    "start_time": "2022-12-16T09:27:22.979Z"
   },
   {
    "duration": 11,
    "start_time": "2022-12-16T09:27:23.619Z"
   },
   {
    "duration": 4,
    "start_time": "2022-12-16T09:31:04.966Z"
   },
   {
    "duration": 5,
    "start_time": "2022-12-16T09:31:07.417Z"
   },
   {
    "duration": 12,
    "start_time": "2022-12-16T09:31:08.325Z"
   },
   {
    "duration": 8,
    "start_time": "2022-12-16T09:31:24.417Z"
   },
   {
    "duration": 11,
    "start_time": "2022-12-16T09:31:42.065Z"
   },
   {
    "duration": 4,
    "start_time": "2022-12-16T09:31:50.934Z"
   },
   {
    "duration": 12,
    "start_time": "2022-12-16T09:31:52.389Z"
   },
   {
    "duration": 11,
    "start_time": "2022-12-16T09:32:09.670Z"
   },
   {
    "duration": 12,
    "start_time": "2022-12-16T09:33:16.357Z"
   },
   {
    "duration": 4,
    "start_time": "2022-12-16T09:33:17.034Z"
   },
   {
    "duration": 13,
    "start_time": "2022-12-16T09:33:18.098Z"
   },
   {
    "duration": 9,
    "start_time": "2022-12-16T09:33:22.034Z"
   },
   {
    "duration": 1127,
    "start_time": "2022-12-16T09:34:01.928Z"
   },
   {
    "duration": 51,
    "start_time": "2022-12-16T09:34:03.057Z"
   },
   {
    "duration": 25,
    "start_time": "2022-12-16T09:34:03.110Z"
   },
   {
    "duration": 14,
    "start_time": "2022-12-16T09:34:03.137Z"
   },
   {
    "duration": 3,
    "start_time": "2022-12-16T09:34:03.153Z"
   },
   {
    "duration": 16,
    "start_time": "2022-12-16T09:34:03.157Z"
   },
   {
    "duration": 32,
    "start_time": "2022-12-16T09:34:03.175Z"
   },
   {
    "duration": 8,
    "start_time": "2022-12-16T09:34:03.273Z"
   },
   {
    "duration": 6,
    "start_time": "2022-12-16T09:34:03.603Z"
   },
   {
    "duration": 24,
    "start_time": "2022-12-16T09:34:03.762Z"
   },
   {
    "duration": 9,
    "start_time": "2022-12-16T09:34:03.921Z"
   },
   {
    "duration": 8,
    "start_time": "2022-12-16T09:34:04.090Z"
   },
   {
    "duration": 4,
    "start_time": "2022-12-16T09:34:04.276Z"
   },
   {
    "duration": 8,
    "start_time": "2022-12-16T09:34:04.435Z"
   },
   {
    "duration": 332,
    "start_time": "2022-12-16T09:34:05.238Z"
   },
   {
    "duration": 285,
    "start_time": "2022-12-16T09:34:05.593Z"
   },
   {
    "duration": 5,
    "start_time": "2022-12-16T09:34:05.880Z"
   },
   {
    "duration": 1929,
    "start_time": "2022-12-16T09:34:05.970Z"
   },
   {
    "duration": 11,
    "start_time": "2022-12-16T09:34:07.902Z"
   },
   {
    "duration": 189,
    "start_time": "2022-12-16T09:34:07.914Z"
   },
   {
    "duration": 3,
    "start_time": "2022-12-16T09:34:08.105Z"
   },
   {
    "duration": 1520,
    "start_time": "2022-12-16T09:34:08.110Z"
   },
   {
    "duration": 7,
    "start_time": "2022-12-16T09:34:09.632Z"
   },
   {
    "duration": 8,
    "start_time": "2022-12-16T09:34:09.641Z"
   },
   {
    "duration": 5,
    "start_time": "2022-12-16T09:34:09.652Z"
   },
   {
    "duration": 9,
    "start_time": "2022-12-16T09:34:09.658Z"
   },
   {
    "duration": 28,
    "start_time": "2022-12-16T09:34:09.668Z"
   },
   {
    "duration": 4,
    "start_time": "2022-12-16T09:34:09.698Z"
   },
   {
    "duration": 162,
    "start_time": "2022-12-16T09:34:10.089Z"
   },
   {
    "duration": 11,
    "start_time": "2022-12-16T09:34:10.857Z"
   },
   {
    "duration": 4,
    "start_time": "2022-12-16T09:34:11.242Z"
   },
   {
    "duration": 11,
    "start_time": "2022-12-16T09:34:17.924Z"
   },
   {
    "duration": 3,
    "start_time": "2022-12-16T09:34:18.076Z"
   },
   {
    "duration": 10,
    "start_time": "2022-12-16T09:34:18.231Z"
   },
   {
    "duration": 9,
    "start_time": "2022-12-16T09:34:18.429Z"
   },
   {
    "duration": 4,
    "start_time": "2022-12-16T09:34:18.908Z"
   },
   {
    "duration": 14,
    "start_time": "2022-12-16T09:34:20.254Z"
   },
   {
    "duration": 1094,
    "start_time": "2022-12-16T09:34:48.605Z"
   },
   {
    "duration": 50,
    "start_time": "2022-12-16T09:34:49.700Z"
   },
   {
    "duration": 23,
    "start_time": "2022-12-16T09:34:49.752Z"
   },
   {
    "duration": 13,
    "start_time": "2022-12-16T09:34:49.777Z"
   },
   {
    "duration": 5,
    "start_time": "2022-12-16T09:34:49.791Z"
   },
   {
    "duration": 13,
    "start_time": "2022-12-16T09:34:49.798Z"
   },
   {
    "duration": 15,
    "start_time": "2022-12-16T09:34:49.856Z"
   },
   {
    "duration": 9,
    "start_time": "2022-12-16T09:34:50.009Z"
   },
   {
    "duration": 6,
    "start_time": "2022-12-16T09:34:50.181Z"
   },
   {
    "duration": 23,
    "start_time": "2022-12-16T09:34:50.349Z"
   },
   {
    "duration": 8,
    "start_time": "2022-12-16T09:34:50.660Z"
   },
   {
    "duration": 9,
    "start_time": "2022-12-16T09:34:50.835Z"
   },
   {
    "duration": 4,
    "start_time": "2022-12-16T09:34:51.026Z"
   },
   {
    "duration": 8,
    "start_time": "2022-12-16T09:34:51.208Z"
   },
   {
    "duration": 346,
    "start_time": "2022-12-16T09:34:51.959Z"
   },
   {
    "duration": 275,
    "start_time": "2022-12-16T09:34:52.368Z"
   },
   {
    "duration": 5,
    "start_time": "2022-12-16T09:34:52.645Z"
   },
   {
    "duration": 1870,
    "start_time": "2022-12-16T09:34:53.534Z"
   },
   {
    "duration": 9,
    "start_time": "2022-12-16T09:34:55.406Z"
   },
   {
    "duration": 169,
    "start_time": "2022-12-16T09:34:55.416Z"
   },
   {
    "duration": 10,
    "start_time": "2022-12-16T09:34:55.587Z"
   },
   {
    "duration": 1513,
    "start_time": "2022-12-16T09:34:55.599Z"
   },
   {
    "duration": 8,
    "start_time": "2022-12-16T09:34:57.114Z"
   },
   {
    "duration": 8,
    "start_time": "2022-12-16T09:34:57.394Z"
   },
   {
    "duration": 5,
    "start_time": "2022-12-16T09:34:58.238Z"
   },
   {
    "duration": 8,
    "start_time": "2022-12-16T09:34:58.693Z"
   },
   {
    "duration": 5,
    "start_time": "2022-12-16T09:34:59.127Z"
   },
   {
    "duration": 4,
    "start_time": "2022-12-16T09:34:59.512Z"
   },
   {
    "duration": 156,
    "start_time": "2022-12-16T09:34:59.834Z"
   },
   {
    "duration": 11,
    "start_time": "2022-12-16T09:35:00.308Z"
   },
   {
    "duration": 4,
    "start_time": "2022-12-16T09:35:00.746Z"
   },
   {
    "duration": 9,
    "start_time": "2022-12-16T09:35:01.115Z"
   },
   {
    "duration": 3112,
    "start_time": "2022-12-16T09:35:01.529Z"
   },
   {
    "duration": 0,
    "start_time": "2022-12-16T09:35:04.643Z"
   },
   {
    "duration": 0,
    "start_time": "2022-12-16T09:35:04.644Z"
   },
   {
    "duration": 5,
    "start_time": "2022-12-16T09:35:19.994Z"
   },
   {
    "duration": 11,
    "start_time": "2022-12-16T09:35:21.050Z"
   },
   {
    "duration": 8,
    "start_time": "2022-12-16T09:35:24.876Z"
   },
   {
    "duration": 7,
    "start_time": "2022-12-16T09:35:27.046Z"
   },
   {
    "duration": 5,
    "start_time": "2022-12-16T09:35:31.987Z"
   },
   {
    "duration": 12,
    "start_time": "2022-12-16T09:35:32.650Z"
   },
   {
    "duration": 5,
    "start_time": "2022-12-16T09:35:49.406Z"
   },
   {
    "duration": 7,
    "start_time": "2022-12-16T09:35:52.431Z"
   },
   {
    "duration": 8,
    "start_time": "2022-12-16T09:35:53.088Z"
   },
   {
    "duration": 6,
    "start_time": "2022-12-16T09:36:11.545Z"
   },
   {
    "duration": 8,
    "start_time": "2022-12-16T09:36:12.034Z"
   },
   {
    "duration": 8,
    "start_time": "2022-12-16T09:36:12.508Z"
   },
   {
    "duration": 11,
    "start_time": "2022-12-16T09:36:28.033Z"
   },
   {
    "duration": 8,
    "start_time": "2022-12-16T09:36:28.506Z"
   },
   {
    "duration": 12,
    "start_time": "2022-12-16T09:36:33.795Z"
   },
   {
    "duration": 7,
    "start_time": "2022-12-16T09:36:34.380Z"
   },
   {
    "duration": 7,
    "start_time": "2022-12-16T09:36:35.229Z"
   },
   {
    "duration": 3,
    "start_time": "2022-12-16T09:36:45.668Z"
   },
   {
    "duration": 10,
    "start_time": "2022-12-16T09:36:45.884Z"
   },
   {
    "duration": 7,
    "start_time": "2022-12-16T09:36:46.073Z"
   },
   {
    "duration": 8,
    "start_time": "2022-12-16T09:36:46.245Z"
   },
   {
    "duration": 6,
    "start_time": "2022-12-16T09:37:01.705Z"
   },
   {
    "duration": 7,
    "start_time": "2022-12-16T09:37:02.305Z"
   },
   {
    "duration": 10,
    "start_time": "2022-12-16T09:37:02.778Z"
   },
   {
    "duration": 4,
    "start_time": "2022-12-16T09:37:03.636Z"
   },
   {
    "duration": 12,
    "start_time": "2022-12-16T09:37:04.910Z"
   },
   {
    "duration": 59,
    "start_time": "2022-12-16T09:39:01.255Z"
   },
   {
    "duration": 71,
    "start_time": "2022-12-16T09:39:12.335Z"
   },
   {
    "duration": 17,
    "start_time": "2022-12-16T09:39:23.432Z"
   },
   {
    "duration": 12,
    "start_time": "2022-12-16T09:39:36.710Z"
   },
   {
    "duration": 31,
    "start_time": "2022-12-16T09:40:22.052Z"
   },
   {
    "duration": 42,
    "start_time": "2022-12-16T09:40:51.534Z"
   },
   {
    "duration": 49,
    "start_time": "2022-12-16T09:41:00.716Z"
   },
   {
    "duration": 16,
    "start_time": "2022-12-16T09:41:13.333Z"
   },
   {
    "duration": 12,
    "start_time": "2022-12-16T09:44:25.990Z"
   },
   {
    "duration": 7,
    "start_time": "2022-12-16T09:44:30.112Z"
   },
   {
    "duration": 10,
    "start_time": "2022-12-16T09:45:13.198Z"
   },
   {
    "duration": 12,
    "start_time": "2022-12-16T09:45:19.574Z"
   },
   {
    "duration": 1115,
    "start_time": "2022-12-16T09:45:28.270Z"
   },
   {
    "duration": 49,
    "start_time": "2022-12-16T09:45:29.387Z"
   },
   {
    "duration": 23,
    "start_time": "2022-12-16T09:45:29.438Z"
   },
   {
    "duration": 14,
    "start_time": "2022-12-16T09:45:29.463Z"
   },
   {
    "duration": 7,
    "start_time": "2022-12-16T09:45:29.478Z"
   },
   {
    "duration": 10,
    "start_time": "2022-12-16T09:45:29.565Z"
   },
   {
    "duration": 13,
    "start_time": "2022-12-16T09:45:29.718Z"
   },
   {
    "duration": 10,
    "start_time": "2022-12-16T09:45:29.893Z"
   },
   {
    "duration": 5,
    "start_time": "2022-12-16T09:45:30.070Z"
   },
   {
    "duration": 24,
    "start_time": "2022-12-16T09:45:30.254Z"
   },
   {
    "duration": 8,
    "start_time": "2022-12-16T09:45:30.429Z"
   },
   {
    "duration": 8,
    "start_time": "2022-12-16T09:45:30.622Z"
   },
   {
    "duration": 4,
    "start_time": "2022-12-16T09:45:30.791Z"
   },
   {
    "duration": 8,
    "start_time": "2022-12-16T09:45:30.998Z"
   },
   {
    "duration": 366,
    "start_time": "2022-12-16T09:45:31.693Z"
   },
   {
    "duration": 277,
    "start_time": "2022-12-16T09:45:32.697Z"
   },
   {
    "duration": 4,
    "start_time": "2022-12-16T09:45:32.976Z"
   },
   {
    "duration": 1859,
    "start_time": "2022-12-16T09:45:32.981Z"
   },
   {
    "duration": 11,
    "start_time": "2022-12-16T09:45:34.841Z"
   },
   {
    "duration": 185,
    "start_time": "2022-12-16T09:45:34.854Z"
   },
   {
    "duration": 4,
    "start_time": "2022-12-16T09:45:35.040Z"
   },
   {
    "duration": 1561,
    "start_time": "2022-12-16T09:45:35.046Z"
   },
   {
    "duration": 12,
    "start_time": "2022-12-16T09:45:36.609Z"
   },
   {
    "duration": 13,
    "start_time": "2022-12-16T09:45:36.624Z"
   },
   {
    "duration": 9,
    "start_time": "2022-12-16T09:45:36.639Z"
   },
   {
    "duration": 11,
    "start_time": "2022-12-16T09:45:36.650Z"
   },
   {
    "duration": 6,
    "start_time": "2022-12-16T09:45:36.663Z"
   },
   {
    "duration": 7,
    "start_time": "2022-12-16T09:45:36.670Z"
   },
   {
    "duration": 164,
    "start_time": "2022-12-16T09:45:36.678Z"
   },
   {
    "duration": 9,
    "start_time": "2022-12-16T09:45:36.844Z"
   },
   {
    "duration": 12,
    "start_time": "2022-12-16T09:45:36.886Z"
   },
   {
    "duration": 11,
    "start_time": "2022-12-16T09:45:38.312Z"
   },
   {
    "duration": 7,
    "start_time": "2022-12-16T09:47:43.410Z"
   },
   {
    "duration": 13,
    "start_time": "2022-12-16T09:47:44.325Z"
   },
   {
    "duration": 5,
    "start_time": "2022-12-16T09:47:46.727Z"
   },
   {
    "duration": 11,
    "start_time": "2022-12-16T09:47:47.129Z"
   },
   {
    "duration": 1122,
    "start_time": "2022-12-16T09:47:53.977Z"
   },
   {
    "duration": 54,
    "start_time": "2022-12-16T09:47:55.101Z"
   },
   {
    "duration": 27,
    "start_time": "2022-12-16T09:47:55.157Z"
   },
   {
    "duration": 17,
    "start_time": "2022-12-16T09:47:55.186Z"
   },
   {
    "duration": 4,
    "start_time": "2022-12-16T09:47:55.205Z"
   },
   {
    "duration": 14,
    "start_time": "2022-12-16T09:47:55.210Z"
   },
   {
    "duration": 14,
    "start_time": "2022-12-16T09:47:55.346Z"
   },
   {
    "duration": 8,
    "start_time": "2022-12-16T09:47:55.522Z"
   },
   {
    "duration": 5,
    "start_time": "2022-12-16T09:47:55.691Z"
   },
   {
    "duration": 20,
    "start_time": "2022-12-16T09:47:55.861Z"
   },
   {
    "duration": 9,
    "start_time": "2022-12-16T09:47:56.028Z"
   },
   {
    "duration": 8,
    "start_time": "2022-12-16T09:47:56.381Z"
   },
   {
    "duration": 5,
    "start_time": "2022-12-16T09:47:56.550Z"
   },
   {
    "duration": 10,
    "start_time": "2022-12-16T09:47:56.741Z"
   },
   {
    "duration": 330,
    "start_time": "2022-12-16T09:47:57.574Z"
   },
   {
    "duration": 293,
    "start_time": "2022-12-16T09:47:57.915Z"
   },
   {
    "duration": 7,
    "start_time": "2022-12-16T09:47:58.210Z"
   },
   {
    "duration": 1891,
    "start_time": "2022-12-16T09:47:58.237Z"
   },
   {
    "duration": 10,
    "start_time": "2022-12-16T09:48:00.130Z"
   },
   {
    "duration": 199,
    "start_time": "2022-12-16T09:48:00.141Z"
   },
   {
    "duration": 5,
    "start_time": "2022-12-16T09:48:00.342Z"
   },
   {
    "duration": 1584,
    "start_time": "2022-12-16T09:48:00.349Z"
   },
   {
    "duration": 7,
    "start_time": "2022-12-16T09:48:01.935Z"
   },
   {
    "duration": 37,
    "start_time": "2022-12-16T09:48:01.943Z"
   },
   {
    "duration": 21,
    "start_time": "2022-12-16T09:48:01.982Z"
   },
   {
    "duration": 21,
    "start_time": "2022-12-16T09:48:02.005Z"
   },
   {
    "duration": 9,
    "start_time": "2022-12-16T09:48:02.028Z"
   },
   {
    "duration": 4,
    "start_time": "2022-12-16T09:48:02.277Z"
   },
   {
    "duration": 159,
    "start_time": "2022-12-16T09:48:02.560Z"
   },
   {
    "duration": 6,
    "start_time": "2022-12-16T09:48:03.451Z"
   },
   {
    "duration": 12,
    "start_time": "2022-12-16T09:48:04.193Z"
   },
   {
    "duration": 6,
    "start_time": "2022-12-16T09:48:25.362Z"
   },
   {
    "duration": 12,
    "start_time": "2022-12-16T09:48:25.924Z"
   },
   {
    "duration": 5,
    "start_time": "2022-12-16T09:48:30.621Z"
   },
   {
    "duration": 6,
    "start_time": "2022-12-16T09:48:51.009Z"
   },
   {
    "duration": 5,
    "start_time": "2022-12-16T09:48:56.145Z"
   },
   {
    "duration": 4,
    "start_time": "2022-12-16T09:50:03.234Z"
   },
   {
    "duration": 5,
    "start_time": "2022-12-16T09:50:06.698Z"
   },
   {
    "duration": 4,
    "start_time": "2022-12-16T09:51:04.624Z"
   },
   {
    "duration": 5,
    "start_time": "2022-12-16T09:51:05.306Z"
   },
   {
    "duration": 4,
    "start_time": "2022-12-16T09:51:24.011Z"
   },
   {
    "duration": 4,
    "start_time": "2022-12-16T09:51:25.321Z"
   },
   {
    "duration": 4,
    "start_time": "2022-12-16T10:03:13.142Z"
   },
   {
    "duration": 5,
    "start_time": "2022-12-16T10:03:15.539Z"
   },
   {
    "duration": 4,
    "start_time": "2022-12-16T10:05:37.035Z"
   },
   {
    "duration": 5,
    "start_time": "2022-12-16T10:05:46.473Z"
   },
   {
    "duration": 3,
    "start_time": "2022-12-16T10:07:16.310Z"
   },
   {
    "duration": 5,
    "start_time": "2022-12-16T10:07:16.723Z"
   },
   {
    "duration": 4,
    "start_time": "2022-12-16T10:07:18.029Z"
   },
   {
    "duration": 5,
    "start_time": "2022-12-16T10:07:18.624Z"
   },
   {
    "duration": 139,
    "start_time": "2022-12-16T10:07:38.522Z"
   },
   {
    "duration": 260,
    "start_time": "2022-12-16T10:08:28.094Z"
   },
   {
    "duration": 5,
    "start_time": "2022-12-16T10:09:40.845Z"
   },
   {
    "duration": 3,
    "start_time": "2022-12-16T10:09:41.415Z"
   },
   {
    "duration": 138,
    "start_time": "2022-12-16T10:09:41.916Z"
   },
   {
    "duration": 215,
    "start_time": "2022-12-16T10:09:54.212Z"
   },
   {
    "duration": 3,
    "start_time": "2022-12-16T10:09:54.821Z"
   },
   {
    "duration": 139,
    "start_time": "2022-12-16T10:10:16.553Z"
   },
   {
    "duration": 164,
    "start_time": "2022-12-16T10:11:55.847Z"
   },
   {
    "duration": 12,
    "start_time": "2022-12-16T10:15:03.020Z"
   },
   {
    "duration": 109,
    "start_time": "2022-12-16T10:15:55.021Z"
   },
   {
    "duration": 12,
    "start_time": "2022-12-16T10:16:23.753Z"
   },
   {
    "duration": 105,
    "start_time": "2022-12-16T10:16:32.364Z"
   },
   {
    "duration": 119,
    "start_time": "2022-12-16T10:16:45.992Z"
   },
   {
    "duration": 92,
    "start_time": "2022-12-16T10:16:51.237Z"
   },
   {
    "duration": 118,
    "start_time": "2022-12-16T10:17:11.900Z"
   },
   {
    "duration": 309,
    "start_time": "2022-12-16T10:17:31.890Z"
   },
   {
    "duration": 214,
    "start_time": "2022-12-16T10:29:46.838Z"
   },
   {
    "duration": 237,
    "start_time": "2022-12-16T10:30:40.510Z"
   },
   {
    "duration": 113,
    "start_time": "2022-12-16T10:31:39.630Z"
   },
   {
    "duration": 207,
    "start_time": "2022-12-16T10:31:48.665Z"
   },
   {
    "duration": 208,
    "start_time": "2022-12-16T10:31:52.817Z"
   },
   {
    "duration": 12,
    "start_time": "2022-12-16T10:32:14.449Z"
   },
   {
    "duration": 307,
    "start_time": "2022-12-16T10:32:20.672Z"
   },
   {
    "duration": 220,
    "start_time": "2022-12-16T10:32:57.950Z"
   },
   {
    "duration": 228,
    "start_time": "2022-12-16T10:33:05.507Z"
   },
   {
    "duration": 11,
    "start_time": "2022-12-16T10:35:43.666Z"
   },
   {
    "duration": 3,
    "start_time": "2022-12-16T10:36:00.018Z"
   },
   {
    "duration": 47,
    "start_time": "2022-12-16T10:36:00.355Z"
   },
   {
    "duration": 21,
    "start_time": "2022-12-16T10:36:00.532Z"
   },
   {
    "duration": 13,
    "start_time": "2022-12-16T10:36:00.874Z"
   },
   {
    "duration": 3,
    "start_time": "2022-12-16T10:36:01.048Z"
   },
   {
    "duration": 10,
    "start_time": "2022-12-16T10:36:01.233Z"
   },
   {
    "duration": 15,
    "start_time": "2022-12-16T10:36:01.437Z"
   },
   {
    "duration": 7,
    "start_time": "2022-12-16T10:36:01.796Z"
   },
   {
    "duration": 5,
    "start_time": "2022-12-16T10:36:01.998Z"
   },
   {
    "duration": 23,
    "start_time": "2022-12-16T10:36:02.193Z"
   },
   {
    "duration": 8,
    "start_time": "2022-12-16T10:36:02.374Z"
   },
   {
    "duration": 8,
    "start_time": "2022-12-16T10:36:02.567Z"
   },
   {
    "duration": 5,
    "start_time": "2022-12-16T10:36:02.768Z"
   },
   {
    "duration": 10,
    "start_time": "2022-12-16T10:36:02.936Z"
   },
   {
    "duration": 335,
    "start_time": "2022-12-16T10:36:03.925Z"
   },
   {
    "duration": 272,
    "start_time": "2022-12-16T10:36:04.552Z"
   },
   {
    "duration": 5,
    "start_time": "2022-12-16T10:36:04.997Z"
   },
   {
    "duration": 1958,
    "start_time": "2022-12-16T10:36:05.438Z"
   },
   {
    "duration": 9,
    "start_time": "2022-12-16T10:36:07.398Z"
   },
   {
    "duration": 175,
    "start_time": "2022-12-16T10:36:08.117Z"
   },
   {
    "duration": 5,
    "start_time": "2022-12-16T10:36:08.721Z"
   },
   {
    "duration": 1482,
    "start_time": "2022-12-16T10:36:13.391Z"
   },
   {
    "duration": 8,
    "start_time": "2022-12-16T10:36:15.091Z"
   },
   {
    "duration": 7,
    "start_time": "2022-12-16T10:36:15.615Z"
   },
   {
    "duration": 6,
    "start_time": "2022-12-16T10:36:16.104Z"
   },
   {
    "duration": 6,
    "start_time": "2022-12-16T10:36:16.809Z"
   },
   {
    "duration": 5,
    "start_time": "2022-12-16T10:36:17.228Z"
   },
   {
    "duration": 5,
    "start_time": "2022-12-16T10:36:17.541Z"
   },
   {
    "duration": 294,
    "start_time": "2022-12-16T10:36:17.802Z"
   },
   {
    "duration": 6,
    "start_time": "2022-12-16T10:36:18.321Z"
   },
   {
    "duration": 6,
    "start_time": "2022-12-16T10:36:18.779Z"
   },
   {
    "duration": 141,
    "start_time": "2022-12-16T10:36:19.269Z"
   },
   {
    "duration": 229,
    "start_time": "2022-12-16T10:36:20.498Z"
   },
   {
    "duration": 11,
    "start_time": "2022-12-16T10:36:53.184Z"
   },
   {
    "duration": 527,
    "start_time": "2022-12-16T10:38:31.900Z"
   },
   {
    "duration": 253,
    "start_time": "2022-12-16T10:39:07.227Z"
   },
   {
    "duration": 20,
    "start_time": "2022-12-16T10:42:13.687Z"
   },
   {
    "duration": 127,
    "start_time": "2022-12-16T10:44:51.827Z"
   },
   {
    "duration": 44,
    "start_time": "2022-12-16T10:45:28.034Z"
   },
   {
    "duration": 119,
    "start_time": "2022-12-16T10:45:33.856Z"
   },
   {
    "duration": 353,
    "start_time": "2022-12-16T10:45:48.846Z"
   },
   {
    "duration": 259,
    "start_time": "2022-12-16T10:48:49.948Z"
   },
   {
    "duration": 251,
    "start_time": "2022-12-16T10:48:54.233Z"
   },
   {
    "duration": 272,
    "start_time": "2022-12-16T10:53:21.826Z"
   },
   {
    "duration": 250,
    "start_time": "2022-12-16T10:53:42.874Z"
   },
   {
    "duration": 366,
    "start_time": "2022-12-16T10:53:53.831Z"
   },
   {
    "duration": 256,
    "start_time": "2022-12-16T10:54:12.112Z"
   },
   {
    "duration": 239,
    "start_time": "2022-12-16T10:54:17.991Z"
   },
   {
    "duration": 246,
    "start_time": "2022-12-16T10:54:44.659Z"
   },
   {
    "duration": 240,
    "start_time": "2022-12-16T10:56:53.034Z"
   },
   {
    "duration": 12,
    "start_time": "2022-12-16T11:01:10.209Z"
   },
   {
    "duration": 10,
    "start_time": "2022-12-16T11:01:20.492Z"
   },
   {
    "duration": 10,
    "start_time": "2022-12-16T11:01:42.106Z"
   },
   {
    "duration": 4,
    "start_time": "2022-12-16T11:02:03.676Z"
   },
   {
    "duration": 12,
    "start_time": "2022-12-16T11:02:08.009Z"
   },
   {
    "duration": 628,
    "start_time": "2022-12-16T11:02:36.722Z"
   },
   {
    "duration": 527,
    "start_time": "2022-12-16T11:02:41.171Z"
   },
   {
    "duration": 578,
    "start_time": "2022-12-16T11:03:06.130Z"
   },
   {
    "duration": 10,
    "start_time": "2022-12-16T11:04:51.529Z"
   },
   {
    "duration": 3,
    "start_time": "2022-12-16T11:04:58.813Z"
   },
   {
    "duration": 3,
    "start_time": "2022-12-16T11:05:02.020Z"
   },
   {
    "duration": 10,
    "start_time": "2022-12-16T11:05:06.780Z"
   },
   {
    "duration": 3,
    "start_time": "2022-12-16T11:05:07.225Z"
   },
   {
    "duration": 621,
    "start_time": "2022-12-16T11:05:08.167Z"
   },
   {
    "duration": 9,
    "start_time": "2022-12-16T11:05:17.380Z"
   },
   {
    "duration": 9,
    "start_time": "2022-12-16T11:05:31.712Z"
   },
   {
    "duration": 5,
    "start_time": "2022-12-16T11:05:32.473Z"
   },
   {
    "duration": 584,
    "start_time": "2022-12-16T11:05:34.799Z"
   },
   {
    "duration": 557,
    "start_time": "2022-12-16T11:05:40.988Z"
   },
   {
    "duration": 9,
    "start_time": "2022-12-16T11:06:03.873Z"
   },
   {
    "duration": 12,
    "start_time": "2022-12-16T11:06:11.541Z"
   },
   {
    "duration": 4,
    "start_time": "2022-12-16T11:06:11.958Z"
   },
   {
    "duration": 682,
    "start_time": "2022-12-16T11:06:12.344Z"
   },
   {
    "duration": 6606,
    "start_time": "2022-12-16T11:08:23.416Z"
   },
   {
    "duration": 97,
    "start_time": "2022-12-16T11:11:42.332Z"
   },
   {
    "duration": 10,
    "start_time": "2022-12-16T11:13:06.785Z"
   },
   {
    "duration": 6,
    "start_time": "2022-12-16T11:13:11.074Z"
   },
   {
    "duration": 9,
    "start_time": "2022-12-16T11:13:35.097Z"
   },
   {
    "duration": 11,
    "start_time": "2022-12-16T11:13:42.999Z"
   },
   {
    "duration": 8,
    "start_time": "2022-12-16T11:13:43.391Z"
   },
   {
    "duration": 10,
    "start_time": "2022-12-16T11:18:06.691Z"
   },
   {
    "duration": 7,
    "start_time": "2022-12-16T11:18:10.569Z"
   },
   {
    "duration": 170,
    "start_time": "2022-12-16T11:18:23.080Z"
   },
   {
    "duration": 183,
    "start_time": "2022-12-16T11:18:27.969Z"
   },
   {
    "duration": 5,
    "start_time": "2022-12-16T11:22:57.558Z"
   },
   {
    "duration": 15,
    "start_time": "2022-12-16T11:24:11.306Z"
   },
   {
    "duration": 12,
    "start_time": "2022-12-16T11:24:32.735Z"
   },
   {
    "duration": 14,
    "start_time": "2022-12-16T11:24:59.048Z"
   },
   {
    "duration": 11,
    "start_time": "2022-12-16T11:25:03.496Z"
   },
   {
    "duration": 9,
    "start_time": "2022-12-16T11:25:18.242Z"
   },
   {
    "duration": 9,
    "start_time": "2022-12-16T11:25:30.018Z"
   },
   {
    "duration": 10,
    "start_time": "2022-12-16T11:25:42.189Z"
   },
   {
    "duration": 9,
    "start_time": "2022-12-16T11:26:12.877Z"
   },
   {
    "duration": 9,
    "start_time": "2022-12-16T11:26:14.013Z"
   },
   {
    "duration": 1216,
    "start_time": "2022-12-16T15:51:26.409Z"
   },
   {
    "duration": 220,
    "start_time": "2022-12-16T15:51:27.628Z"
   },
   {
    "duration": 25,
    "start_time": "2022-12-16T15:51:27.850Z"
   },
   {
    "duration": 13,
    "start_time": "2022-12-16T15:51:27.877Z"
   },
   {
    "duration": 3,
    "start_time": "2022-12-16T15:51:27.891Z"
   },
   {
    "duration": 13,
    "start_time": "2022-12-16T15:51:27.896Z"
   },
   {
    "duration": 14,
    "start_time": "2022-12-16T15:51:27.910Z"
   },
   {
    "duration": 32,
    "start_time": "2022-12-16T15:51:27.925Z"
   },
   {
    "duration": 5,
    "start_time": "2022-12-16T15:51:27.959Z"
   },
   {
    "duration": 23,
    "start_time": "2022-12-16T15:51:27.966Z"
   },
   {
    "duration": 7,
    "start_time": "2022-12-16T15:51:27.991Z"
   },
   {
    "duration": 13,
    "start_time": "2022-12-16T15:51:28.000Z"
   },
   {
    "duration": 4,
    "start_time": "2022-12-16T15:51:28.015Z"
   },
   {
    "duration": 34,
    "start_time": "2022-12-16T15:51:28.021Z"
   },
   {
    "duration": 336,
    "start_time": "2022-12-16T15:51:28.057Z"
   },
   {
    "duration": 273,
    "start_time": "2022-12-16T15:51:28.394Z"
   },
   {
    "duration": 5,
    "start_time": "2022-12-16T15:51:28.669Z"
   },
   {
    "duration": 1793,
    "start_time": "2022-12-16T15:51:28.676Z"
   },
   {
    "duration": 10,
    "start_time": "2022-12-16T15:51:30.470Z"
   },
   {
    "duration": 185,
    "start_time": "2022-12-16T15:51:30.482Z"
   },
   {
    "duration": 4,
    "start_time": "2022-12-16T15:51:30.668Z"
   },
   {
    "duration": 1497,
    "start_time": "2022-12-16T15:51:30.674Z"
   },
   {
    "duration": 6,
    "start_time": "2022-12-16T15:51:32.173Z"
   },
   {
    "duration": 11,
    "start_time": "2022-12-16T15:51:32.180Z"
   },
   {
    "duration": 4,
    "start_time": "2022-12-16T15:51:32.193Z"
   },
   {
    "duration": 14,
    "start_time": "2022-12-16T15:51:32.198Z"
   },
   {
    "duration": 10,
    "start_time": "2022-12-16T15:51:32.214Z"
   },
   {
    "duration": 5,
    "start_time": "2022-12-16T15:51:32.227Z"
   },
   {
    "duration": 181,
    "start_time": "2022-12-16T15:51:32.233Z"
   },
   {
    "duration": 7,
    "start_time": "2022-12-16T15:51:32.416Z"
   },
   {
    "duration": 12,
    "start_time": "2022-12-16T15:51:32.425Z"
   },
   {
    "duration": 201,
    "start_time": "2022-12-16T15:51:32.440Z"
   },
   {
    "duration": 405,
    "start_time": "2022-12-16T15:51:32.643Z"
   },
   {
    "duration": 9,
    "start_time": "2022-12-16T15:51:33.052Z"
   },
   {
    "duration": 8,
    "start_time": "2022-12-16T15:51:33.062Z"
   },
   {
    "duration": 534,
    "start_time": "2022-12-16T15:51:33.071Z"
   },
   {
    "duration": 101,
    "start_time": "2022-12-16T15:51:33.606Z"
   },
   {
    "duration": 8,
    "start_time": "2022-12-16T15:51:33.709Z"
   },
   {
    "duration": 168,
    "start_time": "2022-12-16T15:51:33.719Z"
   },
   {
    "duration": 71,
    "start_time": "2022-12-16T15:51:33.889Z"
   },
   {
    "duration": 0,
    "start_time": "2022-12-16T15:51:33.962Z"
   },
   {
    "duration": 76,
    "start_time": "2022-12-16T15:51:47.323Z"
   },
   {
    "duration": 70,
    "start_time": "2022-12-16T15:51:57.622Z"
   },
   {
    "duration": 9,
    "start_time": "2022-12-16T15:52:31.563Z"
   },
   {
    "duration": 6,
    "start_time": "2022-12-16T15:54:16.458Z"
   },
   {
    "duration": 93,
    "start_time": "2022-12-16T15:54:45.432Z"
   },
   {
    "duration": 12,
    "start_time": "2022-12-16T15:55:14.872Z"
   },
   {
    "duration": 8,
    "start_time": "2022-12-16T15:55:22.964Z"
   },
   {
    "duration": 17,
    "start_time": "2022-12-16T16:00:20.348Z"
   },
   {
    "duration": 15,
    "start_time": "2022-12-16T16:00:27.974Z"
   },
   {
    "duration": 17,
    "start_time": "2022-12-16T16:00:50.363Z"
   },
   {
    "duration": 14,
    "start_time": "2022-12-16T16:00:56.220Z"
   },
   {
    "duration": 130,
    "start_time": "2022-12-16T16:04:48.227Z"
   },
   {
    "duration": 126,
    "start_time": "2022-12-16T16:07:50.670Z"
   },
   {
    "duration": 18,
    "start_time": "2022-12-16T16:08:18.763Z"
   },
   {
    "duration": 344,
    "start_time": "2022-12-16T16:08:41.138Z"
   },
   {
    "duration": 1392,
    "start_time": "2022-12-17T07:31:22.596Z"
   },
   {
    "duration": 114,
    "start_time": "2022-12-17T07:31:23.990Z"
   },
   {
    "duration": 27,
    "start_time": "2022-12-17T07:31:24.106Z"
   },
   {
    "duration": 16,
    "start_time": "2022-12-17T07:31:24.136Z"
   },
   {
    "duration": 10,
    "start_time": "2022-12-17T07:31:24.154Z"
   },
   {
    "duration": 39,
    "start_time": "2022-12-17T07:31:24.166Z"
   },
   {
    "duration": 22,
    "start_time": "2022-12-17T07:31:24.208Z"
   },
   {
    "duration": 12,
    "start_time": "2022-12-17T07:31:24.233Z"
   },
   {
    "duration": 7,
    "start_time": "2022-12-17T07:31:24.247Z"
   },
   {
    "duration": 24,
    "start_time": "2022-12-17T07:31:24.258Z"
   },
   {
    "duration": 31,
    "start_time": "2022-12-17T07:31:24.284Z"
   },
   {
    "duration": 15,
    "start_time": "2022-12-17T07:31:24.317Z"
   },
   {
    "duration": 6,
    "start_time": "2022-12-17T07:31:24.334Z"
   },
   {
    "duration": 24,
    "start_time": "2022-12-17T07:31:24.342Z"
   },
   {
    "duration": 372,
    "start_time": "2022-12-17T07:31:24.368Z"
   },
   {
    "duration": 338,
    "start_time": "2022-12-17T07:31:24.742Z"
   },
   {
    "duration": 5,
    "start_time": "2022-12-17T07:31:25.081Z"
   },
   {
    "duration": 2210,
    "start_time": "2022-12-17T07:31:25.088Z"
   },
   {
    "duration": 18,
    "start_time": "2022-12-17T07:31:27.299Z"
   },
   {
    "duration": 210,
    "start_time": "2022-12-17T07:31:27.319Z"
   },
   {
    "duration": 4,
    "start_time": "2022-12-17T07:31:27.531Z"
   },
   {
    "duration": 1696,
    "start_time": "2022-12-17T07:31:27.536Z"
   },
   {
    "duration": 8,
    "start_time": "2022-12-17T07:31:29.233Z"
   },
   {
    "duration": 10,
    "start_time": "2022-12-17T07:31:29.242Z"
   },
   {
    "duration": 6,
    "start_time": "2022-12-17T07:31:29.254Z"
   },
   {
    "duration": 11,
    "start_time": "2022-12-17T07:31:29.262Z"
   },
   {
    "duration": 8,
    "start_time": "2022-12-17T07:31:29.275Z"
   },
   {
    "duration": 31,
    "start_time": "2022-12-17T07:31:29.286Z"
   },
   {
    "duration": 201,
    "start_time": "2022-12-17T07:31:29.320Z"
   },
   {
    "duration": 6,
    "start_time": "2022-12-17T07:31:29.523Z"
   },
   {
    "duration": 8,
    "start_time": "2022-12-17T07:31:29.530Z"
   },
   {
    "duration": 173,
    "start_time": "2022-12-17T07:31:29.540Z"
   },
   {
    "duration": 397,
    "start_time": "2022-12-17T07:31:29.715Z"
   },
   {
    "duration": 10,
    "start_time": "2022-12-17T07:31:30.114Z"
   },
   {
    "duration": 4,
    "start_time": "2022-12-17T07:31:30.126Z"
   },
   {
    "duration": 642,
    "start_time": "2022-12-17T07:31:30.132Z"
   },
   {
    "duration": 109,
    "start_time": "2022-12-17T07:31:30.776Z"
   },
   {
    "duration": 9,
    "start_time": "2022-12-17T07:31:30.887Z"
   },
   {
    "duration": 207,
    "start_time": "2022-12-17T07:31:30.897Z"
   },
   {
    "duration": 23,
    "start_time": "2022-12-17T07:31:31.106Z"
   },
   {
    "duration": 433,
    "start_time": "2022-12-17T07:31:31.131Z"
   },
   {
    "duration": 114,
    "start_time": "2022-12-17T07:31:31.566Z"
   },
   {
    "duration": 9,
    "start_time": "2022-12-17T07:31:39.757Z"
   },
   {
    "duration": 8,
    "start_time": "2022-12-17T07:31:51.998Z"
   },
   {
    "duration": 9,
    "start_time": "2022-12-17T07:32:03.535Z"
   },
   {
    "duration": 13,
    "start_time": "2022-12-17T07:34:26.625Z"
   },
   {
    "duration": 13,
    "start_time": "2022-12-17T07:34:38.287Z"
   },
   {
    "duration": 17,
    "start_time": "2022-12-17T07:34:44.596Z"
   },
   {
    "duration": 18,
    "start_time": "2022-12-17T07:35:05.933Z"
   },
   {
    "duration": 208,
    "start_time": "2022-12-17T07:40:17.889Z"
   },
   {
    "duration": 189,
    "start_time": "2022-12-17T07:40:40.267Z"
   },
   {
    "duration": 292,
    "start_time": "2022-12-17T07:40:56.402Z"
   },
   {
    "duration": 140,
    "start_time": "2022-12-17T07:40:59.999Z"
   },
   {
    "duration": 1246,
    "start_time": "2022-12-19T07:05:26.058Z"
   },
   {
    "duration": 103,
    "start_time": "2022-12-19T07:05:27.306Z"
   },
   {
    "duration": 23,
    "start_time": "2022-12-19T07:05:27.411Z"
   },
   {
    "duration": 14,
    "start_time": "2022-12-19T07:05:27.436Z"
   },
   {
    "duration": 3,
    "start_time": "2022-12-19T07:05:27.451Z"
   },
   {
    "duration": 16,
    "start_time": "2022-12-19T07:05:27.456Z"
   },
   {
    "duration": 14,
    "start_time": "2022-12-19T07:05:27.474Z"
   },
   {
    "duration": 10,
    "start_time": "2022-12-19T07:05:27.498Z"
   },
   {
    "duration": 4,
    "start_time": "2022-12-19T07:05:27.510Z"
   },
   {
    "duration": 21,
    "start_time": "2022-12-19T07:05:27.516Z"
   },
   {
    "duration": 7,
    "start_time": "2022-12-19T07:05:27.539Z"
   },
   {
    "duration": 17,
    "start_time": "2022-12-19T07:05:27.548Z"
   },
   {
    "duration": 5,
    "start_time": "2022-12-19T07:05:27.567Z"
   },
   {
    "duration": 20,
    "start_time": "2022-12-19T07:05:27.598Z"
   },
   {
    "duration": 367,
    "start_time": "2022-12-19T07:05:27.620Z"
   },
   {
    "duration": 270,
    "start_time": "2022-12-19T07:05:27.989Z"
   },
   {
    "duration": 6,
    "start_time": "2022-12-19T07:05:28.261Z"
   },
   {
    "duration": 1900,
    "start_time": "2022-12-19T07:05:28.269Z"
   },
   {
    "duration": 9,
    "start_time": "2022-12-19T07:05:30.171Z"
   },
   {
    "duration": 203,
    "start_time": "2022-12-19T07:05:30.182Z"
   },
   {
    "duration": 10,
    "start_time": "2022-12-19T07:05:30.387Z"
   },
   {
    "duration": 1502,
    "start_time": "2022-12-19T07:05:30.399Z"
   },
   {
    "duration": 6,
    "start_time": "2022-12-19T07:05:31.903Z"
   },
   {
    "duration": 36,
    "start_time": "2022-12-19T07:05:31.910Z"
   },
   {
    "duration": 29,
    "start_time": "2022-12-19T07:05:31.947Z"
   },
   {
    "duration": 30,
    "start_time": "2022-12-19T07:05:31.977Z"
   },
   {
    "duration": 14,
    "start_time": "2022-12-19T07:05:32.009Z"
   },
   {
    "duration": 25,
    "start_time": "2022-12-19T07:05:32.026Z"
   },
   {
    "duration": 188,
    "start_time": "2022-12-19T07:05:32.053Z"
   },
   {
    "duration": 6,
    "start_time": "2022-12-19T07:05:32.242Z"
   },
   {
    "duration": 40,
    "start_time": "2022-12-19T07:05:32.249Z"
   },
   {
    "duration": 132,
    "start_time": "2022-12-19T07:05:32.291Z"
   },
   {
    "duration": 351,
    "start_time": "2022-12-19T07:05:32.424Z"
   },
   {
    "duration": 10,
    "start_time": "2022-12-19T07:05:32.776Z"
   },
   {
    "duration": 13,
    "start_time": "2022-12-19T07:05:32.787Z"
   },
   {
    "duration": 562,
    "start_time": "2022-12-19T07:05:32.802Z"
   },
   {
    "duration": 95,
    "start_time": "2022-12-19T07:05:33.366Z"
   },
   {
    "duration": 8,
    "start_time": "2022-12-19T07:05:33.463Z"
   },
   {
    "duration": 170,
    "start_time": "2022-12-19T07:05:33.473Z"
   },
   {
    "duration": 19,
    "start_time": "2022-12-19T07:05:33.645Z"
   },
   {
    "duration": 382,
    "start_time": "2022-12-19T07:05:33.666Z"
   },
   {
    "duration": 135,
    "start_time": "2022-12-19T07:05:34.050Z"
   },
   {
    "duration": 172,
    "start_time": "2022-12-19T07:05:34.187Z"
   },
   {
    "duration": 29,
    "start_time": "2022-12-19T07:15:18.436Z"
   },
   {
    "duration": 5,
    "start_time": "2022-12-19T07:17:49.970Z"
   },
   {
    "duration": 4,
    "start_time": "2022-12-19T07:17:59.262Z"
   },
   {
    "duration": 22,
    "start_time": "2022-12-19T07:18:09.010Z"
   },
   {
    "duration": 6,
    "start_time": "2022-12-19T07:20:01.507Z"
   },
   {
    "duration": 5,
    "start_time": "2022-12-19T07:20:09.862Z"
   },
   {
    "duration": 6,
    "start_time": "2022-12-19T07:20:26.244Z"
   },
   {
    "duration": 4,
    "start_time": "2022-12-19T07:20:27.095Z"
   },
   {
    "duration": 4,
    "start_time": "2022-12-19T07:20:31.336Z"
   },
   {
    "duration": 4,
    "start_time": "2022-12-19T07:20:35.157Z"
   },
   {
    "duration": 5,
    "start_time": "2022-12-19T07:20:40.785Z"
   },
   {
    "duration": 5,
    "start_time": "2022-12-19T07:21:00.069Z"
   },
   {
    "duration": 7,
    "start_time": "2022-12-19T07:21:04.735Z"
   },
   {
    "duration": 119,
    "start_time": "2022-12-19T07:22:18.950Z"
   },
   {
    "duration": 3,
    "start_time": "2022-12-19T07:22:51.950Z"
   },
   {
    "duration": 5,
    "start_time": "2022-12-19T07:22:52.563Z"
   },
   {
    "duration": 9,
    "start_time": "2022-12-19T07:24:34.800Z"
   },
   {
    "duration": 3,
    "start_time": "2022-12-19T07:24:36.156Z"
   },
   {
    "duration": 5,
    "start_time": "2022-12-19T07:24:36.885Z"
   },
   {
    "duration": 9,
    "start_time": "2022-12-19T07:24:42.913Z"
   },
   {
    "duration": 3,
    "start_time": "2022-12-19T07:24:43.530Z"
   },
   {
    "duration": 5,
    "start_time": "2022-12-19T07:24:44.051Z"
   },
   {
    "duration": 6,
    "start_time": "2022-12-19T07:25:18.233Z"
   },
   {
    "duration": 2,
    "start_time": "2022-12-19T07:25:19.114Z"
   },
   {
    "duration": 5,
    "start_time": "2022-12-19T07:25:19.555Z"
   },
   {
    "duration": 7,
    "start_time": "2022-12-19T07:25:39.083Z"
   },
   {
    "duration": 6,
    "start_time": "2022-12-19T07:25:45.595Z"
   },
   {
    "duration": 1109,
    "start_time": "2022-12-19T07:25:52.605Z"
   },
   {
    "duration": 53,
    "start_time": "2022-12-19T07:25:53.715Z"
   },
   {
    "duration": 24,
    "start_time": "2022-12-19T07:25:53.770Z"
   },
   {
    "duration": 14,
    "start_time": "2022-12-19T07:25:53.796Z"
   },
   {
    "duration": 3,
    "start_time": "2022-12-19T07:25:53.812Z"
   },
   {
    "duration": 10,
    "start_time": "2022-12-19T07:25:53.816Z"
   },
   {
    "duration": 12,
    "start_time": "2022-12-19T07:25:53.828Z"
   },
   {
    "duration": 8,
    "start_time": "2022-12-19T07:25:53.841Z"
   },
   {
    "duration": 6,
    "start_time": "2022-12-19T07:25:53.851Z"
   },
   {
    "duration": 52,
    "start_time": "2022-12-19T07:25:53.860Z"
   },
   {
    "duration": 7,
    "start_time": "2022-12-19T07:25:53.913Z"
   },
   {
    "duration": 16,
    "start_time": "2022-12-19T07:25:53.923Z"
   },
   {
    "duration": 11,
    "start_time": "2022-12-19T07:25:53.941Z"
   },
   {
    "duration": 15,
    "start_time": "2022-12-19T07:25:53.954Z"
   },
   {
    "duration": 343,
    "start_time": "2022-12-19T07:25:53.971Z"
   },
   {
    "duration": 284,
    "start_time": "2022-12-19T07:25:54.315Z"
   },
   {
    "duration": 5,
    "start_time": "2022-12-19T07:25:54.600Z"
   },
   {
    "duration": 1872,
    "start_time": "2022-12-19T07:25:54.606Z"
   },
   {
    "duration": 18,
    "start_time": "2022-12-19T07:25:56.480Z"
   },
   {
    "duration": 169,
    "start_time": "2022-12-19T07:25:56.499Z"
   },
   {
    "duration": 4,
    "start_time": "2022-12-19T07:25:56.669Z"
   },
   {
    "duration": 1439,
    "start_time": "2022-12-19T07:25:56.675Z"
   },
   {
    "duration": 6,
    "start_time": "2022-12-19T07:25:58.115Z"
   },
   {
    "duration": 22,
    "start_time": "2022-12-19T07:25:58.123Z"
   },
   {
    "duration": 14,
    "start_time": "2022-12-19T07:25:58.147Z"
   },
   {
    "duration": 12,
    "start_time": "2022-12-19T07:25:58.163Z"
   },
   {
    "duration": 26,
    "start_time": "2022-12-19T07:25:58.177Z"
   },
   {
    "duration": 13,
    "start_time": "2022-12-19T07:25:58.206Z"
   },
   {
    "duration": 155,
    "start_time": "2022-12-19T07:25:58.220Z"
   },
   {
    "duration": 6,
    "start_time": "2022-12-19T07:25:58.376Z"
   },
   {
    "duration": 18,
    "start_time": "2022-12-19T07:25:58.383Z"
   },
   {
    "duration": 141,
    "start_time": "2022-12-19T07:25:58.403Z"
   },
   {
    "duration": 362,
    "start_time": "2022-12-19T07:25:58.545Z"
   },
   {
    "duration": 9,
    "start_time": "2022-12-19T07:25:58.909Z"
   },
   {
    "duration": 17,
    "start_time": "2022-12-19T07:25:58.919Z"
   },
   {
    "duration": 517,
    "start_time": "2022-12-19T07:25:58.937Z"
   },
   {
    "duration": 86,
    "start_time": "2022-12-19T07:25:59.455Z"
   },
   {
    "duration": 8,
    "start_time": "2022-12-19T07:25:59.543Z"
   },
   {
    "duration": 199,
    "start_time": "2022-12-19T07:25:59.553Z"
   },
   {
    "duration": 19,
    "start_time": "2022-12-19T07:25:59.754Z"
   },
   {
    "duration": 393,
    "start_time": "2022-12-19T07:25:59.775Z"
   },
   {
    "duration": 131,
    "start_time": "2022-12-19T07:26:00.169Z"
   },
   {
    "duration": 181,
    "start_time": "2022-12-19T07:26:00.302Z"
   },
   {
    "duration": 29,
    "start_time": "2022-12-19T07:26:00.485Z"
   },
   {
    "duration": 52,
    "start_time": "2022-12-19T07:26:00.515Z"
   },
   {
    "duration": 52,
    "start_time": "2022-12-19T07:26:00.569Z"
   },
   {
    "duration": 45,
    "start_time": "2022-12-19T07:26:00.622Z"
   },
   {
    "duration": 7,
    "start_time": "2022-12-19T07:26:44.815Z"
   },
   {
    "duration": 6,
    "start_time": "2022-12-19T07:26:57.921Z"
   },
   {
    "duration": 2,
    "start_time": "2022-12-19T07:26:58.357Z"
   },
   {
    "duration": 4,
    "start_time": "2022-12-19T07:26:58.770Z"
   },
   {
    "duration": 9,
    "start_time": "2022-12-19T07:27:06.006Z"
   },
   {
    "duration": 1074,
    "start_time": "2022-12-19T07:27:11.628Z"
   },
   {
    "duration": 51,
    "start_time": "2022-12-19T07:27:12.704Z"
   },
   {
    "duration": 22,
    "start_time": "2022-12-19T07:27:12.757Z"
   },
   {
    "duration": 12,
    "start_time": "2022-12-19T07:27:12.780Z"
   },
   {
    "duration": 9,
    "start_time": "2022-12-19T07:27:12.794Z"
   },
   {
    "duration": 11,
    "start_time": "2022-12-19T07:27:12.804Z"
   },
   {
    "duration": 13,
    "start_time": "2022-12-19T07:27:12.816Z"
   },
   {
    "duration": 19,
    "start_time": "2022-12-19T07:27:12.830Z"
   },
   {
    "duration": 12,
    "start_time": "2022-12-19T07:27:12.851Z"
   },
   {
    "duration": 35,
    "start_time": "2022-12-19T07:27:12.866Z"
   },
   {
    "duration": 11,
    "start_time": "2022-12-19T07:27:12.902Z"
   },
   {
    "duration": 27,
    "start_time": "2022-12-19T07:27:12.914Z"
   },
   {
    "duration": 8,
    "start_time": "2022-12-19T07:27:12.943Z"
   },
   {
    "duration": 18,
    "start_time": "2022-12-19T07:27:12.953Z"
   },
   {
    "duration": 363,
    "start_time": "2022-12-19T07:27:12.973Z"
   },
   {
    "duration": 262,
    "start_time": "2022-12-19T07:27:13.338Z"
   },
   {
    "duration": 4,
    "start_time": "2022-12-19T07:27:13.602Z"
   },
   {
    "duration": 1847,
    "start_time": "2022-12-19T07:27:13.607Z"
   },
   {
    "duration": 9,
    "start_time": "2022-12-19T07:27:15.456Z"
   },
   {
    "duration": 189,
    "start_time": "2022-12-19T07:27:15.467Z"
   },
   {
    "duration": 4,
    "start_time": "2022-12-19T07:27:15.658Z"
   },
   {
    "duration": 1418,
    "start_time": "2022-12-19T07:27:15.663Z"
   },
   {
    "duration": 16,
    "start_time": "2022-12-19T07:27:17.083Z"
   },
   {
    "duration": 20,
    "start_time": "2022-12-19T07:27:17.100Z"
   },
   {
    "duration": 18,
    "start_time": "2022-12-19T07:27:17.122Z"
   },
   {
    "duration": 12,
    "start_time": "2022-12-19T07:27:17.142Z"
   },
   {
    "duration": 20,
    "start_time": "2022-12-19T07:27:17.155Z"
   },
   {
    "duration": 17,
    "start_time": "2022-12-19T07:27:17.178Z"
   },
   {
    "duration": 158,
    "start_time": "2022-12-19T07:27:17.196Z"
   },
   {
    "duration": 5,
    "start_time": "2022-12-19T07:27:17.355Z"
   },
   {
    "duration": 24,
    "start_time": "2022-12-19T07:27:17.362Z"
   },
   {
    "duration": 138,
    "start_time": "2022-12-19T07:27:17.388Z"
   },
   {
    "duration": 357,
    "start_time": "2022-12-19T07:27:17.528Z"
   },
   {
    "duration": 17,
    "start_time": "2022-12-19T07:27:17.887Z"
   },
   {
    "duration": 5,
    "start_time": "2022-12-19T07:27:17.905Z"
   },
   {
    "duration": 572,
    "start_time": "2022-12-19T07:27:17.912Z"
   },
   {
    "duration": 85,
    "start_time": "2022-12-19T07:27:18.486Z"
   },
   {
    "duration": 8,
    "start_time": "2022-12-19T07:27:18.572Z"
   },
   {
    "duration": 163,
    "start_time": "2022-12-19T07:27:18.598Z"
   },
   {
    "duration": 18,
    "start_time": "2022-12-19T07:27:18.763Z"
   },
   {
    "duration": 388,
    "start_time": "2022-12-19T07:27:18.783Z"
   },
   {
    "duration": 140,
    "start_time": "2022-12-19T07:27:19.173Z"
   },
   {
    "duration": 165,
    "start_time": "2022-12-19T07:27:19.315Z"
   },
   {
    "duration": 25,
    "start_time": "2022-12-19T07:27:19.481Z"
   },
   {
    "duration": 9,
    "start_time": "2022-12-19T07:27:19.508Z"
   },
   {
    "duration": 4,
    "start_time": "2022-12-19T07:27:19.519Z"
   },
   {
    "duration": 7,
    "start_time": "2022-12-19T07:27:19.524Z"
   },
   {
    "duration": 8,
    "start_time": "2022-12-19T07:27:34.779Z"
   },
   {
    "duration": 4,
    "start_time": "2022-12-19T07:27:42.420Z"
   },
   {
    "duration": 5,
    "start_time": "2022-12-19T07:28:59.421Z"
   },
   {
    "duration": 4,
    "start_time": "2022-12-19T07:28:59.964Z"
   },
   {
    "duration": 5,
    "start_time": "2022-12-19T07:29:08.581Z"
   },
   {
    "duration": 4,
    "start_time": "2022-12-19T07:29:09.066Z"
   },
   {
    "duration": 1072,
    "start_time": "2022-12-19T07:29:12.632Z"
   },
   {
    "duration": 63,
    "start_time": "2022-12-19T07:29:13.706Z"
   },
   {
    "duration": 34,
    "start_time": "2022-12-19T07:29:13.770Z"
   },
   {
    "duration": 15,
    "start_time": "2022-12-19T07:29:13.807Z"
   },
   {
    "duration": 3,
    "start_time": "2022-12-19T07:29:13.824Z"
   },
   {
    "duration": 17,
    "start_time": "2022-12-19T07:29:13.828Z"
   },
   {
    "duration": 18,
    "start_time": "2022-12-19T07:29:13.846Z"
   },
   {
    "duration": 38,
    "start_time": "2022-12-19T07:29:13.866Z"
   },
   {
    "duration": 13,
    "start_time": "2022-12-19T07:29:13.905Z"
   },
   {
    "duration": 28,
    "start_time": "2022-12-19T07:29:13.920Z"
   },
   {
    "duration": 12,
    "start_time": "2022-12-19T07:29:13.950Z"
   },
   {
    "duration": 25,
    "start_time": "2022-12-19T07:29:13.964Z"
   },
   {
    "duration": 12,
    "start_time": "2022-12-19T07:29:13.990Z"
   },
   {
    "duration": 24,
    "start_time": "2022-12-19T07:29:14.003Z"
   },
   {
    "duration": 340,
    "start_time": "2022-12-19T07:29:14.028Z"
   },
   {
    "duration": 349,
    "start_time": "2022-12-19T07:29:14.370Z"
   },
   {
    "duration": 7,
    "start_time": "2022-12-19T07:29:14.722Z"
   },
   {
    "duration": 2149,
    "start_time": "2022-12-19T07:29:14.730Z"
   },
   {
    "duration": 18,
    "start_time": "2022-12-19T07:29:16.881Z"
   },
   {
    "duration": 213,
    "start_time": "2022-12-19T07:29:16.901Z"
   },
   {
    "duration": 4,
    "start_time": "2022-12-19T07:29:17.116Z"
   },
   {
    "duration": 1592,
    "start_time": "2022-12-19T07:29:17.122Z"
   },
   {
    "duration": 7,
    "start_time": "2022-12-19T07:29:18.717Z"
   },
   {
    "duration": 37,
    "start_time": "2022-12-19T07:29:18.726Z"
   },
   {
    "duration": 47,
    "start_time": "2022-12-19T07:29:18.765Z"
   },
   {
    "duration": 26,
    "start_time": "2022-12-19T07:29:18.815Z"
   },
   {
    "duration": 30,
    "start_time": "2022-12-19T07:29:18.842Z"
   },
   {
    "duration": 24,
    "start_time": "2022-12-19T07:29:18.875Z"
   },
   {
    "duration": 200,
    "start_time": "2022-12-19T07:29:18.901Z"
   },
   {
    "duration": 7,
    "start_time": "2022-12-19T07:29:19.104Z"
   },
   {
    "duration": 35,
    "start_time": "2022-12-19T07:29:19.113Z"
   },
   {
    "duration": 149,
    "start_time": "2022-12-19T07:29:19.150Z"
   },
   {
    "duration": 397,
    "start_time": "2022-12-19T07:29:19.302Z"
   },
   {
    "duration": 11,
    "start_time": "2022-12-19T07:29:19.700Z"
   },
   {
    "duration": 29,
    "start_time": "2022-12-19T07:29:19.712Z"
   },
   {
    "duration": 671,
    "start_time": "2022-12-19T07:29:19.744Z"
   },
   {
    "duration": 110,
    "start_time": "2022-12-19T07:29:20.417Z"
   },
   {
    "duration": 11,
    "start_time": "2022-12-19T07:29:20.529Z"
   },
   {
    "duration": 226,
    "start_time": "2022-12-19T07:29:20.542Z"
   },
   {
    "duration": 33,
    "start_time": "2022-12-19T07:29:20.770Z"
   },
   {
    "duration": 430,
    "start_time": "2022-12-19T07:29:20.805Z"
   },
   {
    "duration": 163,
    "start_time": "2022-12-19T07:29:21.237Z"
   },
   {
    "duration": 181,
    "start_time": "2022-12-19T07:29:21.402Z"
   },
   {
    "duration": 30,
    "start_time": "2022-12-19T07:29:21.585Z"
   },
   {
    "duration": 32,
    "start_time": "2022-12-19T07:29:21.617Z"
   },
   {
    "duration": 55,
    "start_time": "2022-12-19T07:29:21.650Z"
   },
   {
    "duration": 32,
    "start_time": "2022-12-19T07:29:21.707Z"
   },
   {
    "duration": 15,
    "start_time": "2022-12-19T07:29:21.741Z"
   },
   {
    "duration": 11,
    "start_time": "2022-12-19T07:31:44.824Z"
   },
   {
    "duration": 104,
    "start_time": "2022-12-19T07:33:35.539Z"
   },
   {
    "duration": 1130,
    "start_time": "2022-12-19T07:33:43.190Z"
   },
   {
    "duration": 54,
    "start_time": "2022-12-19T07:33:44.322Z"
   },
   {
    "duration": 23,
    "start_time": "2022-12-19T07:33:44.378Z"
   },
   {
    "duration": 13,
    "start_time": "2022-12-19T07:33:44.402Z"
   },
   {
    "duration": 2,
    "start_time": "2022-12-19T07:33:44.417Z"
   },
   {
    "duration": 10,
    "start_time": "2022-12-19T07:33:44.421Z"
   },
   {
    "duration": 13,
    "start_time": "2022-12-19T07:33:44.433Z"
   },
   {
    "duration": 9,
    "start_time": "2022-12-19T07:33:44.447Z"
   },
   {
    "duration": 5,
    "start_time": "2022-12-19T07:33:44.457Z"
   },
   {
    "duration": 56,
    "start_time": "2022-12-19T07:33:44.463Z"
   },
   {
    "duration": 7,
    "start_time": "2022-12-19T07:33:44.521Z"
   },
   {
    "duration": 14,
    "start_time": "2022-12-19T07:33:44.530Z"
   },
   {
    "duration": 24,
    "start_time": "2022-12-19T07:33:44.546Z"
   },
   {
    "duration": 17,
    "start_time": "2022-12-19T07:33:44.574Z"
   },
   {
    "duration": 421,
    "start_time": "2022-12-19T07:33:44.594Z"
   },
   {
    "duration": 286,
    "start_time": "2022-12-19T07:33:45.018Z"
   },
   {
    "duration": 4,
    "start_time": "2022-12-19T07:33:45.305Z"
   },
   {
    "duration": 1866,
    "start_time": "2022-12-19T07:33:45.311Z"
   },
   {
    "duration": 19,
    "start_time": "2022-12-19T07:33:47.178Z"
   },
   {
    "duration": 168,
    "start_time": "2022-12-19T07:33:47.199Z"
   },
   {
    "duration": 4,
    "start_time": "2022-12-19T07:33:47.369Z"
   },
   {
    "duration": 1459,
    "start_time": "2022-12-19T07:33:47.374Z"
   },
   {
    "duration": 7,
    "start_time": "2022-12-19T07:33:48.835Z"
   },
   {
    "duration": 19,
    "start_time": "2022-12-19T07:33:48.844Z"
   },
   {
    "duration": 10,
    "start_time": "2022-12-19T07:33:48.864Z"
   },
   {
    "duration": 12,
    "start_time": "2022-12-19T07:33:48.875Z"
   },
   {
    "duration": 9,
    "start_time": "2022-12-19T07:33:48.888Z"
   },
   {
    "duration": 13,
    "start_time": "2022-12-19T07:33:48.899Z"
   },
   {
    "duration": 176,
    "start_time": "2022-12-19T07:33:48.914Z"
   },
   {
    "duration": 5,
    "start_time": "2022-12-19T07:33:49.097Z"
   },
   {
    "duration": 15,
    "start_time": "2022-12-19T07:33:49.104Z"
   },
   {
    "duration": 146,
    "start_time": "2022-12-19T07:33:49.121Z"
   },
   {
    "duration": 346,
    "start_time": "2022-12-19T07:33:49.268Z"
   },
   {
    "duration": 10,
    "start_time": "2022-12-19T07:33:49.616Z"
   },
   {
    "duration": 10,
    "start_time": "2022-12-19T07:33:49.627Z"
   },
   {
    "duration": 568,
    "start_time": "2022-12-19T07:33:49.638Z"
   },
   {
    "duration": 99,
    "start_time": "2022-12-19T07:33:50.208Z"
   },
   {
    "duration": 10,
    "start_time": "2022-12-19T07:33:50.308Z"
   },
   {
    "duration": 167,
    "start_time": "2022-12-19T07:33:50.319Z"
   },
   {
    "duration": 23,
    "start_time": "2022-12-19T07:33:50.487Z"
   },
   {
    "duration": 359,
    "start_time": "2022-12-19T07:33:50.514Z"
   },
   {
    "duration": 125,
    "start_time": "2022-12-19T07:33:50.874Z"
   },
   {
    "duration": 177,
    "start_time": "2022-12-19T07:33:51.001Z"
   },
   {
    "duration": 27,
    "start_time": "2022-12-19T07:33:51.179Z"
   },
   {
    "duration": 12,
    "start_time": "2022-12-19T07:33:51.208Z"
   },
   {
    "duration": 5,
    "start_time": "2022-12-19T07:33:51.221Z"
   },
   {
    "duration": 111,
    "start_time": "2022-12-19T07:33:51.227Z"
   },
   {
    "duration": 0,
    "start_time": "2022-12-19T07:33:51.340Z"
   },
   {
    "duration": 56,
    "start_time": "2022-12-19T07:34:47.306Z"
   },
   {
    "duration": 8,
    "start_time": "2022-12-19T07:34:54.589Z"
   },
   {
    "duration": 654,
    "start_time": "2022-12-19T07:34:55.055Z"
   },
   {
    "duration": 1110,
    "start_time": "2022-12-19T07:34:58.800Z"
   },
   {
    "duration": 63,
    "start_time": "2022-12-19T07:34:59.912Z"
   },
   {
    "duration": 25,
    "start_time": "2022-12-19T07:34:59.976Z"
   },
   {
    "duration": 16,
    "start_time": "2022-12-19T07:35:00.002Z"
   },
   {
    "duration": 6,
    "start_time": "2022-12-19T07:35:00.020Z"
   },
   {
    "duration": 33,
    "start_time": "2022-12-19T07:35:00.029Z"
   },
   {
    "duration": 20,
    "start_time": "2022-12-19T07:35:00.064Z"
   },
   {
    "duration": 17,
    "start_time": "2022-12-19T07:35:00.086Z"
   },
   {
    "duration": 12,
    "start_time": "2022-12-19T07:35:00.105Z"
   },
   {
    "duration": 29,
    "start_time": "2022-12-19T07:35:00.119Z"
   },
   {
    "duration": 9,
    "start_time": "2022-12-19T07:35:00.150Z"
   },
   {
    "duration": 20,
    "start_time": "2022-12-19T07:35:00.161Z"
   },
   {
    "duration": 14,
    "start_time": "2022-12-19T07:35:00.182Z"
   },
   {
    "duration": 29,
    "start_time": "2022-12-19T07:35:00.199Z"
   },
   {
    "duration": 369,
    "start_time": "2022-12-19T07:35:00.230Z"
   },
   {
    "duration": 281,
    "start_time": "2022-12-19T07:35:00.600Z"
   },
   {
    "duration": 5,
    "start_time": "2022-12-19T07:35:00.883Z"
   },
   {
    "duration": 1854,
    "start_time": "2022-12-19T07:35:00.889Z"
   },
   {
    "duration": 9,
    "start_time": "2022-12-19T07:35:02.745Z"
   },
   {
    "duration": 186,
    "start_time": "2022-12-19T07:35:02.755Z"
   },
   {
    "duration": 5,
    "start_time": "2022-12-19T07:35:02.943Z"
   },
   {
    "duration": 1517,
    "start_time": "2022-12-19T07:35:02.949Z"
   },
   {
    "duration": 7,
    "start_time": "2022-12-19T07:35:04.468Z"
   },
   {
    "duration": 21,
    "start_time": "2022-12-19T07:35:04.476Z"
   },
   {
    "duration": 9,
    "start_time": "2022-12-19T07:35:04.499Z"
   },
   {
    "duration": 9,
    "start_time": "2022-12-19T07:35:04.509Z"
   },
   {
    "duration": 7,
    "start_time": "2022-12-19T07:35:04.519Z"
   },
   {
    "duration": 6,
    "start_time": "2022-12-19T07:35:04.528Z"
   },
   {
    "duration": 193,
    "start_time": "2022-12-19T07:35:04.535Z"
   },
   {
    "duration": 7,
    "start_time": "2022-12-19T07:35:04.730Z"
   },
   {
    "duration": 16,
    "start_time": "2022-12-19T07:35:04.739Z"
   },
   {
    "duration": 206,
    "start_time": "2022-12-19T07:35:04.757Z"
   },
   {
    "duration": 361,
    "start_time": "2022-12-19T07:35:04.965Z"
   },
   {
    "duration": 9,
    "start_time": "2022-12-19T07:35:05.328Z"
   },
   {
    "duration": 18,
    "start_time": "2022-12-19T07:35:05.338Z"
   },
   {
    "duration": 559,
    "start_time": "2022-12-19T07:35:05.357Z"
   },
   {
    "duration": 102,
    "start_time": "2022-12-19T07:35:05.918Z"
   },
   {
    "duration": 7,
    "start_time": "2022-12-19T07:35:06.022Z"
   },
   {
    "duration": 173,
    "start_time": "2022-12-19T07:35:06.031Z"
   },
   {
    "duration": 18,
    "start_time": "2022-12-19T07:35:06.206Z"
   },
   {
    "duration": 379,
    "start_time": "2022-12-19T07:35:06.227Z"
   },
   {
    "duration": 134,
    "start_time": "2022-12-19T07:35:06.607Z"
   },
   {
    "duration": 167,
    "start_time": "2022-12-19T07:35:06.743Z"
   },
   {
    "duration": 21,
    "start_time": "2022-12-19T07:35:06.911Z"
   },
   {
    "duration": 36,
    "start_time": "2022-12-19T07:35:06.934Z"
   },
   {
    "duration": 23,
    "start_time": "2022-12-19T07:35:06.972Z"
   },
   {
    "duration": 43,
    "start_time": "2022-12-19T07:35:06.997Z"
   },
   {
    "duration": 93,
    "start_time": "2022-12-19T07:35:07.042Z"
   },
   {
    "duration": 7,
    "start_time": "2022-12-19T07:35:53.839Z"
   },
   {
    "duration": 5,
    "start_time": "2022-12-19T07:36:05.655Z"
   },
   {
    "duration": 5,
    "start_time": "2022-12-19T07:36:59.572Z"
   },
   {
    "duration": 5,
    "start_time": "2022-12-19T07:37:11.680Z"
   },
   {
    "duration": 5,
    "start_time": "2022-12-19T07:37:20.164Z"
   },
   {
    "duration": 5,
    "start_time": "2022-12-19T07:37:33.517Z"
   },
   {
    "duration": 6,
    "start_time": "2022-12-19T07:37:38.124Z"
   },
   {
    "duration": 6,
    "start_time": "2022-12-19T07:37:57.671Z"
   },
   {
    "duration": 5,
    "start_time": "2022-12-19T07:38:08.437Z"
   },
   {
    "duration": 4,
    "start_time": "2022-12-19T07:38:09.566Z"
   },
   {
    "duration": 6,
    "start_time": "2022-12-19T07:40:03.152Z"
   },
   {
    "duration": 4,
    "start_time": "2022-12-19T07:40:04.362Z"
   },
   {
    "duration": 5,
    "start_time": "2022-12-19T07:40:05.348Z"
   },
   {
    "duration": 3,
    "start_time": "2022-12-19T07:40:15.935Z"
   },
   {
    "duration": 7,
    "start_time": "2022-12-19T07:40:16.572Z"
   },
   {
    "duration": 5,
    "start_time": "2022-12-19T07:47:39.145Z"
   },
   {
    "duration": 6,
    "start_time": "2022-12-19T07:47:57.298Z"
   },
   {
    "duration": 5,
    "start_time": "2022-12-19T07:48:00.012Z"
   },
   {
    "duration": 96,
    "start_time": "2022-12-19T07:48:28.101Z"
   },
   {
    "duration": 5,
    "start_time": "2022-12-19T07:48:28.846Z"
   },
   {
    "duration": 7,
    "start_time": "2022-12-19T07:48:34.451Z"
   },
   {
    "duration": 4,
    "start_time": "2022-12-19T07:48:35.204Z"
   },
   {
    "duration": 5,
    "start_time": "2022-12-19T07:48:38.560Z"
   },
   {
    "duration": 8,
    "start_time": "2022-12-19T07:48:43.698Z"
   },
   {
    "duration": 4,
    "start_time": "2022-12-19T07:48:44.172Z"
   },
   {
    "duration": 1114,
    "start_time": "2022-12-19T07:48:49.313Z"
   },
   {
    "duration": 52,
    "start_time": "2022-12-19T07:48:50.429Z"
   },
   {
    "duration": 21,
    "start_time": "2022-12-19T07:48:50.482Z"
   },
   {
    "duration": 13,
    "start_time": "2022-12-19T07:48:50.505Z"
   },
   {
    "duration": 3,
    "start_time": "2022-12-19T07:48:50.520Z"
   },
   {
    "duration": 12,
    "start_time": "2022-12-19T07:48:50.525Z"
   },
   {
    "duration": 13,
    "start_time": "2022-12-19T07:48:50.539Z"
   },
   {
    "duration": 9,
    "start_time": "2022-12-19T07:48:50.553Z"
   },
   {
    "duration": 6,
    "start_time": "2022-12-19T07:48:50.564Z"
   },
   {
    "duration": 39,
    "start_time": "2022-12-19T07:48:50.572Z"
   },
   {
    "duration": 7,
    "start_time": "2022-12-19T07:48:50.612Z"
   },
   {
    "duration": 11,
    "start_time": "2022-12-19T07:48:50.620Z"
   },
   {
    "duration": 5,
    "start_time": "2022-12-19T07:48:50.632Z"
   },
   {
    "duration": 9,
    "start_time": "2022-12-19T07:48:50.638Z"
   },
   {
    "duration": 363,
    "start_time": "2022-12-19T07:48:50.649Z"
   },
   {
    "duration": 286,
    "start_time": "2022-12-19T07:48:51.014Z"
   },
   {
    "duration": 5,
    "start_time": "2022-12-19T07:48:51.302Z"
   },
   {
    "duration": 1796,
    "start_time": "2022-12-19T07:48:51.309Z"
   },
   {
    "duration": 9,
    "start_time": "2022-12-19T07:48:53.107Z"
   },
   {
    "duration": 173,
    "start_time": "2022-12-19T07:48:53.118Z"
   },
   {
    "duration": 8,
    "start_time": "2022-12-19T07:48:53.293Z"
   },
   {
    "duration": 1508,
    "start_time": "2022-12-19T07:48:53.302Z"
   },
   {
    "duration": 9,
    "start_time": "2022-12-19T07:48:54.812Z"
   },
   {
    "duration": 33,
    "start_time": "2022-12-19T07:48:54.823Z"
   },
   {
    "duration": 14,
    "start_time": "2022-12-19T07:48:54.859Z"
   },
   {
    "duration": 16,
    "start_time": "2022-12-19T07:48:54.875Z"
   },
   {
    "duration": 18,
    "start_time": "2022-12-19T07:48:54.893Z"
   },
   {
    "duration": 10,
    "start_time": "2022-12-19T07:48:54.914Z"
   },
   {
    "duration": 186,
    "start_time": "2022-12-19T07:48:54.925Z"
   },
   {
    "duration": 6,
    "start_time": "2022-12-19T07:48:55.114Z"
   },
   {
    "duration": 10,
    "start_time": "2022-12-19T07:48:55.122Z"
   },
   {
    "duration": 147,
    "start_time": "2022-12-19T07:48:55.133Z"
   },
   {
    "duration": 348,
    "start_time": "2022-12-19T07:48:55.281Z"
   },
   {
    "duration": 10,
    "start_time": "2022-12-19T07:48:55.631Z"
   },
   {
    "duration": 7,
    "start_time": "2022-12-19T07:48:55.642Z"
   },
   {
    "duration": 557,
    "start_time": "2022-12-19T07:48:55.650Z"
   },
   {
    "duration": 95,
    "start_time": "2022-12-19T07:48:56.209Z"
   },
   {
    "duration": 9,
    "start_time": "2022-12-19T07:48:56.306Z"
   },
   {
    "duration": 177,
    "start_time": "2022-12-19T07:48:56.316Z"
   },
   {
    "duration": 18,
    "start_time": "2022-12-19T07:48:56.496Z"
   },
   {
    "duration": 358,
    "start_time": "2022-12-19T07:48:56.516Z"
   },
   {
    "duration": 123,
    "start_time": "2022-12-19T07:48:56.876Z"
   },
   {
    "duration": 151,
    "start_time": "2022-12-19T07:48:57.000Z"
   },
   {
    "duration": 20,
    "start_time": "2022-12-19T07:48:57.152Z"
   },
   {
    "duration": 28,
    "start_time": "2022-12-19T07:48:57.173Z"
   },
   {
    "duration": 10,
    "start_time": "2022-12-19T07:48:57.202Z"
   },
   {
    "duration": 7,
    "start_time": "2022-12-19T07:48:57.214Z"
   },
   {
    "duration": 7,
    "start_time": "2022-12-19T07:48:57.223Z"
   },
   {
    "duration": 23,
    "start_time": "2022-12-19T07:48:57.232Z"
   },
   {
    "duration": 8,
    "start_time": "2022-12-19T07:49:14.410Z"
   },
   {
    "duration": 48,
    "start_time": "2022-12-19T07:49:19.291Z"
   },
   {
    "duration": 5,
    "start_time": "2022-12-19T07:49:22.247Z"
   },
   {
    "duration": 8,
    "start_time": "2022-12-19T07:49:40.648Z"
   },
   {
    "duration": 4,
    "start_time": "2022-12-19T07:49:41.114Z"
   },
   {
    "duration": 4,
    "start_time": "2022-12-19T07:49:48.687Z"
   },
   {
    "duration": 21,
    "start_time": "2022-12-19T07:49:58.279Z"
   },
   {
    "duration": 4,
    "start_time": "2022-12-19T07:50:18.474Z"
   },
   {
    "duration": 8,
    "start_time": "2022-12-19T07:50:36.019Z"
   },
   {
    "duration": 4,
    "start_time": "2022-12-19T07:50:36.747Z"
   },
   {
    "duration": 12,
    "start_time": "2022-12-19T07:50:37.294Z"
   },
   {
    "duration": 20,
    "start_time": "2022-12-19T07:50:38.087Z"
   },
   {
    "duration": 4,
    "start_time": "2022-12-19T07:50:51.978Z"
   },
   {
    "duration": 1096,
    "start_time": "2022-12-19T07:51:01.710Z"
   },
   {
    "duration": 54,
    "start_time": "2022-12-19T07:51:02.808Z"
   },
   {
    "duration": 23,
    "start_time": "2022-12-19T07:51:02.866Z"
   },
   {
    "duration": 21,
    "start_time": "2022-12-19T07:51:02.890Z"
   },
   {
    "duration": 13,
    "start_time": "2022-12-19T07:51:02.913Z"
   },
   {
    "duration": 20,
    "start_time": "2022-12-19T07:51:02.928Z"
   },
   {
    "duration": 15,
    "start_time": "2022-12-19T07:51:02.950Z"
   },
   {
    "duration": 11,
    "start_time": "2022-12-19T07:51:02.967Z"
   },
   {
    "duration": 7,
    "start_time": "2022-12-19T07:51:02.980Z"
   },
   {
    "duration": 22,
    "start_time": "2022-12-19T07:51:02.988Z"
   },
   {
    "duration": 8,
    "start_time": "2022-12-19T07:51:03.012Z"
   },
   {
    "duration": 12,
    "start_time": "2022-12-19T07:51:03.022Z"
   },
   {
    "duration": 5,
    "start_time": "2022-12-19T07:51:03.036Z"
   },
   {
    "duration": 11,
    "start_time": "2022-12-19T07:51:03.043Z"
   },
   {
    "duration": 339,
    "start_time": "2022-12-19T07:51:03.056Z"
   },
   {
    "duration": 287,
    "start_time": "2022-12-19T07:51:03.397Z"
   },
   {
    "duration": 13,
    "start_time": "2022-12-19T07:51:03.686Z"
   },
   {
    "duration": 1856,
    "start_time": "2022-12-19T07:51:03.700Z"
   },
   {
    "duration": 8,
    "start_time": "2022-12-19T07:51:05.558Z"
   },
   {
    "duration": 184,
    "start_time": "2022-12-19T07:51:05.567Z"
   },
   {
    "duration": 4,
    "start_time": "2022-12-19T07:51:05.753Z"
   },
   {
    "duration": 1424,
    "start_time": "2022-12-19T07:51:05.759Z"
   },
   {
    "duration": 16,
    "start_time": "2022-12-19T07:51:07.185Z"
   },
   {
    "duration": 28,
    "start_time": "2022-12-19T07:51:07.203Z"
   },
   {
    "duration": 17,
    "start_time": "2022-12-19T07:51:07.232Z"
   },
   {
    "duration": 20,
    "start_time": "2022-12-19T07:51:07.250Z"
   },
   {
    "duration": 21,
    "start_time": "2022-12-19T07:51:07.273Z"
   },
   {
    "duration": 17,
    "start_time": "2022-12-19T07:51:07.295Z"
   },
   {
    "duration": 148,
    "start_time": "2022-12-19T07:51:07.313Z"
   },
   {
    "duration": 5,
    "start_time": "2022-12-19T07:51:07.463Z"
   },
   {
    "duration": 21,
    "start_time": "2022-12-19T07:51:07.469Z"
   },
   {
    "duration": 148,
    "start_time": "2022-12-19T07:51:07.491Z"
   },
   {
    "duration": 359,
    "start_time": "2022-12-19T07:51:07.640Z"
   },
   {
    "duration": 9,
    "start_time": "2022-12-19T07:51:08.001Z"
   },
   {
    "duration": 16,
    "start_time": "2022-12-19T07:51:08.011Z"
   },
   {
    "duration": 557,
    "start_time": "2022-12-19T07:51:08.029Z"
   },
   {
    "duration": 83,
    "start_time": "2022-12-19T07:51:08.587Z"
   },
   {
    "duration": 9,
    "start_time": "2022-12-19T07:51:08.671Z"
   },
   {
    "duration": 163,
    "start_time": "2022-12-19T07:51:08.681Z"
   },
   {
    "duration": 18,
    "start_time": "2022-12-19T07:51:08.845Z"
   },
   {
    "duration": 354,
    "start_time": "2022-12-19T07:51:08.865Z"
   },
   {
    "duration": 124,
    "start_time": "2022-12-19T07:51:09.221Z"
   },
   {
    "duration": 153,
    "start_time": "2022-12-19T07:51:09.346Z"
   },
   {
    "duration": 18,
    "start_time": "2022-12-19T07:51:09.501Z"
   },
   {
    "duration": 23,
    "start_time": "2022-12-19T07:51:09.521Z"
   },
   {
    "duration": 12,
    "start_time": "2022-12-19T07:51:09.545Z"
   },
   {
    "duration": 30,
    "start_time": "2022-12-19T07:51:09.559Z"
   },
   {
    "duration": 26,
    "start_time": "2022-12-19T07:51:09.590Z"
   },
   {
    "duration": 22,
    "start_time": "2022-12-19T07:51:09.617Z"
   },
   {
    "duration": 6,
    "start_time": "2022-12-19T07:51:09.640Z"
   },
   {
    "duration": 8,
    "start_time": "2022-12-19T07:51:09.647Z"
   },
   {
    "duration": 19,
    "start_time": "2022-12-19T07:51:09.656Z"
   },
   {
    "duration": 6,
    "start_time": "2022-12-19T07:51:33.629Z"
   },
   {
    "duration": 5,
    "start_time": "2022-12-19T07:51:34.231Z"
   },
   {
    "duration": 6,
    "start_time": "2022-12-19T07:51:34.729Z"
   },
   {
    "duration": 5,
    "start_time": "2022-12-19T07:51:35.620Z"
   },
   {
    "duration": 9,
    "start_time": "2022-12-19T07:52:11.465Z"
   },
   {
    "duration": 6,
    "start_time": "2022-12-19T07:52:11.889Z"
   },
   {
    "duration": 6,
    "start_time": "2022-12-19T07:52:12.324Z"
   },
   {
    "duration": 6,
    "start_time": "2022-12-19T07:52:13.169Z"
   },
   {
    "duration": 87,
    "start_time": "2022-12-19T07:52:15.556Z"
   },
   {
    "duration": 3,
    "start_time": "2022-12-19T07:53:20.625Z"
   },
   {
    "duration": 4,
    "start_time": "2022-12-19T07:53:27.437Z"
   },
   {
    "duration": 5,
    "start_time": "2022-12-19T07:53:29.223Z"
   },
   {
    "duration": 6,
    "start_time": "2022-12-19T07:54:23.780Z"
   },
   {
    "duration": 3,
    "start_time": "2022-12-19T07:54:24.285Z"
   },
   {
    "duration": 6,
    "start_time": "2022-12-19T07:54:24.827Z"
   },
   {
    "duration": 6,
    "start_time": "2022-12-19T07:54:28.954Z"
   },
   {
    "duration": 5,
    "start_time": "2022-12-19T07:54:29.510Z"
   },
   {
    "duration": 4,
    "start_time": "2022-12-19T07:54:30.203Z"
   },
   {
    "duration": 3,
    "start_time": "2022-12-19T07:54:31.005Z"
   },
   {
    "duration": 5,
    "start_time": "2022-12-19T07:57:17.722Z"
   },
   {
    "duration": 6,
    "start_time": "2022-12-19T07:57:29.381Z"
   },
   {
    "duration": 7,
    "start_time": "2022-12-19T07:57:31.904Z"
   },
   {
    "duration": 5,
    "start_time": "2022-12-19T07:57:32.345Z"
   },
   {
    "duration": 5,
    "start_time": "2022-12-19T07:57:32.935Z"
   },
   {
    "duration": 7,
    "start_time": "2022-12-19T08:02:09.474Z"
   },
   {
    "duration": 5,
    "start_time": "2022-12-19T08:02:10.086Z"
   },
   {
    "duration": 6,
    "start_time": "2022-12-19T08:06:46.775Z"
   },
   {
    "duration": 6,
    "start_time": "2022-12-19T08:06:47.474Z"
   },
   {
    "duration": 4,
    "start_time": "2022-12-19T08:06:48.093Z"
   },
   {
    "duration": 12,
    "start_time": "2022-12-19T08:07:02.616Z"
   },
   {
    "duration": 5,
    "start_time": "2022-12-19T08:07:02.913Z"
   },
   {
    "duration": 4,
    "start_time": "2022-12-19T08:07:05.246Z"
   },
   {
    "duration": 4,
    "start_time": "2022-12-19T08:07:33.448Z"
   },
   {
    "duration": 4,
    "start_time": "2022-12-19T08:07:34.164Z"
   },
   {
    "duration": 235,
    "start_time": "2022-12-19T08:07:34.410Z"
   },
   {
    "duration": 7,
    "start_time": "2022-12-19T08:08:30.043Z"
   },
   {
    "duration": 6,
    "start_time": "2022-12-19T08:09:12.482Z"
   },
   {
    "duration": 6,
    "start_time": "2022-12-19T08:09:12.970Z"
   },
   {
    "duration": 6,
    "start_time": "2022-12-19T08:10:37.912Z"
   },
   {
    "duration": 6,
    "start_time": "2022-12-19T08:10:38.364Z"
   },
   {
    "duration": 132,
    "start_time": "2022-12-19T08:10:39.710Z"
   },
   {
    "duration": 45,
    "start_time": "2022-12-19T08:22:27.304Z"
   },
   {
    "duration": 44,
    "start_time": "2022-12-19T08:22:32.128Z"
   },
   {
    "duration": 140,
    "start_time": "2022-12-19T08:22:38.246Z"
   },
   {
    "duration": 156,
    "start_time": "2022-12-19T08:22:44.077Z"
   },
   {
    "duration": 140,
    "start_time": "2022-12-19T08:22:54.198Z"
   },
   {
    "duration": 104,
    "start_time": "2022-12-19T08:52:54.980Z"
   },
   {
    "duration": 3,
    "start_time": "2022-12-19T08:54:16.251Z"
   },
   {
    "duration": 94,
    "start_time": "2022-12-19T08:54:28.714Z"
   },
   {
    "duration": 54,
    "start_time": "2022-12-19T08:56:19.091Z"
   },
   {
    "duration": 10,
    "start_time": "2022-12-19T08:56:31.335Z"
   },
   {
    "duration": 15,
    "start_time": "2022-12-19T08:56:37.533Z"
   },
   {
    "duration": 9,
    "start_time": "2022-12-19T08:57:35.118Z"
   },
   {
    "duration": 352,
    "start_time": "2022-12-19T08:58:40.545Z"
   },
   {
    "duration": 151,
    "start_time": "2022-12-19T09:01:21.638Z"
   },
   {
    "duration": 13,
    "start_time": "2022-12-19T09:08:33.671Z"
   },
   {
    "duration": 10,
    "start_time": "2022-12-19T09:08:39.031Z"
   },
   {
    "duration": 9,
    "start_time": "2022-12-19T09:08:46.022Z"
   },
   {
    "duration": 8,
    "start_time": "2022-12-19T09:08:54.764Z"
   },
   {
    "duration": 5,
    "start_time": "2022-12-19T09:09:25.190Z"
   },
   {
    "duration": 9,
    "start_time": "2022-12-19T09:09:36.679Z"
   },
   {
    "duration": 9,
    "start_time": "2022-12-19T09:09:41.999Z"
   },
   {
    "duration": 7,
    "start_time": "2022-12-19T09:09:48.422Z"
   },
   {
    "duration": 6,
    "start_time": "2022-12-19T09:10:03.740Z"
   },
   {
    "duration": 322,
    "start_time": "2022-12-19T09:11:51.695Z"
   },
   {
    "duration": 260,
    "start_time": "2022-12-19T09:12:23.227Z"
   },
   {
    "duration": 257,
    "start_time": "2022-12-19T09:13:25.763Z"
   },
   {
    "duration": 940,
    "start_time": "2022-12-19T09:14:05.322Z"
   },
   {
    "duration": 915,
    "start_time": "2022-12-19T09:14:17.493Z"
   },
   {
    "duration": 863,
    "start_time": "2022-12-19T09:14:20.398Z"
   },
   {
    "duration": 842,
    "start_time": "2022-12-19T09:14:21.278Z"
   },
   {
    "duration": 5,
    "start_time": "2022-12-19T09:14:22.302Z"
   },
   {
    "duration": 5,
    "start_time": "2022-12-19T09:14:22.453Z"
   },
   {
    "duration": 137,
    "start_time": "2022-12-19T09:14:23.336Z"
   },
   {
    "duration": 1058,
    "start_time": "2022-12-19T09:14:28.233Z"
   },
   {
    "duration": 54,
    "start_time": "2022-12-19T09:14:29.293Z"
   },
   {
    "duration": 22,
    "start_time": "2022-12-19T09:14:29.348Z"
   },
   {
    "duration": 12,
    "start_time": "2022-12-19T09:14:29.372Z"
   },
   {
    "duration": 3,
    "start_time": "2022-12-19T09:14:29.385Z"
   },
   {
    "duration": 10,
    "start_time": "2022-12-19T09:14:29.390Z"
   },
   {
    "duration": 13,
    "start_time": "2022-12-19T09:14:29.402Z"
   },
   {
    "duration": 7,
    "start_time": "2022-12-19T09:14:29.417Z"
   },
   {
    "duration": 5,
    "start_time": "2022-12-19T09:14:29.426Z"
   },
   {
    "duration": 29,
    "start_time": "2022-12-19T09:14:29.434Z"
   },
   {
    "duration": 7,
    "start_time": "2022-12-19T09:14:29.464Z"
   },
   {
    "duration": 25,
    "start_time": "2022-12-19T09:14:29.473Z"
   },
   {
    "duration": 4,
    "start_time": "2022-12-19T09:14:29.499Z"
   },
   {
    "duration": 10,
    "start_time": "2022-12-19T09:14:29.504Z"
   },
   {
    "duration": 351,
    "start_time": "2022-12-19T09:14:29.515Z"
   },
   {
    "duration": 281,
    "start_time": "2022-12-19T09:14:29.867Z"
   },
   {
    "duration": 6,
    "start_time": "2022-12-19T09:14:30.150Z"
   },
   {
    "duration": 1721,
    "start_time": "2022-12-19T09:14:30.157Z"
   },
   {
    "duration": 18,
    "start_time": "2022-12-19T09:14:31.879Z"
   },
   {
    "duration": 174,
    "start_time": "2022-12-19T09:14:31.899Z"
   },
   {
    "duration": 4,
    "start_time": "2022-12-19T09:14:32.075Z"
   },
   {
    "duration": 1395,
    "start_time": "2022-12-19T09:14:32.081Z"
   },
   {
    "duration": 7,
    "start_time": "2022-12-19T09:14:33.477Z"
   },
   {
    "duration": 16,
    "start_time": "2022-12-19T09:14:33.486Z"
   },
   {
    "duration": 4,
    "start_time": "2022-12-19T09:14:33.504Z"
   },
   {
    "duration": 8,
    "start_time": "2022-12-19T09:14:33.509Z"
   },
   {
    "duration": 8,
    "start_time": "2022-12-19T09:14:33.518Z"
   },
   {
    "duration": 6,
    "start_time": "2022-12-19T09:14:33.529Z"
   },
   {
    "duration": 169,
    "start_time": "2022-12-19T09:14:33.536Z"
   },
   {
    "duration": 5,
    "start_time": "2022-12-19T09:14:33.707Z"
   },
   {
    "duration": 10,
    "start_time": "2022-12-19T09:14:33.714Z"
   },
   {
    "duration": 149,
    "start_time": "2022-12-19T09:14:33.726Z"
   },
   {
    "duration": 334,
    "start_time": "2022-12-19T09:14:33.877Z"
   },
   {
    "duration": 8,
    "start_time": "2022-12-19T09:14:34.213Z"
   },
   {
    "duration": 8,
    "start_time": "2022-12-19T09:14:34.223Z"
   },
   {
    "duration": 526,
    "start_time": "2022-12-19T09:14:34.233Z"
   },
   {
    "duration": 95,
    "start_time": "2022-12-19T09:14:34.761Z"
   },
   {
    "duration": 8,
    "start_time": "2022-12-19T09:14:34.858Z"
   },
   {
    "duration": 208,
    "start_time": "2022-12-19T09:14:34.868Z"
   },
   {
    "duration": 34,
    "start_time": "2022-12-19T09:14:35.079Z"
   },
   {
    "duration": 341,
    "start_time": "2022-12-19T09:14:35.115Z"
   },
   {
    "duration": 134,
    "start_time": "2022-12-19T09:14:35.457Z"
   },
   {
    "duration": 167,
    "start_time": "2022-12-19T09:14:35.593Z"
   },
   {
    "duration": 5,
    "start_time": "2022-12-19T09:14:35.762Z"
   },
   {
    "duration": 10,
    "start_time": "2022-12-19T09:14:35.769Z"
   },
   {
    "duration": 17,
    "start_time": "2022-12-19T09:14:35.781Z"
   },
   {
    "duration": 7,
    "start_time": "2022-12-19T09:14:35.799Z"
   },
   {
    "duration": 14,
    "start_time": "2022-12-19T09:14:35.807Z"
   },
   {
    "duration": 269,
    "start_time": "2022-12-19T09:15:43.944Z"
   },
   {
    "duration": 203,
    "start_time": "2022-12-19T09:15:49.934Z"
   },
   {
    "duration": 177,
    "start_time": "2022-12-19T09:15:57.196Z"
   },
   {
    "duration": 161,
    "start_time": "2022-12-19T09:16:05.299Z"
   },
   {
    "duration": 4,
    "start_time": "2022-12-19T09:17:07.759Z"
   },
   {
    "duration": 360,
    "start_time": "2022-12-19T09:17:12.711Z"
   },
   {
    "duration": 114,
    "start_time": "2022-12-19T09:17:45.297Z"
   },
   {
    "duration": 154,
    "start_time": "2022-12-19T09:18:22.088Z"
   },
   {
    "duration": 7,
    "start_time": "2022-12-19T10:05:25.002Z"
   },
   {
    "duration": 5,
    "start_time": "2022-12-19T10:05:25.477Z"
   },
   {
    "duration": 1249,
    "start_time": "2022-12-19T10:36:36.738Z"
   },
   {
    "duration": 197,
    "start_time": "2022-12-19T10:36:38.414Z"
   },
   {
    "duration": 25,
    "start_time": "2022-12-19T10:36:55.754Z"
   },
   {
    "duration": 16,
    "start_time": "2022-12-19T10:41:44.850Z"
   },
   {
    "duration": 4,
    "start_time": "2022-12-19T10:41:45.837Z"
   },
   {
    "duration": 11,
    "start_time": "2022-12-19T10:41:46.356Z"
   },
   {
    "duration": 13,
    "start_time": "2022-12-19T10:41:57.459Z"
   },
   {
    "duration": 8,
    "start_time": "2022-12-19T10:41:57.771Z"
   },
   {
    "duration": 6,
    "start_time": "2022-12-19T10:41:59.636Z"
   },
   {
    "duration": 23,
    "start_time": "2022-12-19T10:42:00.524Z"
   },
   {
    "duration": 30,
    "start_time": "2022-12-19T10:44:26.932Z"
   },
   {
    "duration": 10,
    "start_time": "2022-12-19T10:45:03.538Z"
   },
   {
    "duration": 8,
    "start_time": "2022-12-19T10:45:04.462Z"
   },
   {
    "duration": 5,
    "start_time": "2022-12-19T10:45:06.175Z"
   },
   {
    "duration": 9,
    "start_time": "2022-12-19T10:45:06.369Z"
   },
   {
    "duration": 6,
    "start_time": "2022-12-19T10:47:23.809Z"
   },
   {
    "duration": 5,
    "start_time": "2022-12-19T10:47:24.580Z"
   },
   {
    "duration": 11,
    "start_time": "2022-12-19T10:47:25.939Z"
   },
   {
    "duration": 8,
    "start_time": "2022-12-19T10:49:04.738Z"
   },
   {
    "duration": 352,
    "start_time": "2022-12-19T10:55:10.191Z"
   },
   {
    "duration": 316,
    "start_time": "2022-12-19T10:55:13.980Z"
   },
   {
    "duration": 5,
    "start_time": "2022-12-19T10:55:16.221Z"
   },
   {
    "duration": 1753,
    "start_time": "2022-12-19T10:55:16.429Z"
   },
   {
    "duration": 9,
    "start_time": "2022-12-19T10:55:22.573Z"
   },
   {
    "duration": 171,
    "start_time": "2022-12-19T10:57:59.324Z"
   },
   {
    "duration": 4,
    "start_time": "2022-12-19T10:58:03.708Z"
   },
   {
    "duration": 1508,
    "start_time": "2022-12-19T10:58:03.881Z"
   },
   {
    "duration": 6,
    "start_time": "2022-12-19T10:58:12.438Z"
   },
   {
    "duration": 7,
    "start_time": "2022-12-19T10:58:16.138Z"
   },
   {
    "duration": 5,
    "start_time": "2022-12-19T10:58:16.539Z"
   },
   {
    "duration": 7,
    "start_time": "2022-12-19T10:58:16.942Z"
   },
   {
    "duration": 4,
    "start_time": "2022-12-19T10:58:17.246Z"
   },
   {
    "duration": 4,
    "start_time": "2022-12-19T10:58:17.623Z"
   },
   {
    "duration": 186,
    "start_time": "2022-12-19T10:58:19.003Z"
   },
   {
    "duration": 4,
    "start_time": "2022-12-19T11:00:18.729Z"
   },
   {
    "duration": 167,
    "start_time": "2022-12-19T11:00:19.203Z"
   },
   {
    "duration": 5,
    "start_time": "2022-12-19T11:00:26.214Z"
   },
   {
    "duration": 6,
    "start_time": "2022-12-19T11:00:26.461Z"
   },
   {
    "duration": 254,
    "start_time": "2022-12-19T11:00:26.738Z"
   },
   {
    "duration": 6,
    "start_time": "2022-12-19T11:09:17.102Z"
   },
   {
    "duration": 6,
    "start_time": "2022-12-19T11:09:17.395Z"
   },
   {
    "duration": 143,
    "start_time": "2022-12-19T11:09:17.705Z"
   },
   {
    "duration": 247,
    "start_time": "2022-12-19T11:09:20.272Z"
   },
   {
    "duration": 9,
    "start_time": "2022-12-19T11:09:27.101Z"
   },
   {
    "duration": 4,
    "start_time": "2022-12-19T11:09:27.354Z"
   },
   {
    "duration": 534,
    "start_time": "2022-12-19T11:09:27.569Z"
   },
   {
    "duration": 80,
    "start_time": "2022-12-19T11:09:33.517Z"
   },
   {
    "duration": 9,
    "start_time": "2022-12-19T11:11:02.504Z"
   },
   {
    "duration": 169,
    "start_time": "2022-12-19T11:11:02.878Z"
   },
   {
    "duration": 19,
    "start_time": "2022-12-19T11:11:58.452Z"
   },
   {
    "duration": 354,
    "start_time": "2022-12-19T11:11:58.684Z"
   },
   {
    "duration": 208,
    "start_time": "2022-12-19T11:12:20.135Z"
   },
   {
    "duration": 188,
    "start_time": "2022-12-19T11:12:22.981Z"
   },
   {
    "duration": 5,
    "start_time": "2022-12-19T11:12:38.404Z"
   },
   {
    "duration": 2,
    "start_time": "2022-12-19T11:12:38.712Z"
   },
   {
    "duration": 7,
    "start_time": "2022-12-19T11:12:39.007Z"
   },
   {
    "duration": 7,
    "start_time": "2022-12-19T11:12:43.328Z"
   },
   {
    "duration": 5,
    "start_time": "2022-12-19T11:12:43.575Z"
   },
   {
    "duration": 49,
    "start_time": "2022-12-20T08:49:49.137Z"
   },
   {
    "duration": 1301,
    "start_time": "2022-12-20T08:49:57.338Z"
   },
   {
    "duration": 106,
    "start_time": "2022-12-20T08:49:58.642Z"
   },
   {
    "duration": 24,
    "start_time": "2022-12-20T08:49:58.750Z"
   },
   {
    "duration": 115,
    "start_time": "2022-12-20T08:49:58.775Z"
   },
   {
    "duration": 0,
    "start_time": "2022-12-20T08:49:58.899Z"
   },
   {
    "duration": 0,
    "start_time": "2022-12-20T08:49:58.900Z"
   },
   {
    "duration": 0,
    "start_time": "2022-12-20T08:49:58.904Z"
   },
   {
    "duration": 0,
    "start_time": "2022-12-20T08:49:58.905Z"
   },
   {
    "duration": 0,
    "start_time": "2022-12-20T08:49:58.906Z"
   },
   {
    "duration": 0,
    "start_time": "2022-12-20T08:49:58.908Z"
   },
   {
    "duration": 0,
    "start_time": "2022-12-20T08:49:58.909Z"
   },
   {
    "duration": 0,
    "start_time": "2022-12-20T08:49:58.910Z"
   },
   {
    "duration": 0,
    "start_time": "2022-12-20T08:49:58.912Z"
   },
   {
    "duration": 0,
    "start_time": "2022-12-20T08:49:58.913Z"
   },
   {
    "duration": 0,
    "start_time": "2022-12-20T08:49:58.914Z"
   },
   {
    "duration": 0,
    "start_time": "2022-12-20T08:49:58.915Z"
   },
   {
    "duration": 0,
    "start_time": "2022-12-20T08:49:58.917Z"
   },
   {
    "duration": 0,
    "start_time": "2022-12-20T08:49:58.918Z"
   },
   {
    "duration": 0,
    "start_time": "2022-12-20T08:49:58.919Z"
   },
   {
    "duration": 0,
    "start_time": "2022-12-20T08:49:58.921Z"
   },
   {
    "duration": 0,
    "start_time": "2022-12-20T08:49:58.922Z"
   },
   {
    "duration": 0,
    "start_time": "2022-12-20T08:49:58.924Z"
   },
   {
    "duration": 0,
    "start_time": "2022-12-20T08:49:58.925Z"
   },
   {
    "duration": 0,
    "start_time": "2022-12-20T08:49:58.927Z"
   },
   {
    "duration": 0,
    "start_time": "2022-12-20T08:49:58.930Z"
   },
   {
    "duration": 0,
    "start_time": "2022-12-20T08:49:58.931Z"
   },
   {
    "duration": 0,
    "start_time": "2022-12-20T08:49:58.932Z"
   },
   {
    "duration": 0,
    "start_time": "2022-12-20T08:49:58.934Z"
   },
   {
    "duration": 0,
    "start_time": "2022-12-20T08:49:58.936Z"
   },
   {
    "duration": 0,
    "start_time": "2022-12-20T08:49:58.937Z"
   },
   {
    "duration": 0,
    "start_time": "2022-12-20T08:49:58.939Z"
   },
   {
    "duration": 0,
    "start_time": "2022-12-20T08:49:58.940Z"
   },
   {
    "duration": 0,
    "start_time": "2022-12-20T08:49:58.998Z"
   },
   {
    "duration": 1,
    "start_time": "2022-12-20T08:49:58.999Z"
   },
   {
    "duration": 0,
    "start_time": "2022-12-20T08:49:59.001Z"
   },
   {
    "duration": 0,
    "start_time": "2022-12-20T08:49:59.002Z"
   },
   {
    "duration": 0,
    "start_time": "2022-12-20T08:49:59.005Z"
   },
   {
    "duration": 0,
    "start_time": "2022-12-20T08:49:59.006Z"
   },
   {
    "duration": 0,
    "start_time": "2022-12-20T08:49:59.007Z"
   },
   {
    "duration": 0,
    "start_time": "2022-12-20T08:49:59.009Z"
   },
   {
    "duration": 0,
    "start_time": "2022-12-20T08:49:59.010Z"
   },
   {
    "duration": 0,
    "start_time": "2022-12-20T08:49:59.012Z"
   },
   {
    "duration": 0,
    "start_time": "2022-12-20T08:49:59.013Z"
   },
   {
    "duration": 0,
    "start_time": "2022-12-20T08:49:59.014Z"
   },
   {
    "duration": 0,
    "start_time": "2022-12-20T08:49:59.015Z"
   },
   {
    "duration": 0,
    "start_time": "2022-12-20T08:49:59.016Z"
   },
   {
    "duration": 0,
    "start_time": "2022-12-20T08:49:59.017Z"
   },
   {
    "duration": 0,
    "start_time": "2022-12-20T08:49:59.018Z"
   },
   {
    "duration": 0,
    "start_time": "2022-12-20T08:49:59.020Z"
   },
   {
    "duration": 10,
    "start_time": "2022-12-20T08:50:06.865Z"
   },
   {
    "duration": 40,
    "start_time": "2022-12-20T08:50:14.663Z"
   },
   {
    "duration": 18,
    "start_time": "2022-12-20T09:01:19.267Z"
   },
   {
    "duration": 16,
    "start_time": "2022-12-20T09:02:09.957Z"
   },
   {
    "duration": 9,
    "start_time": "2022-12-20T09:07:06.547Z"
   },
   {
    "duration": 72,
    "start_time": "2022-12-20T09:07:25.712Z"
   },
   {
    "duration": 5,
    "start_time": "2022-12-20T09:07:30.374Z"
   },
   {
    "duration": 9,
    "start_time": "2022-12-20T09:07:36.663Z"
   },
   {
    "duration": 9,
    "start_time": "2022-12-20T09:07:49.375Z"
   },
   {
    "duration": 12,
    "start_time": "2022-12-20T09:08:00.049Z"
   },
   {
    "duration": 22,
    "start_time": "2022-12-20T09:08:29.173Z"
   },
   {
    "duration": 73,
    "start_time": "2022-12-20T09:12:11.873Z"
   },
   {
    "duration": 734,
    "start_time": "2022-12-20T09:14:07.089Z"
   },
   {
    "duration": 3,
    "start_time": "2022-12-20T09:14:15.433Z"
   },
   {
    "duration": 52,
    "start_time": "2022-12-20T09:14:16.146Z"
   },
   {
    "duration": 19,
    "start_time": "2022-12-20T09:14:16.313Z"
   },
   {
    "duration": 31,
    "start_time": "2022-12-20T09:14:16.537Z"
   },
   {
    "duration": 17,
    "start_time": "2022-12-20T09:14:17.093Z"
   },
   {
    "duration": 33,
    "start_time": "2022-12-20T09:14:18.024Z"
   },
   {
    "duration": 17,
    "start_time": "2022-12-20T09:14:20.522Z"
   },
   {
    "duration": 4,
    "start_time": "2022-12-20T09:14:21.033Z"
   },
   {
    "duration": 13,
    "start_time": "2022-12-20T09:14:21.632Z"
   },
   {
    "duration": 16,
    "start_time": "2022-12-20T09:14:22.233Z"
   },
   {
    "duration": 7,
    "start_time": "2022-12-20T09:14:22.693Z"
   },
   {
    "duration": 6,
    "start_time": "2022-12-20T09:14:23.462Z"
   },
   {
    "duration": 6,
    "start_time": "2022-12-20T09:14:37.893Z"
   },
   {
    "duration": 6,
    "start_time": "2022-12-20T09:15:18.450Z"
   },
   {
    "duration": 23,
    "start_time": "2022-12-20T09:17:15.586Z"
   },
   {
    "duration": 18,
    "start_time": "2022-12-20T09:17:23.661Z"
   },
   {
    "duration": 1060,
    "start_time": "2022-12-20T09:17:36.417Z"
   },
   {
    "duration": 51,
    "start_time": "2022-12-20T09:17:37.479Z"
   },
   {
    "duration": 22,
    "start_time": "2022-12-20T09:17:37.532Z"
   },
   {
    "duration": 26,
    "start_time": "2022-12-20T09:17:37.556Z"
   },
   {
    "duration": 23,
    "start_time": "2022-12-20T09:17:37.583Z"
   },
   {
    "duration": 20,
    "start_time": "2022-12-20T09:17:37.608Z"
   },
   {
    "duration": 13,
    "start_time": "2022-12-20T09:17:37.629Z"
   },
   {
    "duration": 3,
    "start_time": "2022-12-20T09:17:37.643Z"
   },
   {
    "duration": 16,
    "start_time": "2022-12-20T09:17:37.647Z"
   },
   {
    "duration": 34,
    "start_time": "2022-12-20T09:17:37.664Z"
   },
   {
    "duration": 7,
    "start_time": "2022-12-20T09:17:37.699Z"
   },
   {
    "duration": 113,
    "start_time": "2022-12-20T09:17:37.707Z"
   },
   {
    "duration": 0,
    "start_time": "2022-12-20T09:17:37.824Z"
   },
   {
    "duration": 0,
    "start_time": "2022-12-20T09:17:37.826Z"
   },
   {
    "duration": 0,
    "start_time": "2022-12-20T09:17:37.827Z"
   },
   {
    "duration": 0,
    "start_time": "2022-12-20T09:17:37.828Z"
   },
   {
    "duration": 0,
    "start_time": "2022-12-20T09:17:37.829Z"
   },
   {
    "duration": 0,
    "start_time": "2022-12-20T09:17:37.830Z"
   },
   {
    "duration": 0,
    "start_time": "2022-12-20T09:17:37.832Z"
   },
   {
    "duration": 0,
    "start_time": "2022-12-20T09:17:37.833Z"
   },
   {
    "duration": 0,
    "start_time": "2022-12-20T09:17:37.834Z"
   },
   {
    "duration": 0,
    "start_time": "2022-12-20T09:17:37.835Z"
   },
   {
    "duration": 0,
    "start_time": "2022-12-20T09:17:37.836Z"
   },
   {
    "duration": 0,
    "start_time": "2022-12-20T09:17:37.837Z"
   },
   {
    "duration": 0,
    "start_time": "2022-12-20T09:17:37.839Z"
   },
   {
    "duration": 0,
    "start_time": "2022-12-20T09:17:37.839Z"
   },
   {
    "duration": 0,
    "start_time": "2022-12-20T09:17:37.840Z"
   },
   {
    "duration": 0,
    "start_time": "2022-12-20T09:17:37.841Z"
   },
   {
    "duration": 0,
    "start_time": "2022-12-20T09:17:37.842Z"
   },
   {
    "duration": 0,
    "start_time": "2022-12-20T09:17:37.843Z"
   },
   {
    "duration": 0,
    "start_time": "2022-12-20T09:17:37.844Z"
   },
   {
    "duration": 0,
    "start_time": "2022-12-20T09:17:37.845Z"
   },
   {
    "duration": 0,
    "start_time": "2022-12-20T09:17:37.846Z"
   },
   {
    "duration": 0,
    "start_time": "2022-12-20T09:17:37.847Z"
   },
   {
    "duration": 0,
    "start_time": "2022-12-20T09:17:37.848Z"
   },
   {
    "duration": 0,
    "start_time": "2022-12-20T09:17:37.850Z"
   },
   {
    "duration": 0,
    "start_time": "2022-12-20T09:17:37.851Z"
   },
   {
    "duration": 0,
    "start_time": "2022-12-20T09:17:37.852Z"
   },
   {
    "duration": 0,
    "start_time": "2022-12-20T09:17:37.853Z"
   },
   {
    "duration": 0,
    "start_time": "2022-12-20T09:17:37.898Z"
   },
   {
    "duration": 0,
    "start_time": "2022-12-20T09:17:37.899Z"
   },
   {
    "duration": 0,
    "start_time": "2022-12-20T09:17:37.900Z"
   },
   {
    "duration": 0,
    "start_time": "2022-12-20T09:17:37.902Z"
   },
   {
    "duration": 0,
    "start_time": "2022-12-20T09:17:37.903Z"
   },
   {
    "duration": 0,
    "start_time": "2022-12-20T09:17:37.904Z"
   },
   {
    "duration": 0,
    "start_time": "2022-12-20T09:17:37.905Z"
   },
   {
    "duration": 0,
    "start_time": "2022-12-20T09:17:37.906Z"
   },
   {
    "duration": 0,
    "start_time": "2022-12-20T09:17:37.908Z"
   },
   {
    "duration": 0,
    "start_time": "2022-12-20T09:17:37.909Z"
   },
   {
    "duration": 0,
    "start_time": "2022-12-20T09:17:37.910Z"
   },
   {
    "duration": 0,
    "start_time": "2022-12-20T09:17:37.911Z"
   },
   {
    "duration": 10,
    "start_time": "2022-12-20T09:17:57.909Z"
   },
   {
    "duration": 11,
    "start_time": "2022-12-20T09:18:11.995Z"
   },
   {
    "duration": 9,
    "start_time": "2022-12-20T09:18:16.187Z"
   },
   {
    "duration": 21,
    "start_time": "2022-12-20T09:20:08.131Z"
   },
   {
    "duration": 7,
    "start_time": "2022-12-20T09:20:58.325Z"
   },
   {
    "duration": 5,
    "start_time": "2022-12-20T09:21:24.131Z"
   },
   {
    "duration": 7,
    "start_time": "2022-12-20T09:21:25.472Z"
   },
   {
    "duration": 51,
    "start_time": "2022-12-20T09:25:04.491Z"
   },
   {
    "duration": 16,
    "start_time": "2022-12-20T09:25:09.171Z"
   },
   {
    "duration": 8,
    "start_time": "2022-12-20T09:25:41.164Z"
   },
   {
    "duration": 10,
    "start_time": "2022-12-20T09:25:47.074Z"
   },
   {
    "duration": 15,
    "start_time": "2022-12-20T09:26:01.991Z"
   },
   {
    "duration": 187,
    "start_time": "2022-12-20T09:26:43.298Z"
   },
   {
    "duration": 18,
    "start_time": "2022-12-20T09:26:54.067Z"
   },
   {
    "duration": 22,
    "start_time": "2022-12-20T09:27:12.239Z"
   },
   {
    "duration": 8,
    "start_time": "2022-12-20T09:28:57.036Z"
   },
   {
    "duration": 7,
    "start_time": "2022-12-20T09:29:08.521Z"
   },
   {
    "duration": 9,
    "start_time": "2022-12-20T09:29:13.460Z"
   },
   {
    "duration": 7,
    "start_time": "2022-12-20T09:29:15.445Z"
   },
   {
    "duration": 1107,
    "start_time": "2022-12-20T09:29:20.113Z"
   },
   {
    "duration": 54,
    "start_time": "2022-12-20T09:29:21.222Z"
   },
   {
    "duration": 31,
    "start_time": "2022-12-20T09:29:21.278Z"
   },
   {
    "duration": 36,
    "start_time": "2022-12-20T09:29:21.312Z"
   },
   {
    "duration": 24,
    "start_time": "2022-12-20T09:29:21.351Z"
   },
   {
    "duration": 52,
    "start_time": "2022-12-20T09:29:21.377Z"
   },
   {
    "duration": 19,
    "start_time": "2022-12-20T09:29:21.433Z"
   },
   {
    "duration": 3,
    "start_time": "2022-12-20T09:29:21.454Z"
   },
   {
    "duration": 41,
    "start_time": "2022-12-20T09:29:21.458Z"
   },
   {
    "duration": 14,
    "start_time": "2022-12-20T09:29:21.502Z"
   },
   {
    "duration": 17,
    "start_time": "2022-12-20T09:29:21.518Z"
   },
   {
    "duration": 10,
    "start_time": "2022-12-20T09:29:21.537Z"
   },
   {
    "duration": 22,
    "start_time": "2022-12-20T09:29:21.549Z"
   },
   {
    "duration": 28,
    "start_time": "2022-12-20T09:29:21.573Z"
   },
   {
    "duration": 10,
    "start_time": "2022-12-20T09:29:21.603Z"
   },
   {
    "duration": 5,
    "start_time": "2022-12-20T09:29:21.614Z"
   },
   {
    "duration": 14,
    "start_time": "2022-12-20T09:29:21.621Z"
   },
   {
    "duration": 13,
    "start_time": "2022-12-20T09:29:21.637Z"
   },
   {
    "duration": 11,
    "start_time": "2022-12-20T09:29:21.652Z"
   },
   {
    "duration": 37,
    "start_time": "2022-12-20T09:29:21.664Z"
   },
   {
    "duration": 364,
    "start_time": "2022-12-20T09:29:21.703Z"
   },
   {
    "duration": 271,
    "start_time": "2022-12-20T09:29:22.069Z"
   },
   {
    "duration": 5,
    "start_time": "2022-12-20T09:29:22.342Z"
   },
   {
    "duration": 1820,
    "start_time": "2022-12-20T09:29:22.348Z"
   },
   {
    "duration": 9,
    "start_time": "2022-12-20T09:29:24.170Z"
   },
   {
    "duration": 196,
    "start_time": "2022-12-20T09:29:24.181Z"
   },
   {
    "duration": 5,
    "start_time": "2022-12-20T09:29:24.378Z"
   },
   {
    "duration": 1630,
    "start_time": "2022-12-20T09:29:24.397Z"
   },
   {
    "duration": 8,
    "start_time": "2022-12-20T09:29:26.028Z"
   },
   {
    "duration": 11,
    "start_time": "2022-12-20T09:29:26.038Z"
   },
   {
    "duration": 12,
    "start_time": "2022-12-20T09:29:26.051Z"
   },
   {
    "duration": 9,
    "start_time": "2022-12-20T09:29:26.065Z"
   },
   {
    "duration": 6,
    "start_time": "2022-12-20T09:29:26.076Z"
   },
   {
    "duration": 8,
    "start_time": "2022-12-20T09:29:26.097Z"
   },
   {
    "duration": 164,
    "start_time": "2022-12-20T09:29:26.106Z"
   },
   {
    "duration": 5,
    "start_time": "2022-12-20T09:29:26.272Z"
   },
   {
    "duration": 20,
    "start_time": "2022-12-20T09:29:26.279Z"
   },
   {
    "duration": 146,
    "start_time": "2022-12-20T09:29:26.300Z"
   },
   {
    "duration": 339,
    "start_time": "2022-12-20T09:29:26.448Z"
   },
   {
    "duration": 14,
    "start_time": "2022-12-20T09:29:26.789Z"
   },
   {
    "duration": 4,
    "start_time": "2022-12-20T09:29:26.806Z"
   },
   {
    "duration": 568,
    "start_time": "2022-12-20T09:29:26.811Z"
   },
   {
    "duration": 95,
    "start_time": "2022-12-20T09:29:27.381Z"
   },
   {
    "duration": 21,
    "start_time": "2022-12-20T09:29:27.478Z"
   },
   {
    "duration": 183,
    "start_time": "2022-12-20T09:29:27.502Z"
   },
   {
    "duration": 27,
    "start_time": "2022-12-20T09:29:27.687Z"
   },
   {
    "duration": 390,
    "start_time": "2022-12-20T09:29:27.715Z"
   },
   {
    "duration": 133,
    "start_time": "2022-12-20T09:29:28.107Z"
   },
   {
    "duration": 182,
    "start_time": "2022-12-20T09:29:28.242Z"
   },
   {
    "duration": 6,
    "start_time": "2022-12-20T09:29:28.426Z"
   },
   {
    "duration": 9,
    "start_time": "2022-12-20T09:29:28.434Z"
   },
   {
    "duration": 10,
    "start_time": "2022-12-20T09:29:28.445Z"
   },
   {
    "duration": 13,
    "start_time": "2022-12-20T09:29:28.456Z"
   },
   {
    "duration": 14,
    "start_time": "2022-12-20T09:29:28.470Z"
   },
   {
    "duration": 45,
    "start_time": "2022-12-20T09:29:44.770Z"
   },
   {
    "duration": 6,
    "start_time": "2022-12-20T09:29:49.100Z"
   },
   {
    "duration": 9,
    "start_time": "2022-12-20T09:29:49.834Z"
   },
   {
    "duration": 13,
    "start_time": "2022-12-20T09:30:54.867Z"
   },
   {
    "duration": 9,
    "start_time": "2022-12-20T09:30:55.439Z"
   },
   {
    "duration": 22,
    "start_time": "2022-12-20T09:31:20.161Z"
   },
   {
    "duration": 17,
    "start_time": "2022-12-20T09:31:32.531Z"
   },
   {
    "duration": 10,
    "start_time": "2022-12-20T09:35:09.346Z"
   },
   {
    "duration": 281,
    "start_time": "2022-12-20T09:35:11.467Z"
   },
   {
    "duration": 1220,
    "start_time": "2022-12-20T09:40:01.487Z"
   },
   {
    "duration": 54,
    "start_time": "2022-12-20T09:40:02.709Z"
   },
   {
    "duration": 29,
    "start_time": "2022-12-20T09:40:02.764Z"
   },
   {
    "duration": 35,
    "start_time": "2022-12-20T09:40:02.795Z"
   },
   {
    "duration": 29,
    "start_time": "2022-12-20T09:40:02.832Z"
   },
   {
    "duration": 36,
    "start_time": "2022-12-20T09:40:02.863Z"
   },
   {
    "duration": 14,
    "start_time": "2022-12-20T09:40:02.901Z"
   },
   {
    "duration": 20,
    "start_time": "2022-12-20T09:40:02.916Z"
   },
   {
    "duration": 35,
    "start_time": "2022-12-20T09:40:02.938Z"
   },
   {
    "duration": 22,
    "start_time": "2022-12-20T09:40:02.975Z"
   },
   {
    "duration": 36,
    "start_time": "2022-12-20T09:40:02.998Z"
   },
   {
    "duration": 25,
    "start_time": "2022-12-20T09:40:03.036Z"
   },
   {
    "duration": 54,
    "start_time": "2022-12-20T09:40:03.063Z"
   },
   {
    "duration": 20,
    "start_time": "2022-12-20T09:40:03.119Z"
   },
   {
    "duration": 41,
    "start_time": "2022-12-20T09:40:03.141Z"
   },
   {
    "duration": 17,
    "start_time": "2022-12-20T09:40:03.184Z"
   },
   {
    "duration": 33,
    "start_time": "2022-12-20T09:40:03.202Z"
   },
   {
    "duration": 25,
    "start_time": "2022-12-20T09:40:03.237Z"
   },
   {
    "duration": 26,
    "start_time": "2022-12-20T09:40:03.263Z"
   },
   {
    "duration": 19,
    "start_time": "2022-12-20T09:40:03.291Z"
   },
   {
    "duration": 326,
    "start_time": "2022-12-20T09:40:03.312Z"
   },
   {
    "duration": 278,
    "start_time": "2022-12-20T09:40:03.639Z"
   },
   {
    "duration": 7,
    "start_time": "2022-12-20T09:40:03.919Z"
   },
   {
    "duration": 1850,
    "start_time": "2022-12-20T09:40:03.942Z"
   },
   {
    "duration": 10,
    "start_time": "2022-12-20T09:40:05.794Z"
   },
   {
    "duration": 193,
    "start_time": "2022-12-20T09:40:05.806Z"
   },
   {
    "duration": 4,
    "start_time": "2022-12-20T09:40:06.001Z"
   },
   {
    "duration": 1446,
    "start_time": "2022-12-20T09:40:06.008Z"
   },
   {
    "duration": 7,
    "start_time": "2022-12-20T09:40:07.455Z"
   },
   {
    "duration": 18,
    "start_time": "2022-12-20T09:40:07.464Z"
   },
   {
    "duration": 13,
    "start_time": "2022-12-20T09:40:07.484Z"
   },
   {
    "duration": 9,
    "start_time": "2022-12-20T09:40:07.499Z"
   },
   {
    "duration": 10,
    "start_time": "2022-12-20T09:40:07.509Z"
   },
   {
    "duration": 10,
    "start_time": "2022-12-20T09:40:07.521Z"
   },
   {
    "duration": 153,
    "start_time": "2022-12-20T09:40:07.532Z"
   },
   {
    "duration": 14,
    "start_time": "2022-12-20T09:40:07.686Z"
   },
   {
    "duration": 6,
    "start_time": "2022-12-20T09:40:07.702Z"
   },
   {
    "duration": 148,
    "start_time": "2022-12-20T09:40:07.710Z"
   },
   {
    "duration": 350,
    "start_time": "2022-12-20T09:40:07.859Z"
   },
   {
    "duration": 9,
    "start_time": "2022-12-20T09:40:08.211Z"
   },
   {
    "duration": 5,
    "start_time": "2022-12-20T09:40:08.222Z"
   },
   {
    "duration": 542,
    "start_time": "2022-12-20T09:40:08.228Z"
   },
   {
    "duration": 88,
    "start_time": "2022-12-20T09:40:08.772Z"
   },
   {
    "duration": 7,
    "start_time": "2022-12-20T09:40:08.862Z"
   },
   {
    "duration": 203,
    "start_time": "2022-12-20T09:40:08.870Z"
   },
   {
    "duration": 26,
    "start_time": "2022-12-20T09:40:09.075Z"
   },
   {
    "duration": 376,
    "start_time": "2022-12-20T09:40:09.102Z"
   },
   {
    "duration": 139,
    "start_time": "2022-12-20T09:40:09.480Z"
   },
   {
    "duration": 180,
    "start_time": "2022-12-20T09:40:09.620Z"
   },
   {
    "duration": 5,
    "start_time": "2022-12-20T09:40:09.802Z"
   },
   {
    "duration": 5,
    "start_time": "2022-12-20T09:40:09.809Z"
   },
   {
    "duration": 8,
    "start_time": "2022-12-20T09:40:09.815Z"
   },
   {
    "duration": 8,
    "start_time": "2022-12-20T09:40:09.825Z"
   },
   {
    "duration": 6,
    "start_time": "2022-12-20T09:40:09.834Z"
   },
   {
    "duration": 8,
    "start_time": "2022-12-20T09:45:34.359Z"
   },
   {
    "duration": 7,
    "start_time": "2022-12-20T09:45:44.889Z"
   },
   {
    "duration": 7,
    "start_time": "2022-12-20T09:45:59.547Z"
   },
   {
    "duration": 10,
    "start_time": "2022-12-20T09:46:57.467Z"
   },
   {
    "duration": 9,
    "start_time": "2022-12-20T09:48:31.195Z"
   },
   {
    "duration": 8,
    "start_time": "2022-12-20T09:48:33.872Z"
   },
   {
    "duration": 7,
    "start_time": "2022-12-20T09:48:37.797Z"
   },
   {
    "duration": 8,
    "start_time": "2022-12-20T09:48:46.854Z"
   },
   {
    "duration": 1118,
    "start_time": "2022-12-20T09:48:52.937Z"
   },
   {
    "duration": 53,
    "start_time": "2022-12-20T09:48:54.057Z"
   },
   {
    "duration": 30,
    "start_time": "2022-12-20T09:48:54.116Z"
   },
   {
    "duration": 35,
    "start_time": "2022-12-20T09:48:54.148Z"
   },
   {
    "duration": 15,
    "start_time": "2022-12-20T09:48:54.197Z"
   },
   {
    "duration": 20,
    "start_time": "2022-12-20T09:48:54.214Z"
   },
   {
    "duration": 17,
    "start_time": "2022-12-20T09:48:54.236Z"
   },
   {
    "duration": 11,
    "start_time": "2022-12-20T09:48:54.255Z"
   },
   {
    "duration": 30,
    "start_time": "2022-12-20T09:48:54.268Z"
   },
   {
    "duration": 24,
    "start_time": "2022-12-20T09:48:54.299Z"
   },
   {
    "duration": 21,
    "start_time": "2022-12-20T09:48:54.325Z"
   },
   {
    "duration": 24,
    "start_time": "2022-12-20T09:48:54.348Z"
   },
   {
    "duration": 35,
    "start_time": "2022-12-20T09:48:54.374Z"
   },
   {
    "duration": 8,
    "start_time": "2022-12-20T09:48:54.410Z"
   },
   {
    "duration": 20,
    "start_time": "2022-12-20T09:48:54.419Z"
   },
   {
    "duration": 7,
    "start_time": "2022-12-20T09:48:54.440Z"
   },
   {
    "duration": 26,
    "start_time": "2022-12-20T09:48:54.449Z"
   },
   {
    "duration": 22,
    "start_time": "2022-12-20T09:48:54.477Z"
   },
   {
    "duration": 16,
    "start_time": "2022-12-20T09:48:54.500Z"
   },
   {
    "duration": 20,
    "start_time": "2022-12-20T09:48:54.518Z"
   },
   {
    "duration": 376,
    "start_time": "2022-12-20T09:48:54.539Z"
   },
   {
    "duration": 304,
    "start_time": "2022-12-20T09:48:54.918Z"
   },
   {
    "duration": 5,
    "start_time": "2022-12-20T09:48:55.223Z"
   },
   {
    "duration": 1794,
    "start_time": "2022-12-20T09:48:55.230Z"
   },
   {
    "duration": 9,
    "start_time": "2022-12-20T09:48:57.026Z"
   },
   {
    "duration": 176,
    "start_time": "2022-12-20T09:48:57.037Z"
   },
   {
    "duration": 3,
    "start_time": "2022-12-20T09:48:57.217Z"
   },
   {
    "duration": 1454,
    "start_time": "2022-12-20T09:48:57.221Z"
   },
   {
    "duration": 8,
    "start_time": "2022-12-20T09:48:58.676Z"
   },
   {
    "duration": 21,
    "start_time": "2022-12-20T09:48:58.685Z"
   },
   {
    "duration": 5,
    "start_time": "2022-12-20T09:48:58.707Z"
   },
   {
    "duration": 11,
    "start_time": "2022-12-20T09:48:58.714Z"
   },
   {
    "duration": 7,
    "start_time": "2022-12-20T09:48:58.727Z"
   },
   {
    "duration": 8,
    "start_time": "2022-12-20T09:48:58.736Z"
   },
   {
    "duration": 183,
    "start_time": "2022-12-20T09:48:58.746Z"
   },
   {
    "duration": 6,
    "start_time": "2022-12-20T09:48:58.931Z"
   },
   {
    "duration": 9,
    "start_time": "2022-12-20T09:48:58.938Z"
   },
   {
    "duration": 169,
    "start_time": "2022-12-20T09:48:58.949Z"
   },
   {
    "duration": 351,
    "start_time": "2022-12-20T09:48:59.119Z"
   },
   {
    "duration": 11,
    "start_time": "2022-12-20T09:48:59.473Z"
   },
   {
    "duration": 17,
    "start_time": "2022-12-20T09:48:59.486Z"
   },
   {
    "duration": 627,
    "start_time": "2022-12-20T09:48:59.506Z"
   },
   {
    "duration": 97,
    "start_time": "2022-12-20T09:49:00.136Z"
   },
   {
    "duration": 9,
    "start_time": "2022-12-20T09:49:00.235Z"
   },
   {
    "duration": 209,
    "start_time": "2022-12-20T09:49:00.245Z"
   },
   {
    "duration": 19,
    "start_time": "2022-12-20T09:49:00.456Z"
   },
   {
    "duration": 404,
    "start_time": "2022-12-20T09:49:00.477Z"
   },
   {
    "duration": 142,
    "start_time": "2022-12-20T09:49:00.883Z"
   },
   {
    "duration": 176,
    "start_time": "2022-12-20T09:49:01.027Z"
   },
   {
    "duration": 6,
    "start_time": "2022-12-20T09:49:01.204Z"
   },
   {
    "duration": 35,
    "start_time": "2022-12-20T09:49:01.211Z"
   },
   {
    "duration": 86,
    "start_time": "2022-12-20T09:49:01.248Z"
   },
   {
    "duration": 10,
    "start_time": "2022-12-20T09:49:01.335Z"
   },
   {
    "duration": 17,
    "start_time": "2022-12-20T09:49:01.347Z"
   },
   {
    "duration": 9,
    "start_time": "2022-12-20T09:49:14.658Z"
   },
   {
    "duration": 342,
    "start_time": "2022-12-20T10:04:23.371Z"
   },
   {
    "duration": 353,
    "start_time": "2022-12-20T10:04:30.385Z"
   },
   {
    "duration": 265,
    "start_time": "2022-12-20T10:04:37.886Z"
   },
   {
    "duration": 194,
    "start_time": "2022-12-20T10:04:55.289Z"
   },
   {
    "duration": 205,
    "start_time": "2022-12-20T10:05:31.543Z"
   },
   {
    "duration": 290,
    "start_time": "2022-12-20T10:05:40.912Z"
   },
   {
    "duration": 320,
    "start_time": "2022-12-20T10:06:59.442Z"
   },
   {
    "duration": 265,
    "start_time": "2022-12-20T10:07:07.785Z"
   },
   {
    "duration": 333,
    "start_time": "2022-12-20T10:17:29.510Z"
   }
  ],
  "kernelspec": {
   "display_name": "Python 3 (ipykernel)",
   "language": "python",
   "name": "python3"
  },
  "language_info": {
   "codemirror_mode": {
    "name": "ipython",
    "version": 3
   },
   "file_extension": ".py",
   "mimetype": "text/x-python",
   "name": "python",
   "nbconvert_exporter": "python",
   "pygments_lexer": "ipython3",
   "version": "3.9.6"
  },
  "toc": {
   "base_numbering": 1,
   "nav_menu": {},
   "number_sections": true,
   "sideBar": true,
   "skip_h1_title": true,
   "title_cell": "Table of Contents",
   "title_sidebar": "Contents",
   "toc_cell": false,
   "toc_position": {},
   "toc_section_display": true,
   "toc_window_display": false
  }
 },
 "nbformat": 4,
 "nbformat_minor": 2
}
